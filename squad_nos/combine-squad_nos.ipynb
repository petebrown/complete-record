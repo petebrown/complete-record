{
 "cells": [
  {
   "cell_type": "code",
   "execution_count": 2,
   "metadata": {
    "vscode": {
     "languageId": "r"
    }
   },
   "outputs": [],
   "source": [
    "library(tidyverse)\n",
    "\n",
    "squad_nos_1 <- read_csv(\"./squad_nos-1999-2008.csv\", show_col_types = FALSE)\n",
    "squad_nos_2 <- read_csv(\"./squad_nos-2009-2023.csv\", show_col_types = FALSE)\n",
    "\n",
    "squad_nos <- bind_rows(squad_nos_1, squad_nos_2) %>%\n",
    "    arrange(\n",
    "        season,\n",
    "        squad_no,\n",
    "        player_name\n",
    "    )\n",
    "\n",
    "write_csv(squad_nos, \"./squad_nos.csv\")"
   ]
  },
  {
   "cell_type": "code",
   "execution_count": null,
   "metadata": {
    "vscode": {
     "languageId": "r"
    }
   },
   "outputs": [],
   "source": []
  }
 ],
 "metadata": {
  "kernelspec": {
   "display_name": "R",
   "language": "R",
   "name": "ir"
  },
  "language_info": {
   "codemirror_mode": "r",
   "file_extension": ".r",
   "mimetype": "text/x-r-source",
   "name": "R",
   "pygments_lexer": "r",
   "version": "4.3.0"
  },
  "orig_nbformat": 4
 },
 "nbformat": 4,
 "nbformat_minor": 2
}
