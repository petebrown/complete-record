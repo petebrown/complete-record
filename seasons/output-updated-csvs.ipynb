{
 "cells": [
  {
   "cell_type": "code",
   "execution_count": 4,
   "metadata": {
    "vscode": {
     "languageId": "r"
    }
   },
   "outputs": [],
   "source": [
    "library(tidyverse)\n",
    "\n",
    "yellows <- readr::read_csv(\"./manual/cards_yellow.csv\", show_col_types = FALSE)\n",
    "reds <- readr::read_csv(\"./manual/cards_red.csv\", show_col_types = FALSE)\n",
    "goal_mins <- readr::read_csv(\"./manual/goal_mins.csv\", show_col_types = FALSE) %>%\n",
    "    dplyr::mutate(\n",
    "        penalty = dplyr::case_when(\n",
    "            penalty == \"pen\" ~ 1,\n",
    "            TRUE ~ 0\n",
    "        ),\n",
    "        own_goal = dplyr::case_when(\n",
    "            player_name == \"OG\" ~ 1,\n",
    "            TRUE ~ 0\n",
    "        )\n",
    "    )\n",
    "sub_mins <- readr::read_csv(\"./manual/subs_missing_mins.csv\", show_col_types = FALSE)"
   ]
  },
  {
   "cell_type": "code",
   "execution_count": 5,
   "metadata": {
    "vscode": {
     "languageId": "r"
    }
   },
   "outputs": [],
   "source": [
    "subs <- sub_mins %>%\n",
    "    dplyr::filter(\n",
    "        !is.na(min_on) | !is.na(min_off)\n",
    "    ) %>%\n",
    "    dplyr::select(\n",
    "        game_date,\n",
    "        player_name,\n",
    "        min_on,\n",
    "        min_off\n",
    "    )\n",
    "\n",
    "cr_subs_and_reds <- dplyr::bind_rows(\n",
    "    subs,\n",
    "    reds\n",
    ") %>%\n",
    "dplyr::group_by(\n",
    "    game_date,\n",
    "    player_name\n",
    ") %>%\n",
    "dplyr::summarise(\n",
    "    min_on = sum(min_on, na.rm = TRUE),\n",
    "    min_off = sum(min_off, na.rm = TRUE),\n",
    "    min_so = sum(min_so, na.rm = TRUE),\n",
    "    .groups = \"drop\"\n",
    ") %>%\n",
    "dplyr::select(\n",
    "    game_date,\n",
    "    player_name,\n",
    "    min_on,\n",
    "    min_off,\n",
    "    min_so\n",
    ")"
   ]
  },
  {
   "cell_type": "code",
   "execution_count": 6,
   "metadata": {
    "vscode": {
     "languageId": "r"
    }
   },
   "outputs": [],
   "source": [
    "readr::write_csv(\n",
    "    cr_subs_and_reds,\n",
    "    \"../output/cr_subs_and_reds.csv\"\n",
    ")"
   ]
  },
  {
   "cell_type": "code",
   "execution_count": null,
   "metadata": {
    "vscode": {
     "languageId": "r"
    }
   },
   "outputs": [],
   "source": []
  }
 ],
 "metadata": {
  "kernelspec": {
   "display_name": "R",
   "language": "R",
   "name": "ir"
  },
  "language_info": {
   "codemirror_mode": "r",
   "file_extension": ".r",
   "mimetype": "text/x-r-source",
   "name": "R",
   "pygments_lexer": "r",
   "version": "4.3.0"
  },
  "orig_nbformat": 4
 },
 "nbformat": 4,
 "nbformat_minor": 2
}
