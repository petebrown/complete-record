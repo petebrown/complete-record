{
 "cells": [
  {
   "cell_type": "code",
   "execution_count": 33,
   "metadata": {
    "vscode": {
     "languageId": "r"
    }
   },
   "outputs": [
    {
     "data": {
      "text/html": [
       "<table class=\"dataframe\">\n",
       "<caption>A tibble: 6 x 7</caption>\n",
       "<thead>\n",
       "\t<tr><th scope=col>season</th><th scope=col>game_no</th><th scope=col>player_name</th><th scope=col>shirt_no</th><th scope=col>role</th><th scope=col>on_for</th><th scope=col>off_for</th></tr>\n",
       "\t<tr><th scope=col>&lt;chr&gt;</th><th scope=col>&lt;dbl&gt;</th><th scope=col>&lt;chr&gt;</th><th scope=col>&lt;dbl&gt;</th><th scope=col>&lt;chr&gt;</th><th scope=col>&lt;dbl&gt;</th><th scope=col>&lt;dbl&gt;</th></tr>\n",
       "</thead>\n",
       "<tbody>\n",
       "\t<tr><td>1990/91</td><td>1</td><td>Nixon    </td><td>1</td><td>starter</td><td>NA</td><td>NA</td></tr>\n",
       "\t<tr><td>1990/91</td><td>1</td><td>Mungall  </td><td>2</td><td>starter</td><td>NA</td><td>NA</td></tr>\n",
       "\t<tr><td>1990/91</td><td>1</td><td>McCarrick</td><td>3</td><td>starter</td><td>NA</td><td>NA</td></tr>\n",
       "\t<tr><td>1990/91</td><td>1</td><td>McNab    </td><td>4</td><td>starter</td><td>NA</td><td>NA</td></tr>\n",
       "\t<tr><td>1990/91</td><td>1</td><td>Hughes   </td><td>5</td><td>starter</td><td>NA</td><td>NA</td></tr>\n",
       "\t<tr><td>1990/91</td><td>1</td><td>Vickers  </td><td>6</td><td>starter</td><td>NA</td><td>NA</td></tr>\n",
       "</tbody>\n",
       "</table>\n"
      ],
      "text/latex": [
       "A tibble: 6 x 7\n",
       "\\begin{tabular}{lllllll}\n",
       " season & game\\_no & player\\_name & shirt\\_no & role & on\\_for & off\\_for\\\\\n",
       " <chr> & <dbl> & <chr> & <dbl> & <chr> & <dbl> & <dbl>\\\\\n",
       "\\hline\n",
       "\t 1990/91 & 1 & Nixon     & 1 & starter & NA & NA\\\\\n",
       "\t 1990/91 & 1 & Mungall   & 2 & starter & NA & NA\\\\\n",
       "\t 1990/91 & 1 & McCarrick & 3 & starter & NA & NA\\\\\n",
       "\t 1990/91 & 1 & McNab     & 4 & starter & NA & NA\\\\\n",
       "\t 1990/91 & 1 & Hughes    & 5 & starter & NA & NA\\\\\n",
       "\t 1990/91 & 1 & Vickers   & 6 & starter & NA & NA\\\\\n",
       "\\end{tabular}\n"
      ],
      "text/markdown": [
       "\n",
       "A tibble: 6 x 7\n",
       "\n",
       "| season &lt;chr&gt; | game_no &lt;dbl&gt; | player_name &lt;chr&gt; | shirt_no &lt;dbl&gt; | role &lt;chr&gt; | on_for &lt;dbl&gt; | off_for &lt;dbl&gt; |\n",
       "|---|---|---|---|---|---|---|\n",
       "| 1990/91 | 1 | Nixon     | 1 | starter | NA | NA |\n",
       "| 1990/91 | 1 | Mungall   | 2 | starter | NA | NA |\n",
       "| 1990/91 | 1 | McCarrick | 3 | starter | NA | NA |\n",
       "| 1990/91 | 1 | McNab     | 4 | starter | NA | NA |\n",
       "| 1990/91 | 1 | Hughes    | 5 | starter | NA | NA |\n",
       "| 1990/91 | 1 | Vickers   | 6 | starter | NA | NA |\n",
       "\n"
      ],
      "text/plain": [
       "  season  game_no player_name shirt_no role    on_for off_for\n",
       "1 1990/91 1       Nixon       1        starter NA     NA     \n",
       "2 1990/91 1       Mungall     2        starter NA     NA     \n",
       "3 1990/91 1       McCarrick   3        starter NA     NA     \n",
       "4 1990/91 1       McNab       4        starter NA     NA     \n",
       "5 1990/91 1       Hughes      5        starter NA     NA     \n",
       "6 1990/91 1       Vickers     6        starter NA     NA     "
      ]
     },
     "metadata": {},
     "output_type": "display_data"
    }
   ],
   "source": [
    "library(tidyverse)\n",
    "\n",
    "results_df <- read_csv(\"https://raw.githubusercontent.com/petebrown/update-results/main/data/results_df.csv\", show_col_types = FALSE)\n",
    "df <- read_csv(\"../output/apps_long.csv\", show_col_types = FALSE)\n",
    "head(df)"
   ]
  },
  {
   "cell_type": "code",
   "execution_count": 34,
   "metadata": {
    "vscode": {
     "languageId": "r"
    }
   },
   "outputs": [
    {
     "data": {
      "text/html": [
       "<table class=\"dataframe\">\n",
       "<caption>A tibble: 8 x 15</caption>\n",
       "<thead>\n",
       "\t<tr><th scope=col>season</th><th scope=col>generic_comp</th><th scope=col>role</th><th scope=col>Martindale</th><th scope=col>McGreal</th><th scope=col>McNab</th><th scope=col>Morrissey</th><th scope=col>Muir</th><th scope=col>Mungall</th><th scope=col>Nevin</th><th scope=col>Nixon</th><th scope=col>Nolan</th><th scope=col>Steel</th><th scope=col>Thomas</th><th scope=col>Vickers</th></tr>\n",
       "\t<tr><th scope=col>&lt;chr&gt;</th><th scope=col>&lt;fct&gt;</th><th scope=col>&lt;chr&gt;</th><th scope=col>&lt;int&gt;</th><th scope=col>&lt;int&gt;</th><th scope=col>&lt;int&gt;</th><th scope=col>&lt;int&gt;</th><th scope=col>&lt;int&gt;</th><th scope=col>&lt;int&gt;</th><th scope=col>&lt;int&gt;</th><th scope=col>&lt;int&gt;</th><th scope=col>&lt;int&gt;</th><th scope=col>&lt;int&gt;</th><th scope=col>&lt;int&gt;</th><th scope=col>&lt;int&gt;</th></tr>\n",
       "</thead>\n",
       "<tbody>\n",
       "\t<tr><td>1991/92</td><td>Football League  </td><td>starter</td><td>29</td><td>3</td><td>3</td><td>40</td><td>13</td><td>17</td><td>8</td><td>46</td><td>34</td><td>16</td><td>30</td><td>43</td></tr>\n",
       "\t<tr><td>1991/92</td><td>Football League  </td><td>sub    </td><td> 2</td><td>0</td><td>9</td><td> 0</td><td> 7</td><td> 1</td><td>0</td><td> 0</td><td> 0</td><td> 5</td><td> 0</td><td> 0</td></tr>\n",
       "\t<tr><td>1991/92</td><td>FA Cup           </td><td>starter</td><td> 1</td><td>0</td><td>1</td><td> 4</td><td> 0</td><td> 2</td><td>0</td><td> 3</td><td> 4</td><td> 0</td><td> 0</td><td> 4</td></tr>\n",
       "\t<tr><td>1991/92</td><td>FA Cup           </td><td>sub    </td><td> 1</td><td>0</td><td>1</td><td> 0</td><td> 0</td><td> 0</td><td>0</td><td> 0</td><td> 0</td><td> 1</td><td> 0</td><td> 0</td></tr>\n",
       "\t<tr><td>1991/92</td><td>League Cup       </td><td>starter</td><td> 5</td><td>0</td><td>0</td><td> 5</td><td> 0</td><td> 2</td><td>0</td><td> 5</td><td> 0</td><td> 5</td><td> 3</td><td> 3</td></tr>\n",
       "\t<tr><td>1991/92</td><td>League Cup       </td><td>sub    </td><td> 0</td><td>0</td><td>2</td><td> 0</td><td> 0</td><td> 0</td><td>0</td><td> 0</td><td> 0</td><td> 0</td><td> 0</td><td> 0</td></tr>\n",
       "\t<tr><td>1991/92</td><td>Full Members' Cup</td><td>starter</td><td> 3</td><td>0</td><td>2</td><td> 3</td><td> 0</td><td> 1</td><td>0</td><td> 4</td><td> 2</td><td> 3</td><td> 0</td><td> 4</td></tr>\n",
       "\t<tr><td>1991/92</td><td>Full Members' Cup</td><td>sub    </td><td> 0</td><td>0</td><td>0</td><td> 0</td><td> 0</td><td> 1</td><td>0</td><td> 0</td><td> 0</td><td> 0</td><td> 0</td><td> 0</td></tr>\n",
       "</tbody>\n",
       "</table>\n"
      ],
      "text/latex": [
       "A tibble: 8 x 15\n",
       "\\begin{tabular}{lllllllllllllll}\n",
       " season & generic\\_comp & role & Martindale & McGreal & McNab & Morrissey & Muir & Mungall & Nevin & Nixon & Nolan & Steel & Thomas & Vickers\\\\\n",
       " <chr> & <fct> & <chr> & <int> & <int> & <int> & <int> & <int> & <int> & <int> & <int> & <int> & <int> & <int> & <int>\\\\\n",
       "\\hline\n",
       "\t 1991/92 & Football League   & starter & 29 & 3 & 3 & 40 & 13 & 17 & 8 & 46 & 34 & 16 & 30 & 43\\\\\n",
       "\t 1991/92 & Football League   & sub     &  2 & 0 & 9 &  0 &  7 &  1 & 0 &  0 &  0 &  5 &  0 &  0\\\\\n",
       "\t 1991/92 & FA Cup            & starter &  1 & 0 & 1 &  4 &  0 &  2 & 0 &  3 &  4 &  0 &  0 &  4\\\\\n",
       "\t 1991/92 & FA Cup            & sub     &  1 & 0 & 1 &  0 &  0 &  0 & 0 &  0 &  0 &  1 &  0 &  0\\\\\n",
       "\t 1991/92 & League Cup        & starter &  5 & 0 & 0 &  5 &  0 &  2 & 0 &  5 &  0 &  5 &  3 &  3\\\\\n",
       "\t 1991/92 & League Cup        & sub     &  0 & 0 & 2 &  0 &  0 &  0 & 0 &  0 &  0 &  0 &  0 &  0\\\\\n",
       "\t 1991/92 & Full Members' Cup & starter &  3 & 0 & 2 &  3 &  0 &  1 & 0 &  4 &  2 &  3 &  0 &  4\\\\\n",
       "\t 1991/92 & Full Members' Cup & sub     &  0 & 0 & 0 &  0 &  0 &  1 & 0 &  0 &  0 &  0 &  0 &  0\\\\\n",
       "\\end{tabular}\n"
      ],
      "text/markdown": [
       "\n",
       "A tibble: 8 x 15\n",
       "\n",
       "| season &lt;chr&gt; | generic_comp &lt;fct&gt; | role &lt;chr&gt; | Martindale &lt;int&gt; | McGreal &lt;int&gt; | McNab &lt;int&gt; | Morrissey &lt;int&gt; | Muir &lt;int&gt; | Mungall &lt;int&gt; | Nevin &lt;int&gt; | Nixon &lt;int&gt; | Nolan &lt;int&gt; | Steel &lt;int&gt; | Thomas &lt;int&gt; | Vickers &lt;int&gt; |\n",
       "|---|---|---|---|---|---|---|---|---|---|---|---|---|---|---|\n",
       "| 1991/92 | Football League   | starter | 29 | 3 | 3 | 40 | 13 | 17 | 8 | 46 | 34 | 16 | 30 | 43 |\n",
       "| 1991/92 | Football League   | sub     |  2 | 0 | 9 |  0 |  7 |  1 | 0 |  0 |  0 |  5 |  0 |  0 |\n",
       "| 1991/92 | FA Cup            | starter |  1 | 0 | 1 |  4 |  0 |  2 | 0 |  3 |  4 |  0 |  0 |  4 |\n",
       "| 1991/92 | FA Cup            | sub     |  1 | 0 | 1 |  0 |  0 |  0 | 0 |  0 |  0 |  1 |  0 |  0 |\n",
       "| 1991/92 | League Cup        | starter |  5 | 0 | 0 |  5 |  0 |  2 | 0 |  5 |  0 |  5 |  3 |  3 |\n",
       "| 1991/92 | League Cup        | sub     |  0 | 0 | 2 |  0 |  0 |  0 | 0 |  0 |  0 |  0 |  0 |  0 |\n",
       "| 1991/92 | Full Members' Cup | starter |  3 | 0 | 2 |  3 |  0 |  1 | 0 |  4 |  2 |  3 |  0 |  4 |\n",
       "| 1991/92 | Full Members' Cup | sub     |  0 | 0 | 0 |  0 |  0 |  1 | 0 |  0 |  0 |  0 |  0 |  0 |\n",
       "\n"
      ],
      "text/plain": [
       "  season  generic_comp      role    Martindale McGreal McNab Morrissey Muir\n",
       "1 1991/92 Football League   starter 29         3       3     40        13  \n",
       "2 1991/92 Football League   sub      2         0       9      0         7  \n",
       "3 1991/92 FA Cup            starter  1         0       1      4         0  \n",
       "4 1991/92 FA Cup            sub      1         0       1      0         0  \n",
       "5 1991/92 League Cup        starter  5         0       0      5         0  \n",
       "6 1991/92 League Cup        sub      0         0       2      0         0  \n",
       "7 1991/92 Full Members' Cup starter  3         0       2      3         0  \n",
       "8 1991/92 Full Members' Cup sub      0         0       0      0         0  \n",
       "  Mungall Nevin Nixon Nolan Steel Thomas Vickers\n",
       "1 17      8     46    34    16    30     43     \n",
       "2  1      0      0     0     5     0      0     \n",
       "3  2      0      3     4     0     0      4     \n",
       "4  0      0      0     0     1     0      0     \n",
       "5  2      0      5     0     5     3      3     \n",
       "6  0      0      0     0     0     0      0     \n",
       "7  1      0      4     2     3     0      4     \n",
       "8  1      0      0     0     0     0      0     "
      ]
     },
     "metadata": {},
     "output_type": "display_data"
    }
   ],
   "source": [
    "df %>%\n",
    "    left_join(\n",
    "        results_df %>%\n",
    "        mutate(generic_comp = ifelse(str_detect(competition, \"lay\"), \"Play-Off\", generic_comp)) %>%\n",
    "        select(season, ssn_game_no, opposition, venue, outcome, score, generic_comp),\n",
    "        by = c(\"season\" = \"season\", \"game_no\" = \"ssn_game_no\")\n",
    "    ) %>%\n",
    "    group_by(season, player_name, generic_comp, role) %>%\n",
    "    mutate(\n",
    "        generic_comp = factor(generic_comp, levels = c(\"Football League\", \"FA Cup\", \"League Cup\", \"Play-Off\", \"Associate Members' Cup\", \"Full Members' Cup\"))\n",
    "    ) %>%\n",
    "    summarise(\n",
    "        appearances = n(),\n",
    "        .groups = \"drop\"\n",
    "    ) %>%\n",
    "    filter(\n",
    "        season == \"1991/92\",\n",
    "        player_name > \"Malkin\"\n",
    "    ) %>%\n",
    "    pivot_wider(\n",
    "        names_from = player_name,\n",
    "        values_from = appearances,\n",
    "        values_fill = 0\n",
    "    ) %>%\n",
    "    arrange(generic_comp, role)\n",
    "\n"
   ]
  },
  {
   "cell_type": "code",
   "execution_count": 35,
   "metadata": {
    "vscode": {
     "languageId": "r"
    }
   },
   "outputs": [],
   "source": [
    "df <- read_csv(\"../output/player_stats.csv\", show_col_types = FALSE)\n",
    "\n",
    "df %>% select(prev_club) %>% distinct() %>% arrange(prev_club) %>% write_csv(\"clubs.csv\")"
   ]
  },
  {
   "cell_type": "code",
   "execution_count": null,
   "metadata": {
    "vscode": {
     "languageId": "r"
    }
   },
   "outputs": [],
   "source": []
  }
 ],
 "metadata": {
  "kernelspec": {
   "display_name": "R",
   "language": "R",
   "name": "ir"
  },
  "language_info": {
   "codemirror_mode": "r",
   "file_extension": ".r",
   "mimetype": "text/x-r-source",
   "name": "R",
   "pygments_lexer": "r",
   "version": "4.3.0"
  },
  "orig_nbformat": 4
 },
 "nbformat": 4,
 "nbformat_minor": 2
}
