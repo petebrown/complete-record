{
 "cells": [
  {
   "cell_type": "code",
   "execution_count": 3,
   "metadata": {
    "vscode": {
     "languageId": "r"
    }
   },
   "outputs": [
    {
     "data": {
      "text/html": [
       "<table class=\"dataframe\">\n",
       "<caption>A tibble: 6 × 7</caption>\n",
       "<thead>\n",
       "\t<tr><th scope=col>season</th><th scope=col>game_no</th><th scope=col>player_name</th><th scope=col>shirt_no</th><th scope=col>role</th><th scope=col>on_for</th><th scope=col>off_for</th></tr>\n",
       "\t<tr><th scope=col>&lt;chr&gt;</th><th scope=col>&lt;dbl&gt;</th><th scope=col>&lt;chr&gt;</th><th scope=col>&lt;dbl&gt;</th><th scope=col>&lt;chr&gt;</th><th scope=col>&lt;dbl&gt;</th><th scope=col>&lt;dbl&gt;</th></tr>\n",
       "</thead>\n",
       "<tbody>\n",
       "\t<tr><td>1989/90</td><td>1</td><td>Nixon    </td><td>1</td><td>starter</td><td>NA</td><td>NA</td></tr>\n",
       "\t<tr><td>1989/90</td><td>1</td><td>Higgins  </td><td>2</td><td>starter</td><td>NA</td><td>NA</td></tr>\n",
       "\t<tr><td>1989/90</td><td>1</td><td>McCarrick</td><td>3</td><td>starter</td><td>NA</td><td>NA</td></tr>\n",
       "\t<tr><td>1989/90</td><td>1</td><td>Bishop   </td><td>4</td><td>starter</td><td>NA</td><td>NA</td></tr>\n",
       "\t<tr><td>1989/90</td><td>1</td><td>Hughes   </td><td>5</td><td>starter</td><td>NA</td><td>NA</td></tr>\n",
       "\t<tr><td>1989/90</td><td>1</td><td>Vickers  </td><td>6</td><td>starter</td><td>NA</td><td>NA</td></tr>\n",
       "</tbody>\n",
       "</table>\n"
      ],
      "text/latex": [
       "A tibble: 6 × 7\n",
       "\\begin{tabular}{lllllll}\n",
       " season & game\\_no & player\\_name & shirt\\_no & role & on\\_for & off\\_for\\\\\n",
       " <chr> & <dbl> & <chr> & <dbl> & <chr> & <dbl> & <dbl>\\\\\n",
       "\\hline\n",
       "\t 1989/90 & 1 & Nixon     & 1 & starter & NA & NA\\\\\n",
       "\t 1989/90 & 1 & Higgins   & 2 & starter & NA & NA\\\\\n",
       "\t 1989/90 & 1 & McCarrick & 3 & starter & NA & NA\\\\\n",
       "\t 1989/90 & 1 & Bishop    & 4 & starter & NA & NA\\\\\n",
       "\t 1989/90 & 1 & Hughes    & 5 & starter & NA & NA\\\\\n",
       "\t 1989/90 & 1 & Vickers   & 6 & starter & NA & NA\\\\\n",
       "\\end{tabular}\n"
      ],
      "text/markdown": [
       "\n",
       "A tibble: 6 × 7\n",
       "\n",
       "| season &lt;chr&gt; | game_no &lt;dbl&gt; | player_name &lt;chr&gt; | shirt_no &lt;dbl&gt; | role &lt;chr&gt; | on_for &lt;dbl&gt; | off_for &lt;dbl&gt; |\n",
       "|---|---|---|---|---|---|---|\n",
       "| 1989/90 | 1 | Nixon     | 1 | starter | NA | NA |\n",
       "| 1989/90 | 1 | Higgins   | 2 | starter | NA | NA |\n",
       "| 1989/90 | 1 | McCarrick | 3 | starter | NA | NA |\n",
       "| 1989/90 | 1 | Bishop    | 4 | starter | NA | NA |\n",
       "| 1989/90 | 1 | Hughes    | 5 | starter | NA | NA |\n",
       "| 1989/90 | 1 | Vickers   | 6 | starter | NA | NA |\n",
       "\n"
      ],
      "text/plain": [
       "  season  game_no player_name shirt_no role    on_for off_for\n",
       "1 1989/90 1       Nixon       1        starter NA     NA     \n",
       "2 1989/90 1       Higgins     2        starter NA     NA     \n",
       "3 1989/90 1       McCarrick   3        starter NA     NA     \n",
       "4 1989/90 1       Bishop      4        starter NA     NA     \n",
       "5 1989/90 1       Hughes      5        starter NA     NA     \n",
       "6 1989/90 1       Vickers     6        starter NA     NA     "
      ]
     },
     "metadata": {},
     "output_type": "display_data"
    }
   ],
   "source": [
    "library(tidyverse)\n",
    "\n",
    "results_df <- read_csv(\"https://raw.githubusercontent.com/petebrown/update-results/main/data/results_df.csv\", show_col_types = FALSE)\n",
    "df <- read_csv(\"../output/apps_long.csv\", show_col_types = FALSE)\n",
    "head(df)"
   ]
  },
  {
   "cell_type": "code",
   "execution_count": 7,
   "metadata": {
    "vscode": {
     "languageId": "r"
    }
   },
   "outputs": [
    {
     "data": {
      "text/html": [
       "<table class=\"dataframe\">\n",
       "<caption>A tibble: 8 × 14</caption>\n",
       "<thead>\n",
       "\t<tr><th scope=col>season</th><th scope=col>generic_comp</th><th scope=col>role</th><th scope=col>Martindale</th><th scope=col>McCarrick</th><th scope=col>McNab</th><th scope=col>Morrissey</th><th scope=col>Muir</th><th scope=col>Mungall</th><th scope=col>Nixon</th><th scope=col>Pike</th><th scope=col>Steel</th><th scope=col>Thomas</th><th scope=col>Vickers</th></tr>\n",
       "\t<tr><th scope=col>&lt;chr&gt;</th><th scope=col>&lt;fct&gt;</th><th scope=col>&lt;chr&gt;</th><th scope=col>&lt;int&gt;</th><th scope=col>&lt;int&gt;</th><th scope=col>&lt;int&gt;</th><th scope=col>&lt;int&gt;</th><th scope=col>&lt;int&gt;</th><th scope=col>&lt;int&gt;</th><th scope=col>&lt;int&gt;</th><th scope=col>&lt;int&gt;</th><th scope=col>&lt;int&gt;</th><th scope=col>&lt;int&gt;</th><th scope=col>&lt;int&gt;</th></tr>\n",
       "</thead>\n",
       "<tbody>\n",
       "\t<tr><td>1989/90</td><td>Football League       </td><td>starter</td><td>13</td><td>32</td><td>22</td><td>24</td><td>46</td><td>16</td><td>46</td><td>2</td><td>29</td><td>42</td><td>42</td></tr>\n",
       "\t<tr><td>1989/90</td><td>Football League       </td><td>sub    </td><td> 7</td><td> 0</td><td> 0</td><td> 3</td><td> 0</td><td> 1</td><td> 0</td><td>0</td><td> 7</td><td> 0</td><td> 0</td></tr>\n",
       "\t<tr><td>1989/90</td><td>FA Cup                </td><td>starter</td><td> 0</td><td> 0</td><td> 0</td><td> 1</td><td> 1</td><td> 1</td><td> 1</td><td>1</td><td> 1</td><td> 0</td><td> 1</td></tr>\n",
       "\t<tr><td>1989/90</td><td>League Cup            </td><td>starter</td><td> 3</td><td> 5</td><td> 0</td><td> 6</td><td> 7</td><td> 2</td><td> 7</td><td>2</td><td> 3</td><td> 5</td><td> 5</td></tr>\n",
       "\t<tr><td>1989/90</td><td>League Cup            </td><td>sub    </td><td> 3</td><td> 0</td><td> 0</td><td> 0</td><td> 0</td><td> 0</td><td> 0</td><td>0</td><td> 2</td><td> 0</td><td> 0</td></tr>\n",
       "\t<tr><td>1989/90</td><td>Play-Off              </td><td>starter</td><td> 0</td><td> 0</td><td> 3</td><td> 0</td><td> 3</td><td> 3</td><td> 3</td><td>0</td><td> 3</td><td> 3</td><td> 3</td></tr>\n",
       "\t<tr><td>1989/90</td><td>Associate Members' Cup</td><td>starter</td><td> 2</td><td> 5</td><td> 6</td><td> 4</td><td> 8</td><td> 5</td><td> 8</td><td>0</td><td> 7</td><td> 7</td><td> 7</td></tr>\n",
       "\t<tr><td>1989/90</td><td>Associate Members' Cup</td><td>sub    </td><td> 0</td><td> 0</td><td> 0</td><td> 1</td><td> 0</td><td> 0</td><td> 0</td><td>0</td><td> 0</td><td> 0</td><td> 0</td></tr>\n",
       "</tbody>\n",
       "</table>\n"
      ],
      "text/latex": [
       "A tibble: 8 × 14\n",
       "\\begin{tabular}{llllllllllllll}\n",
       " season & generic\\_comp & role & Martindale & McCarrick & McNab & Morrissey & Muir & Mungall & Nixon & Pike & Steel & Thomas & Vickers\\\\\n",
       " <chr> & <fct> & <chr> & <int> & <int> & <int> & <int> & <int> & <int> & <int> & <int> & <int> & <int> & <int>\\\\\n",
       "\\hline\n",
       "\t 1989/90 & Football League        & starter & 13 & 32 & 22 & 24 & 46 & 16 & 46 & 2 & 29 & 42 & 42\\\\\n",
       "\t 1989/90 & Football League        & sub     &  7 &  0 &  0 &  3 &  0 &  1 &  0 & 0 &  7 &  0 &  0\\\\\n",
       "\t 1989/90 & FA Cup                 & starter &  0 &  0 &  0 &  1 &  1 &  1 &  1 & 1 &  1 &  0 &  1\\\\\n",
       "\t 1989/90 & League Cup             & starter &  3 &  5 &  0 &  6 &  7 &  2 &  7 & 2 &  3 &  5 &  5\\\\\n",
       "\t 1989/90 & League Cup             & sub     &  3 &  0 &  0 &  0 &  0 &  0 &  0 & 0 &  2 &  0 &  0\\\\\n",
       "\t 1989/90 & Play-Off               & starter &  0 &  0 &  3 &  0 &  3 &  3 &  3 & 0 &  3 &  3 &  3\\\\\n",
       "\t 1989/90 & Associate Members' Cup & starter &  2 &  5 &  6 &  4 &  8 &  5 &  8 & 0 &  7 &  7 &  7\\\\\n",
       "\t 1989/90 & Associate Members' Cup & sub     &  0 &  0 &  0 &  1 &  0 &  0 &  0 & 0 &  0 &  0 &  0\\\\\n",
       "\\end{tabular}\n"
      ],
      "text/markdown": [
       "\n",
       "A tibble: 8 × 14\n",
       "\n",
       "| season &lt;chr&gt; | generic_comp &lt;fct&gt; | role &lt;chr&gt; | Martindale &lt;int&gt; | McCarrick &lt;int&gt; | McNab &lt;int&gt; | Morrissey &lt;int&gt; | Muir &lt;int&gt; | Mungall &lt;int&gt; | Nixon &lt;int&gt; | Pike &lt;int&gt; | Steel &lt;int&gt; | Thomas &lt;int&gt; | Vickers &lt;int&gt; |\n",
       "|---|---|---|---|---|---|---|---|---|---|---|---|---|---|\n",
       "| 1989/90 | Football League        | starter | 13 | 32 | 22 | 24 | 46 | 16 | 46 | 2 | 29 | 42 | 42 |\n",
       "| 1989/90 | Football League        | sub     |  7 |  0 |  0 |  3 |  0 |  1 |  0 | 0 |  7 |  0 |  0 |\n",
       "| 1989/90 | FA Cup                 | starter |  0 |  0 |  0 |  1 |  1 |  1 |  1 | 1 |  1 |  0 |  1 |\n",
       "| 1989/90 | League Cup             | starter |  3 |  5 |  0 |  6 |  7 |  2 |  7 | 2 |  3 |  5 |  5 |\n",
       "| 1989/90 | League Cup             | sub     |  3 |  0 |  0 |  0 |  0 |  0 |  0 | 0 |  2 |  0 |  0 |\n",
       "| 1989/90 | Play-Off               | starter |  0 |  0 |  3 |  0 |  3 |  3 |  3 | 0 |  3 |  3 |  3 |\n",
       "| 1989/90 | Associate Members' Cup | starter |  2 |  5 |  6 |  4 |  8 |  5 |  8 | 0 |  7 |  7 |  7 |\n",
       "| 1989/90 | Associate Members' Cup | sub     |  0 |  0 |  0 |  1 |  0 |  0 |  0 | 0 |  0 |  0 |  0 |\n",
       "\n"
      ],
      "text/plain": [
       "  season  generic_comp           role    Martindale McCarrick McNab Morrissey\n",
       "1 1989/90 Football League        starter 13         32        22    24       \n",
       "2 1989/90 Football League        sub      7          0         0     3       \n",
       "3 1989/90 FA Cup                 starter  0          0         0     1       \n",
       "4 1989/90 League Cup             starter  3          5         0     6       \n",
       "5 1989/90 League Cup             sub      3          0         0     0       \n",
       "6 1989/90 Play-Off               starter  0          0         3     0       \n",
       "7 1989/90 Associate Members' Cup starter  2          5         6     4       \n",
       "8 1989/90 Associate Members' Cup sub      0          0         0     1       \n",
       "  Muir Mungall Nixon Pike Steel Thomas Vickers\n",
       "1 46   16      46    2    29    42     42     \n",
       "2  0    1       0    0     7     0      0     \n",
       "3  1    1       1    1     1     0      1     \n",
       "4  7    2       7    2     3     5      5     \n",
       "5  0    0       0    0     2     0      0     \n",
       "6  3    3       3    0     3     3      3     \n",
       "7  8    5       8    0     7     7      7     \n",
       "8  0    0       0    0     0     0      0     "
      ]
     },
     "metadata": {},
     "output_type": "display_data"
    }
   ],
   "source": [
    "df %>%\n",
    "    left_join(\n",
    "        results_df %>%\n",
    "        mutate(generic_comp = ifelse(str_detect(competition, \"lay\"), \"Play-Off\", generic_comp)) %>%\n",
    "        select(season, ssn_game_no, opposition, venue, outcome, score, generic_comp),\n",
    "        by = c(\"season\" = \"season\", \"game_no\" = \"ssn_game_no\")\n",
    "    ) %>%\n",
    "    group_by(season, player_name, generic_comp, role) %>%\n",
    "    mutate(\n",
    "        generic_comp = factor(generic_comp, levels = c(\"Football League\", \"FA Cup\", \"League Cup\", \"Play-Off\", \"Associate Members' Cup\", \"Full Members' Cup\"))\n",
    "    ) %>%\n",
    "    summarise(\n",
    "        appearances = n(),\n",
    "        .groups = \"drop\"\n",
    "    ) %>%\n",
    "    filter(\n",
    "        season == \"1989/90\",\n",
    "        player_name > \"Malkin\"\n",
    "    ) %>%\n",
    "    pivot_wider(\n",
    "        names_from = player_name,\n",
    "        values_from = appearances,\n",
    "        values_fill = 0\n",
    "    ) %>%\n",
    "    arrange(generic_comp, role)\n",
    "\n"
   ]
  },
  {
   "cell_type": "code",
   "execution_count": 2,
   "metadata": {
    "vscode": {
     "languageId": "r"
    }
   },
   "outputs": [
    {
     "data": {
      "text/html": [
       "<table class=\"dataframe\">\n",
       "<caption>A spec_tbl_df: 0 × 7</caption>\n",
       "<thead>\n",
       "\t<tr><th scope=col>season</th><th scope=col>game_no</th><th scope=col>player_name</th><th scope=col>shirt_no</th><th scope=col>role</th><th scope=col>on_for</th><th scope=col>off_for</th></tr>\n",
       "\t<tr><th scope=col>&lt;chr&gt;</th><th scope=col>&lt;dbl&gt;</th><th scope=col>&lt;chr&gt;</th><th scope=col>&lt;dbl&gt;</th><th scope=col>&lt;chr&gt;</th><th scope=col>&lt;dbl&gt;</th><th scope=col>&lt;dbl&gt;</th></tr>\n",
       "</thead>\n",
       "<tbody>\n",
       "</tbody>\n",
       "</table>\n"
      ],
      "text/latex": [
       "A spec\\_tbl\\_df: 0 × 7\n",
       "\\begin{tabular}{lllllll}\n",
       " season & game\\_no & player\\_name & shirt\\_no & role & on\\_for & off\\_for\\\\\n",
       " <chr> & <dbl> & <chr> & <dbl> & <chr> & <dbl> & <dbl>\\\\\n",
       "\\hline\n",
       "\\end{tabular}\n"
      ],
      "text/markdown": [
       "\n",
       "A spec_tbl_df: 0 × 7\n",
       "\n",
       "| season &lt;chr&gt; | game_no &lt;dbl&gt; | player_name &lt;chr&gt; | shirt_no &lt;dbl&gt; | role &lt;chr&gt; | on_for &lt;dbl&gt; | off_for &lt;dbl&gt; |\n",
       "|---|---|---|---|---|---|---|\n",
       "\n"
      ],
      "text/plain": [
       "     season game_no player_name shirt_no role on_for off_for"
      ]
     },
     "metadata": {},
     "output_type": "display_data"
    }
   ],
   "source": [
    "df %>%\n",
    "    filter(is.na(role))"
   ]
  },
  {
   "cell_type": "code",
   "execution_count": null,
   "metadata": {
    "vscode": {
     "languageId": "r"
    }
   },
   "outputs": [],
   "source": []
  }
 ],
 "metadata": {
  "kernelspec": {
   "display_name": "R",
   "language": "R",
   "name": "ir"
  },
  "language_info": {
   "codemirror_mode": "r",
   "file_extension": ".r",
   "mimetype": "text/x-r-source",
   "name": "R",
   "pygments_lexer": "r",
   "version": "4.3.0"
  },
  "orig_nbformat": 4
 },
 "nbformat": 4,
 "nbformat_minor": 2
}
