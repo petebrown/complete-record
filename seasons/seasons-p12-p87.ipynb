{
 "cells": [
  {
   "cell_type": "code",
   "execution_count": 13,
   "metadata": {
    "vscode": {
     "languageId": "r"
    }
   },
   "outputs": [],
   "source": [
    "library(tidyverse)\n",
    "\n",
    "results_df <- read_csv(\"https://raw.githubusercontent.com/petebrown/update-results/main/data/results_df.csv\", show_col_types = FALSE)\n",
    "\n",
    "read_ssn <- function(year) {\n",
    "    ssn_start <- year\n",
    "    ssn_end <- substr(as.character(year + 1), 3, 4)\n",
    "\n",
    "    file_path = paste0(\"./csv/\", ssn_start, \"-\", ssn_end, \".csv\")\n",
    "    read_csv(file_path, show_col_types = FALSE) %>%\n",
    "    mutate(\n",
    "        season = paste0(ssn_start, \"/\", ssn_end),\n",
    "        game_no = row_number()\n",
    "    ) %>%\n",
    "    select(-starts_with(\"...\"))\n",
    "}\n",
    "\n",
    "s90_91 <- read_ssn(1990)\n",
    "s91_92 <- read_ssn(1991)\n",
    "s92_93 <- read_ssn(1992)\n",
    "s93_94 <- read_ssn(1993)\n",
    "s94_95 <- read_ssn(1994)\n",
    "s95_96 <- read_ssn(1995)"
   ]
  },
  {
   "cell_type": "code",
   "execution_count": 14,
   "metadata": {
    "vscode": {
     "languageId": "r"
    }
   },
   "outputs": [],
   "source": [
    "df_to_long <- function(ssn_df) {\n",
    "    results_df %>%\n",
    "    select(\n",
    "        season,\n",
    "        ssn_game_no,\n",
    "        game_date,\n",
    "        competition,\n",
    "        venue,\n",
    "        opposition,\n",
    "        outcome,\n",
    "        score,\n",
    "        attendance\n",
    "    ) %>%\n",
    "    rename(\n",
    "        game_no = ssn_game_no\n",
    "    ) %>%\n",
    "    inner_join(\n",
    "        ssn_df,\n",
    "        by = c(\"season\", \"game_no\")\n",
    "    ) %>%\n",
    "    arrange(\n",
    "        game_date\n",
    "    ) %>%\n",
    "        mutate(\n",
    "        across(-game_no, as.character)\n",
    "    ) %>%\n",
    "    select(\n",
    "        -game_date,\n",
    "        -venue,\n",
    "        -opposition,\n",
    "        -outcome,\n",
    "        -score,\n",
    "        -attendance\n",
    "    ) %>%\n",
    "    pivot_longer(\n",
    "        cols = -c(\"season\", \"competition\", \"game_no\"),\n",
    "        names_to = \"player_name\",\n",
    "        values_to = \"appearance\"\n",
    "    ) %>%\n",
    "    filter(\n",
    "        !is.na(appearance)\n",
    "    ) %>%\n",
    "    mutate(\n",
    "        off_for = case_when(\n",
    "            str_detect(appearance, \"\\\\*\") ~ \"12\",\n",
    "            str_detect(appearance, \"#\") ~ \"13\",\n",
    "            str_detect(appearance, \"\\\\+\") ~ \"14\",\n",
    "            .default = NA_character_\n",
    "        ),\n",
    "        off_for = as.numeric(off_for),\n",
    "        shirt_no = str_remove_all(appearance, \"\\\\*|\\\\+|\\\\#\"),\n",
    "        shirt_no = as.numeric(shirt_no),\n",
    "        role = ifelse(shirt_no <= 11, \"starter\", \"sub\")\n",
    "    ) %>%\n",
    "    arrange(\n",
    "        game_no,\n",
    "        shirt_no\n",
    "    )\n",
    "}\n",
    "\n",
    "s90_91_long <- df_to_long(s90_91)\n",
    "s91_92_long <- df_to_long(s91_92)\n",
    "s92_93_long <- df_to_long(s92_93)\n",
    "s93_94_long <- df_to_long(s93_94)\n",
    "s94_95_long <- df_to_long(s94_95)\n",
    "s95_96_long <- df_to_long(s95_96)\n",
    "\n",
    "long_ssns <- rbind(s90_91_long, s91_92_long, s92_93_long, s93_94_long, s94_95_long, s95_96_long)"
   ]
  },
  {
   "cell_type": "code",
   "execution_count": 15,
   "metadata": {
    "vscode": {
     "languageId": "r"
    }
   },
   "outputs": [],
   "source": [
    "final_ssn_df <- long_ssns %>%\n",
    "    left_join(\n",
    "        long_ssns %>%\n",
    "        filter(\n",
    "            !is.na(off_for) | role == \"sub\"\n",
    "        )  %>%\n",
    "        select(\n",
    "            season,\n",
    "            game_no,\n",
    "            shirt_no,\n",
    "            off_for\n",
    "        ),\n",
    "    by = c(\n",
    "        \"season\" = \"season\",\n",
    "        \"game_no\" = \"game_no\",\n",
    "        \"shirt_no\" = \"off_for\")\n",
    "    ) %>%\n",
    "    rename(\n",
    "        on_for = shirt_no.y\n",
    "    ) %>%\n",
    "    select(\n",
    "        season,\n",
    "        game_no,\n",
    "        player_name,\n",
    "        shirt_no,\n",
    "        role,\n",
    "        on_for,\n",
    "        off_for\n",
    "    )"
   ]
  },
  {
   "cell_type": "code",
   "execution_count": 16,
   "metadata": {
    "vscode": {
     "languageId": "r"
    }
   },
   "outputs": [],
   "source": [
    "write_csv(final_ssn_df, \"./output/apps_long.csv\")"
   ]
  },
  {
   "cell_type": "code",
   "execution_count": null,
   "metadata": {
    "vscode": {
     "languageId": "r"
    }
   },
   "outputs": [],
   "source": []
  }
 ],
 "metadata": {
  "kernelspec": {
   "display_name": "R",
   "language": "R",
   "name": "ir"
  },
  "language_info": {
   "codemirror_mode": "r",
   "file_extension": ".r",
   "mimetype": "text/x-r-source",
   "name": "R",
   "pygments_lexer": "r",
   "version": "4.3.0"
  },
  "orig_nbformat": 4
 },
 "nbformat": 4,
 "nbformat_minor": 2
}
