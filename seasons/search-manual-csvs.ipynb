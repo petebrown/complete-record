{
 "cells": [
  {
   "cell_type": "code",
   "execution_count": 27,
   "metadata": {},
   "outputs": [
    {
     "name": "stdout",
     "output_type": "stream",
     "text": [
      "MATCH DETAILS\n",
      "-------------\n"
     ]
    },
    {
     "data": {
      "text/html": [
       "<table border=\"1\" class=\"dataframe\">\n",
       "  <thead>\n",
       "    <tr style=\"text-align: right;\">\n",
       "      <th>game_date</th>\n",
       "      <th>opposition</th>\n",
       "      <th>venue</th>\n",
       "      <th>score</th>\n",
       "      <th>competition</th>\n",
       "    </tr>\n",
       "  </thead>\n",
       "  <tbody>\n",
       "    <tr>\n",
       "      <td>1996-08-17</td>\n",
       "      <td>Southend United</td>\n",
       "      <td>A</td>\n",
       "      <td>1-1</td>\n",
       "      <td>League Division 1</td>\n",
       "    </tr>\n",
       "  </tbody>\n",
       "</table>"
      ],
      "text/plain": [
       "<IPython.core.display.HTML object>"
      ]
     },
     "metadata": {},
     "output_type": "display_data"
    },
    {
     "name": "stdout",
     "output_type": "stream",
     "text": [
      "\n",
      "SUBSTITUTES\n",
      "-----------\n"
     ]
    },
    {
     "data": {
      "text/html": [
       "<table border=\"1\" class=\"dataframe\">\n",
       "  <thead>\n",
       "    <tr style=\"text-align: right;\">\n",
       "      <th>season</th>\n",
       "      <th>game_no</th>\n",
       "      <th>game_date</th>\n",
       "      <th>player_name</th>\n",
       "      <th>shirt_no</th>\n",
       "      <th>role</th>\n",
       "      <th>min_on</th>\n",
       "      <th>min_off</th>\n",
       "    </tr>\n",
       "  </thead>\n",
       "  <tbody>\n",
       "    <tr>\n",
       "      <td>1996/97</td>\n",
       "      <td>1</td>\n",
       "      <td>1996-08-17</td>\n",
       "      <td>Johnny Morrissey</td>\n",
       "      <td>7</td>\n",
       "      <td>starter</td>\n",
       "      <td>NaN</td>\n",
       "      <td>NaN</td>\n",
       "    </tr>\n",
       "    <tr>\n",
       "      <td>1996/97</td>\n",
       "      <td>1</td>\n",
       "      <td>1996-08-17</td>\n",
       "      <td>Pat Nevin</td>\n",
       "      <td>12</td>\n",
       "      <td>sub</td>\n",
       "      <td>NaN</td>\n",
       "      <td>NaN</td>\n",
       "    </tr>\n",
       "    <tr>\n",
       "      <td>1996/97</td>\n",
       "      <td>1</td>\n",
       "      <td>1996-08-17</td>\n",
       "      <td>John Aldridge</td>\n",
       "      <td>8</td>\n",
       "      <td>starter</td>\n",
       "      <td>NaN</td>\n",
       "      <td>NaN</td>\n",
       "    </tr>\n",
       "    <tr>\n",
       "      <td>1996/97</td>\n",
       "      <td>1</td>\n",
       "      <td>1996-08-17</td>\n",
       "      <td>Ian Moore</td>\n",
       "      <td>14</td>\n",
       "      <td>sub</td>\n",
       "      <td>NaN</td>\n",
       "      <td>NaN</td>\n",
       "    </tr>\n",
       "    <tr>\n",
       "      <td>1996/97</td>\n",
       "      <td>1</td>\n",
       "      <td>1996-08-17</td>\n",
       "      <td>Kenny Irons</td>\n",
       "      <td>10</td>\n",
       "      <td>starter</td>\n",
       "      <td>NaN</td>\n",
       "      <td>NaN</td>\n",
       "    </tr>\n",
       "    <tr>\n",
       "      <td>1996/97</td>\n",
       "      <td>1</td>\n",
       "      <td>1996-08-17</td>\n",
       "      <td>Ged Brannan</td>\n",
       "      <td>13</td>\n",
       "      <td>sub</td>\n",
       "      <td>NaN</td>\n",
       "      <td>NaN</td>\n",
       "    </tr>\n",
       "  </tbody>\n",
       "</table>"
      ],
      "text/plain": [
       "<IPython.core.display.HTML object>"
      ]
     },
     "metadata": {},
     "output_type": "display_data"
    },
    {
     "name": "stdout",
     "output_type": "stream",
     "text": [
      "\n",
      "YELLOW CARDS\n",
      "------------\n"
     ]
    },
    {
     "data": {
      "text/html": [
       "<table border=\"1\" class=\"dataframe\">\n",
       "  <thead>\n",
       "    <tr style=\"text-align: right;\">\n",
       "      <th>game_date</th>\n",
       "      <th>player_name</th>\n",
       "      <th>yellow_cards</th>\n",
       "    </tr>\n",
       "  </thead>\n",
       "  <tbody>\n",
       "  </tbody>\n",
       "</table>"
      ],
      "text/plain": [
       "<IPython.core.display.HTML object>"
      ]
     },
     "metadata": {},
     "output_type": "display_data"
    },
    {
     "name": "stdout",
     "output_type": "stream",
     "text": [
      "\n",
      "RED CARDS\n",
      "---------\n"
     ]
    },
    {
     "data": {
      "text/html": [
       "<table border=\"1\" class=\"dataframe\">\n",
       "  <thead>\n",
       "    <tr style=\"text-align: right;\">\n",
       "      <th>game_date</th>\n",
       "      <th>player_name</th>\n",
       "      <th>red_cards</th>\n",
       "      <th>min_so</th>\n",
       "    </tr>\n",
       "  </thead>\n",
       "  <tbody>\n",
       "  </tbody>\n",
       "</table>"
      ],
      "text/plain": [
       "<IPython.core.display.HTML object>"
      ]
     },
     "metadata": {},
     "output_type": "display_data"
    },
    {
     "name": "stdout",
     "output_type": "stream",
     "text": [
      "\n",
      "GOAL MINS\n"
     ]
    },
    {
     "data": {
      "text/html": [
       "<table border=\"1\" class=\"dataframe\">\n",
       "  <thead>\n",
       "    <tr style=\"text-align: right;\">\n",
       "      <th>game_date</th>\n",
       "      <th>player_name</th>\n",
       "      <th>goal_min</th>\n",
       "      <th>penalty</th>\n",
       "    </tr>\n",
       "  </thead>\n",
       "  <tbody>\n",
       "  </tbody>\n",
       "</table>"
      ],
      "text/plain": [
       "<IPython.core.display.HTML object>"
      ]
     },
     "metadata": {},
     "output_type": "display_data"
    },
    {
     "name": "stdout",
     "output_type": "stream",
     "text": [
      "\n",
      "LIBRARY URL:\n",
      "------------\n",
      "https://www.britishnewspaperarchive.co.uk/search/results/1996-08-17/1996-08-22?basicsearch=%2btranmere%20%2bSouthend&freesearch=tranmere%20Southend&place=liverpool%2c%20lancashire%2c%20england&retrievecountrycounts=false&mostspecificlocation=liverpool%2c%20lancashire%2c%20england&sortorder=dayearly\n"
     ]
    }
   ],
   "source": [
    "game_date = \"1996-08-17\"\n",
    "get_url(game_date)"
   ]
  },
  {
   "cell_type": "code",
   "execution_count": 1,
   "metadata": {},
   "outputs": [],
   "source": [
    "import pandas as pd\n",
    "import pyperclip\n",
    "from IPython.display import display, HTML\n",
    "\n",
    "def get_url(date, area = \"liv\"):\n",
    "    results = pd.read_csv(\"https://raw.githubusercontent.com/petebrown/update-results/main/data/results_df.csv\", parse_dates = [\"game_date\"], usecols = [\"game_date\", \"opposition\", \"venue\", \"competition\", \"score\"])\n",
    "    \n",
    "    print(\"MATCH DETAILS\")\n",
    "    print(len(\"MATCH DETAILS\") * \"-\")\n",
    "    results = results[results.game_date == date]\n",
    "\n",
    "    display(HTML(results.to_html(index = False)))\n",
    "\n",
    "    date_1 = results[results.game_date == date].game_date.astype(str).values[0]\n",
    "    date_2 = results[results.game_date == date].game_date + pd.Timedelta(days=5)\n",
    "    date_2 = date_2.astype(str).values[0]\n",
    "\n",
    "    opp = results[results.game_date == date].opposition.str.split(' ').str[0].values[0]\n",
    "    \n",
    "    if area == \"liv\":\n",
    "        url = f\"https://www.britishnewspaperarchive.co.uk/search/results/{date_1}/{date_2}?basicsearch=%2btranmere%20%2b{opp}&freesearch=tranmere%20{opp}&place=liverpool%2c%20lancashire%2c%20england&retrievecountrycounts=false&mostspecificlocation=liverpool%2c%20lancashire%2c%20england&sortorder=dayearly\"\n",
    "    else:\n",
    "        url = f\"https://www.britishnewspaperarchive.co.uk/search/results/{date_1}/{date_2}?basicsearch=%2btranmere%20%2b{opp}&freesearch=tranmere%20{opp}&&retrievecountrycounts=false&sortorder=dayearly\"\n",
    "\n",
    "    sub_mins = pd.read_csv(\"./manual/subs_missing_mins.csv\", parse_dates = [\"game_date\"])\n",
    "    sub_mins = sub_mins[sub_mins.game_date == date]\n",
    "    \n",
    "    print(\"\\nSUBSTITUTES\")\n",
    "    print(len(\"SUBSTITUTES\") * \"-\")\n",
    "    if len(sub_mins) == 0:\n",
    "        print(\"No subs.\\n\")\n",
    "    else:\n",
    "        display(HTML(sub_mins.to_html(index = False)))\n",
    "\n",
    "    yc = pd.read_csv(\"./manual/cards_yellow.csv\", parse_dates = [\"game_date\"])\n",
    "    yc = yc[yc.game_date == date]\n",
    "    print(\"\\nYELLOW CARDS\")\n",
    "    print(len(\"Yellow cards\") * \"-\")\n",
    "    display(HTML(yc.to_html(index = False)))\n",
    "\n",
    "    rc = pd.read_csv(\"./manual/cards_red.csv\", parse_dates = [\"game_date\"])\n",
    "    rc = rc[rc.game_date == date]\n",
    "    print(\"\\nRED CARDS\")\n",
    "    print(len(\"Red cards\") * \"-\")\n",
    "    display(HTML(rc.to_html(index = False)))\n",
    "\n",
    "    goal_mins = pd.read_csv(\"./manual/goal_mins.csv\", parse_dates = [\"game_date\"])\n",
    "    goal_mins = goal_mins[goal_mins.game_date == date]\n",
    "    print(\"\\nGOAL MINS\")\n",
    "\n",
    "    display(HTML(goal_mins.to_html(index = False)))\n",
    "\n",
    "    print(\"\\nLIBRARY URL:\")\n",
    "    print(len(\"Library URL:\") * \"-\")\n",
    "    print(url)\n",
    "\n",
    "    pyperclip.copy(date)"
   ]
  },
  {
   "cell_type": "code",
   "execution_count": 28,
   "metadata": {},
   "outputs": [],
   "source": [
    "def save_files():\n",
    "    sub_mins = pd.read_csv(\"./manual/subs_missing_mins.csv\", parse_dates = [\"game_date\"]).sort_values(by = [\"game_date\"])\n",
    "    sub_mins.to_csv(\"./manual/subs_missing_mins.csv\", index = False)\n",
    "\n",
    "    yc = pd.read_csv(\"./manual/cards_yellow.csv\", parse_dates = [\"game_date\"]).sort_values(by = [\"game_date\"])\n",
    "    yc.to_csv(\"./manual/cards_yellow.csv\", index = False)\n",
    "\n",
    "    rc = pd.read_csv(\"./manual/cards_red.csv\", parse_dates = [\"game_date\"]).sort_values(by = [\"game_date\", \"min_so\"])\n",
    "\n",
    "    goal_mins = pd.read_csv(\"./manual/goal_mins.csv\", parse_dates = [\"game_date\"]).sort_values(by = [\"game_date\", \"goal_min\"])\n",
    "\n",
    "save_files()"
   ]
  },
  {
   "cell_type": "code",
   "execution_count": null,
   "metadata": {},
   "outputs": [],
   "source": []
  }
 ],
 "metadata": {
  "kernelspec": {
   "display_name": "Python 3",
   "language": "python",
   "name": "python3"
  },
  "language_info": {
   "codemirror_mode": {
    "name": "ipython",
    "version": 3
   },
   "file_extension": ".py",
   "mimetype": "text/x-python",
   "name": "python",
   "nbconvert_exporter": "python",
   "pygments_lexer": "ipython3",
   "version": "3.11.3"
  },
  "orig_nbformat": 4
 },
 "nbformat": 4,
 "nbformat_minor": 2
}
