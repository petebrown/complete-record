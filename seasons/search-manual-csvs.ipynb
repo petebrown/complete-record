{
 "cells": [
  {
   "cell_type": "code",
   "execution_count": 2,
   "metadata": {},
   "outputs": [],
   "source": [
    "import pandas as pd\n",
    "import pyperclip\n",
    "from IPython.display import display, HTML\n",
    "\n",
    "def get_urls(season, game_nos, area = \"liv\"):\n",
    "    results = pd.read_csv(\"https://raw.githubusercontent.com/petebrown/update-results/main/data/results_df.csv\", parse_dates = [\"game_date\"], usecols = [\"season\", \"ssn_game_no\", \"game_date\", \"opposition\", \"venue\", \"competition\", \"score\"])\n",
    "\n",
    "    if type(game_nos) == list:\n",
    "        min_game_no = min(game_nos)\n",
    "        max_game_no = max(game_nos)\n",
    "    else:\n",
    "        min_game_no = game_nos\n",
    "        max_game_no = game_nos\n",
    "\n",
    "    print(len(\"ALL MATCHES\") * \"-\")\n",
    "    print(\"ALL MATCHES\")\n",
    "    print(len(\"ALL MATCHES\") * \"-\")\n",
    "    results = results[(results.season == season) & (results.ssn_game_no >= min_game_no) & (results.ssn_game_no <= max_game_no)].drop(columns = [\"season\", \"ssn_game_no\"]).sort_values(by = \"game_date\")\n",
    "\n",
    "    display(HTML(results.to_html(index = False)))\n",
    "\n",
    "    dates = results.game_date\n",
    "\n",
    "    for date in enumerate(dates):\n",
    "        n_date = date[0] + 1\n",
    "        date = date[1]\n",
    "        \n",
    "        title = f\"Match {n_date} of {len(dates)}\"\n",
    "        print(len(title) * \"-\")\n",
    "        print(title)\n",
    "        print(len(title) * \"-\")\n",
    "        \n",
    "        result = results[results.game_date == date]\n",
    "\n",
    "        display(HTML(result.to_html(index = False)))\n",
    "\n",
    "        date_1 = results[results.game_date == date].game_date.astype(str).values[0]\n",
    "        date_2 = results[results.game_date == date].game_date + pd.Timedelta(days=5)\n",
    "        date_2 = date_2.astype(str).values[0]\n",
    "\n",
    "        opp = results[results.game_date == date].opposition.str.split(' ').str[0].values[0]\n",
    "        \n",
    "        if area == \"liv\":\n",
    "            url = f\"https://www.britishnewspaperarchive.co.uk/search/results/{date_1}/{date_2}?basicsearch=%2btranmere%20%2b{opp}&freesearch=tranmere%20{opp}&place=liverpool%2c%20lancashire%2c%20england&retrievecountrycounts=false&mostspecificlocation=liverpool%2c%20lancashire%2c%20england&sortorder=dayearly\"\n",
    "        else:\n",
    "            url = f\"https://www.britishnewspaperarchive.co.uk/search/results/{date_1}/{date_2}?basicsearch=%2btranmere%20%2b{opp}&freesearch=tranmere%20{opp}&&retrievecountrycounts=false&sortorder=dayearly\"\n",
    "\n",
    "        sub_mins = pd.read_csv(\"./manual/subs_missing_mins.csv\", parse_dates = [\"game_date\"])\n",
    "        sub_mins = sub_mins[sub_mins.game_date == date]\n",
    "        \n",
    "        print(\"\\nSUBSTITUTES\")\n",
    "        print(len(\"SUBSTITUTES\") * \"-\")\n",
    "        if len(sub_mins) == 0:\n",
    "            print(\"No subs.\\n\")\n",
    "        else:\n",
    "            display(HTML(sub_mins.to_html(index = False)))\n",
    "\n",
    "        yc = pd.read_csv(\"./manual/cards_yellow.csv\", parse_dates = [\"game_date\"])\n",
    "        yc = yc[yc.game_date == date]\n",
    "        print(\"\\nYELLOW CARDS\")\n",
    "        print(len(\"Yellow cards\") * \"-\")\n",
    "        display(HTML(yc.to_html(index = False)))\n",
    "\n",
    "        rc = pd.read_csv(\"./manual/cards_red.csv\", parse_dates = [\"game_date\"])\n",
    "        rc = rc[rc.game_date == date]\n",
    "        print(\"\\nRED CARDS\")\n",
    "        print(len(\"Red cards\") * \"-\")\n",
    "        display(HTML(rc.to_html(index = False)))\n",
    "\n",
    "        goal_mins = pd.read_csv(\"./manual/goal_mins_new.csv\", parse_dates = [\"game_date\"])\n",
    "        goal_mins = goal_mins[goal_mins.game_date == date_1]\n",
    "        print(\"\\nGOAL MINS\")\n",
    "\n",
    "        display(HTML(goal_mins.to_html(index = False)))\n",
    "\n",
    "        print(\"\\nLIBRARY URL:\")\n",
    "        print(len(\"Library URL:\") * \"-\")\n",
    "        print(f\"{url}\\n\\n\")\n",
    "\n",
    "        if len(dates) == 1:\n",
    "            pyperclip.copy(url)"
   ]
  },
  {
   "cell_type": "code",
   "execution_count": 3,
   "metadata": {},
   "outputs": [
    {
     "name": "stdout",
     "output_type": "stream",
     "text": [
      "-----------\n",
      "ALL MATCHES\n",
      "-----------\n"
     ]
    },
    {
     "data": {
      "text/html": [
       "<table border=\"1\" class=\"dataframe\">\n",
       "  <thead>\n",
       "    <tr style=\"text-align: right;\">\n",
       "      <th>game_date</th>\n",
       "      <th>opposition</th>\n",
       "      <th>venue</th>\n",
       "      <th>score</th>\n",
       "      <th>competition</th>\n",
       "    </tr>\n",
       "  </thead>\n",
       "  <tbody>\n",
       "    <tr>\n",
       "      <td>1988-08-27</td>\n",
       "      <td>Scarborough</td>\n",
       "      <td>A</td>\n",
       "      <td>0-0</td>\n",
       "      <td>League Division Four</td>\n",
       "    </tr>\n",
       "    <tr>\n",
       "      <td>1988-08-29</td>\n",
       "      <td>Stockport County</td>\n",
       "      <td>A</td>\n",
       "      <td>1-0</td>\n",
       "      <td>League Cup</td>\n",
       "    </tr>\n",
       "    <tr>\n",
       "      <td>1988-09-02</td>\n",
       "      <td>Colchester United</td>\n",
       "      <td>H</td>\n",
       "      <td>0-0</td>\n",
       "      <td>League Division Four</td>\n",
       "    </tr>\n",
       "    <tr>\n",
       "      <td>1988-09-05</td>\n",
       "      <td>Stockport County</td>\n",
       "      <td>H</td>\n",
       "      <td>1-1</td>\n",
       "      <td>League Cup</td>\n",
       "    </tr>\n",
       "    <tr>\n",
       "      <td>1988-09-10</td>\n",
       "      <td>Carlisle United</td>\n",
       "      <td>A</td>\n",
       "      <td>1-1</td>\n",
       "      <td>League Division Four</td>\n",
       "    </tr>\n",
       "  </tbody>\n",
       "</table>"
      ],
      "text/plain": [
       "<IPython.core.display.HTML object>"
      ]
     },
     "metadata": {},
     "output_type": "display_data"
    },
    {
     "name": "stdout",
     "output_type": "stream",
     "text": [
      "------------\n",
      "Match 1 of 5\n",
      "------------\n"
     ]
    },
    {
     "data": {
      "text/html": [
       "<table border=\"1\" class=\"dataframe\">\n",
       "  <thead>\n",
       "    <tr style=\"text-align: right;\">\n",
       "      <th>game_date</th>\n",
       "      <th>opposition</th>\n",
       "      <th>venue</th>\n",
       "      <th>score</th>\n",
       "      <th>competition</th>\n",
       "    </tr>\n",
       "  </thead>\n",
       "  <tbody>\n",
       "    <tr>\n",
       "      <td>1988-08-27</td>\n",
       "      <td>Scarborough</td>\n",
       "      <td>A</td>\n",
       "      <td>0-0</td>\n",
       "      <td>League Division Four</td>\n",
       "    </tr>\n",
       "  </tbody>\n",
       "</table>"
      ],
      "text/plain": [
       "<IPython.core.display.HTML object>"
      ]
     },
     "metadata": {},
     "output_type": "display_data"
    },
    {
     "name": "stdout",
     "output_type": "stream",
     "text": [
      "\n",
      "SUBSTITUTES\n",
      "-----------\n",
      "No subs.\n",
      "\n",
      "\n",
      "YELLOW CARDS\n",
      "------------\n"
     ]
    },
    {
     "data": {
      "text/html": [
       "<table border=\"1\" class=\"dataframe\">\n",
       "  <thead>\n",
       "    <tr style=\"text-align: right;\">\n",
       "      <th>game_date</th>\n",
       "      <th>player_name</th>\n",
       "    </tr>\n",
       "  </thead>\n",
       "  <tbody>\n",
       "  </tbody>\n",
       "</table>"
      ],
      "text/plain": [
       "<IPython.core.display.HTML object>"
      ]
     },
     "metadata": {},
     "output_type": "display_data"
    },
    {
     "name": "stdout",
     "output_type": "stream",
     "text": [
      "\n",
      "RED CARDS\n",
      "---------\n"
     ]
    },
    {
     "data": {
      "text/html": [
       "<table border=\"1\" class=\"dataframe\">\n",
       "  <thead>\n",
       "    <tr style=\"text-align: right;\">\n",
       "      <th>game_date</th>\n",
       "      <th>player_name</th>\n",
       "      <th>min_so</th>\n",
       "    </tr>\n",
       "  </thead>\n",
       "  <tbody>\n",
       "  </tbody>\n",
       "</table>"
      ],
      "text/plain": [
       "<IPython.core.display.HTML object>"
      ]
     },
     "metadata": {},
     "output_type": "display_data"
    },
    {
     "name": "stdout",
     "output_type": "stream",
     "text": [
      "\n",
      "GOAL MINS\n"
     ]
    },
    {
     "data": {
      "text/html": [
       "<table border=\"1\" class=\"dataframe\">\n",
       "  <thead>\n",
       "    <tr style=\"text-align: right;\">\n",
       "      <th>game_date</th>\n",
       "      <th>player_name</th>\n",
       "      <th>goal_min</th>\n",
       "      <th>penalty</th>\n",
       "    </tr>\n",
       "  </thead>\n",
       "  <tbody>\n",
       "  </tbody>\n",
       "</table>"
      ],
      "text/plain": [
       "<IPython.core.display.HTML object>"
      ]
     },
     "metadata": {},
     "output_type": "display_data"
    },
    {
     "name": "stdout",
     "output_type": "stream",
     "text": [
      "\n",
      "LIBRARY URL:\n",
      "------------\n",
      "https://www.britishnewspaperarchive.co.uk/search/results/1988-08-27/1988-09-01?basicsearch=%2btranmere%20%2bScarborough&freesearch=tranmere%20Scarborough&place=liverpool%2c%20lancashire%2c%20england&retrievecountrycounts=false&mostspecificlocation=liverpool%2c%20lancashire%2c%20england&sortorder=dayearly\n",
      "\n",
      "\n",
      "------------\n",
      "Match 2 of 5\n",
      "------------\n"
     ]
    },
    {
     "data": {
      "text/html": [
       "<table border=\"1\" class=\"dataframe\">\n",
       "  <thead>\n",
       "    <tr style=\"text-align: right;\">\n",
       "      <th>game_date</th>\n",
       "      <th>opposition</th>\n",
       "      <th>venue</th>\n",
       "      <th>score</th>\n",
       "      <th>competition</th>\n",
       "    </tr>\n",
       "  </thead>\n",
       "  <tbody>\n",
       "    <tr>\n",
       "      <td>1988-08-29</td>\n",
       "      <td>Stockport County</td>\n",
       "      <td>A</td>\n",
       "      <td>1-0</td>\n",
       "      <td>League Cup</td>\n",
       "    </tr>\n",
       "  </tbody>\n",
       "</table>"
      ],
      "text/plain": [
       "<IPython.core.display.HTML object>"
      ]
     },
     "metadata": {},
     "output_type": "display_data"
    },
    {
     "name": "stdout",
     "output_type": "stream",
     "text": [
      "\n",
      "SUBSTITUTES\n",
      "-----------\n"
     ]
    },
    {
     "data": {
      "text/html": [
       "<table border=\"1\" class=\"dataframe\">\n",
       "  <thead>\n",
       "    <tr style=\"text-align: right;\">\n",
       "      <th>season</th>\n",
       "      <th>game_no</th>\n",
       "      <th>game_date</th>\n",
       "      <th>player_name</th>\n",
       "      <th>shirt_no</th>\n",
       "      <th>role</th>\n",
       "      <th>min_on</th>\n",
       "      <th>min_off</th>\n",
       "    </tr>\n",
       "  </thead>\n",
       "  <tbody>\n",
       "    <tr>\n",
       "      <td>1988/89</td>\n",
       "      <td>2</td>\n",
       "      <td>1988-08-29</td>\n",
       "      <td>Dave Martindale</td>\n",
       "      <td>4</td>\n",
       "      <td>starter</td>\n",
       "      <td>NaN</td>\n",
       "      <td>NaN</td>\n",
       "    </tr>\n",
       "    <tr>\n",
       "      <td>1988/89</td>\n",
       "      <td>2</td>\n",
       "      <td>1988-08-29</td>\n",
       "      <td>Kenny McKenna</td>\n",
       "      <td>12</td>\n",
       "      <td>sub</td>\n",
       "      <td>NaN</td>\n",
       "      <td>NaN</td>\n",
       "    </tr>\n",
       "  </tbody>\n",
       "</table>"
      ],
      "text/plain": [
       "<IPython.core.display.HTML object>"
      ]
     },
     "metadata": {},
     "output_type": "display_data"
    },
    {
     "name": "stdout",
     "output_type": "stream",
     "text": [
      "\n",
      "YELLOW CARDS\n",
      "------------\n"
     ]
    },
    {
     "data": {
      "text/html": [
       "<table border=\"1\" class=\"dataframe\">\n",
       "  <thead>\n",
       "    <tr style=\"text-align: right;\">\n",
       "      <th>game_date</th>\n",
       "      <th>player_name</th>\n",
       "    </tr>\n",
       "  </thead>\n",
       "  <tbody>\n",
       "    <tr>\n",
       "      <td>1988-08-29</td>\n",
       "      <td>Jim Steel</td>\n",
       "    </tr>\n",
       "  </tbody>\n",
       "</table>"
      ],
      "text/plain": [
       "<IPython.core.display.HTML object>"
      ]
     },
     "metadata": {},
     "output_type": "display_data"
    },
    {
     "name": "stdout",
     "output_type": "stream",
     "text": [
      "\n",
      "RED CARDS\n",
      "---------\n"
     ]
    },
    {
     "data": {
      "text/html": [
       "<table border=\"1\" class=\"dataframe\">\n",
       "  <thead>\n",
       "    <tr style=\"text-align: right;\">\n",
       "      <th>game_date</th>\n",
       "      <th>player_name</th>\n",
       "      <th>min_so</th>\n",
       "    </tr>\n",
       "  </thead>\n",
       "  <tbody>\n",
       "  </tbody>\n",
       "</table>"
      ],
      "text/plain": [
       "<IPython.core.display.HTML object>"
      ]
     },
     "metadata": {},
     "output_type": "display_data"
    },
    {
     "name": "stdout",
     "output_type": "stream",
     "text": [
      "\n",
      "GOAL MINS\n"
     ]
    },
    {
     "data": {
      "text/html": [
       "<table border=\"1\" class=\"dataframe\">\n",
       "  <thead>\n",
       "    <tr style=\"text-align: right;\">\n",
       "      <th>game_date</th>\n",
       "      <th>player_name</th>\n",
       "      <th>goal_min</th>\n",
       "      <th>penalty</th>\n",
       "    </tr>\n",
       "  </thead>\n",
       "  <tbody>\n",
       "    <tr>\n",
       "      <td>1988-08-29</td>\n",
       "      <td>Ian Muir</td>\n",
       "      <td>23.0</td>\n",
       "      <td>NaN</td>\n",
       "    </tr>\n",
       "  </tbody>\n",
       "</table>"
      ],
      "text/plain": [
       "<IPython.core.display.HTML object>"
      ]
     },
     "metadata": {},
     "output_type": "display_data"
    },
    {
     "name": "stdout",
     "output_type": "stream",
     "text": [
      "\n",
      "LIBRARY URL:\n",
      "------------\n",
      "https://www.britishnewspaperarchive.co.uk/search/results/1988-08-29/1988-09-03?basicsearch=%2btranmere%20%2bStockport&freesearch=tranmere%20Stockport&place=liverpool%2c%20lancashire%2c%20england&retrievecountrycounts=false&mostspecificlocation=liverpool%2c%20lancashire%2c%20england&sortorder=dayearly\n",
      "\n",
      "\n",
      "------------\n",
      "Match 3 of 5\n",
      "------------\n"
     ]
    },
    {
     "data": {
      "text/html": [
       "<table border=\"1\" class=\"dataframe\">\n",
       "  <thead>\n",
       "    <tr style=\"text-align: right;\">\n",
       "      <th>game_date</th>\n",
       "      <th>opposition</th>\n",
       "      <th>venue</th>\n",
       "      <th>score</th>\n",
       "      <th>competition</th>\n",
       "    </tr>\n",
       "  </thead>\n",
       "  <tbody>\n",
       "    <tr>\n",
       "      <td>1988-09-02</td>\n",
       "      <td>Colchester United</td>\n",
       "      <td>H</td>\n",
       "      <td>0-0</td>\n",
       "      <td>League Division Four</td>\n",
       "    </tr>\n",
       "  </tbody>\n",
       "</table>"
      ],
      "text/plain": [
       "<IPython.core.display.HTML object>"
      ]
     },
     "metadata": {},
     "output_type": "display_data"
    },
    {
     "name": "stdout",
     "output_type": "stream",
     "text": [
      "\n",
      "SUBSTITUTES\n",
      "-----------\n",
      "No subs.\n",
      "\n",
      "\n",
      "YELLOW CARDS\n",
      "------------\n"
     ]
    },
    {
     "data": {
      "text/html": [
       "<table border=\"1\" class=\"dataframe\">\n",
       "  <thead>\n",
       "    <tr style=\"text-align: right;\">\n",
       "      <th>game_date</th>\n",
       "      <th>player_name</th>\n",
       "    </tr>\n",
       "  </thead>\n",
       "  <tbody>\n",
       "  </tbody>\n",
       "</table>"
      ],
      "text/plain": [
       "<IPython.core.display.HTML object>"
      ]
     },
     "metadata": {},
     "output_type": "display_data"
    },
    {
     "name": "stdout",
     "output_type": "stream",
     "text": [
      "\n",
      "RED CARDS\n",
      "---------\n"
     ]
    },
    {
     "data": {
      "text/html": [
       "<table border=\"1\" class=\"dataframe\">\n",
       "  <thead>\n",
       "    <tr style=\"text-align: right;\">\n",
       "      <th>game_date</th>\n",
       "      <th>player_name</th>\n",
       "      <th>min_so</th>\n",
       "    </tr>\n",
       "  </thead>\n",
       "  <tbody>\n",
       "  </tbody>\n",
       "</table>"
      ],
      "text/plain": [
       "<IPython.core.display.HTML object>"
      ]
     },
     "metadata": {},
     "output_type": "display_data"
    },
    {
     "name": "stdout",
     "output_type": "stream",
     "text": [
      "\n",
      "GOAL MINS\n"
     ]
    },
    {
     "data": {
      "text/html": [
       "<table border=\"1\" class=\"dataframe\">\n",
       "  <thead>\n",
       "    <tr style=\"text-align: right;\">\n",
       "      <th>game_date</th>\n",
       "      <th>player_name</th>\n",
       "      <th>goal_min</th>\n",
       "      <th>penalty</th>\n",
       "    </tr>\n",
       "  </thead>\n",
       "  <tbody>\n",
       "  </tbody>\n",
       "</table>"
      ],
      "text/plain": [
       "<IPython.core.display.HTML object>"
      ]
     },
     "metadata": {},
     "output_type": "display_data"
    },
    {
     "name": "stdout",
     "output_type": "stream",
     "text": [
      "\n",
      "LIBRARY URL:\n",
      "------------\n",
      "https://www.britishnewspaperarchive.co.uk/search/results/1988-09-02/1988-09-07?basicsearch=%2btranmere%20%2bColchester&freesearch=tranmere%20Colchester&place=liverpool%2c%20lancashire%2c%20england&retrievecountrycounts=false&mostspecificlocation=liverpool%2c%20lancashire%2c%20england&sortorder=dayearly\n",
      "\n",
      "\n",
      "------------\n",
      "Match 4 of 5\n",
      "------------\n"
     ]
    },
    {
     "data": {
      "text/html": [
       "<table border=\"1\" class=\"dataframe\">\n",
       "  <thead>\n",
       "    <tr style=\"text-align: right;\">\n",
       "      <th>game_date</th>\n",
       "      <th>opposition</th>\n",
       "      <th>venue</th>\n",
       "      <th>score</th>\n",
       "      <th>competition</th>\n",
       "    </tr>\n",
       "  </thead>\n",
       "  <tbody>\n",
       "    <tr>\n",
       "      <td>1988-09-05</td>\n",
       "      <td>Stockport County</td>\n",
       "      <td>H</td>\n",
       "      <td>1-1</td>\n",
       "      <td>League Cup</td>\n",
       "    </tr>\n",
       "  </tbody>\n",
       "</table>"
      ],
      "text/plain": [
       "<IPython.core.display.HTML object>"
      ]
     },
     "metadata": {},
     "output_type": "display_data"
    },
    {
     "name": "stdout",
     "output_type": "stream",
     "text": [
      "\n",
      "SUBSTITUTES\n",
      "-----------\n"
     ]
    },
    {
     "data": {
      "text/html": [
       "<table border=\"1\" class=\"dataframe\">\n",
       "  <thead>\n",
       "    <tr style=\"text-align: right;\">\n",
       "      <th>season</th>\n",
       "      <th>game_no</th>\n",
       "      <th>game_date</th>\n",
       "      <th>player_name</th>\n",
       "      <th>shirt_no</th>\n",
       "      <th>role</th>\n",
       "      <th>min_on</th>\n",
       "      <th>min_off</th>\n",
       "    </tr>\n",
       "  </thead>\n",
       "  <tbody>\n",
       "    <tr>\n",
       "      <td>1988/89</td>\n",
       "      <td>4</td>\n",
       "      <td>1988-09-05</td>\n",
       "      <td>Dave Higgins</td>\n",
       "      <td>2</td>\n",
       "      <td>starter</td>\n",
       "      <td>NaN</td>\n",
       "      <td>50.0</td>\n",
       "    </tr>\n",
       "    <tr>\n",
       "      <td>1988/89</td>\n",
       "      <td>4</td>\n",
       "      <td>1988-09-05</td>\n",
       "      <td>Mark McCarrick</td>\n",
       "      <td>14</td>\n",
       "      <td>sub</td>\n",
       "      <td>50.0</td>\n",
       "      <td>NaN</td>\n",
       "    </tr>\n",
       "    <tr>\n",
       "      <td>1988/89</td>\n",
       "      <td>4</td>\n",
       "      <td>1988-09-05</td>\n",
       "      <td>Ronnie Moore</td>\n",
       "      <td>5</td>\n",
       "      <td>starter</td>\n",
       "      <td>NaN</td>\n",
       "      <td>NaN</td>\n",
       "    </tr>\n",
       "    <tr>\n",
       "      <td>1988/89</td>\n",
       "      <td>4</td>\n",
       "      <td>1988-09-05</td>\n",
       "      <td>Kenny McKenna</td>\n",
       "      <td>12</td>\n",
       "      <td>sub</td>\n",
       "      <td>NaN</td>\n",
       "      <td>NaN</td>\n",
       "    </tr>\n",
       "  </tbody>\n",
       "</table>"
      ],
      "text/plain": [
       "<IPython.core.display.HTML object>"
      ]
     },
     "metadata": {},
     "output_type": "display_data"
    },
    {
     "name": "stdout",
     "output_type": "stream",
     "text": [
      "\n",
      "YELLOW CARDS\n",
      "------------\n"
     ]
    },
    {
     "data": {
      "text/html": [
       "<table border=\"1\" class=\"dataframe\">\n",
       "  <thead>\n",
       "    <tr style=\"text-align: right;\">\n",
       "      <th>game_date</th>\n",
       "      <th>player_name</th>\n",
       "    </tr>\n",
       "  </thead>\n",
       "  <tbody>\n",
       "    <tr>\n",
       "      <td>1988-09-05</td>\n",
       "      <td>Johnny Morrissey</td>\n",
       "    </tr>\n",
       "    <tr>\n",
       "      <td>1988-09-05</td>\n",
       "      <td>Ronnie Moore</td>\n",
       "    </tr>\n",
       "  </tbody>\n",
       "</table>"
      ],
      "text/plain": [
       "<IPython.core.display.HTML object>"
      ]
     },
     "metadata": {},
     "output_type": "display_data"
    },
    {
     "name": "stdout",
     "output_type": "stream",
     "text": [
      "\n",
      "RED CARDS\n",
      "---------\n"
     ]
    },
    {
     "data": {
      "text/html": [
       "<table border=\"1\" class=\"dataframe\">\n",
       "  <thead>\n",
       "    <tr style=\"text-align: right;\">\n",
       "      <th>game_date</th>\n",
       "      <th>player_name</th>\n",
       "      <th>min_so</th>\n",
       "    </tr>\n",
       "  </thead>\n",
       "  <tbody>\n",
       "  </tbody>\n",
       "</table>"
      ],
      "text/plain": [
       "<IPython.core.display.HTML object>"
      ]
     },
     "metadata": {},
     "output_type": "display_data"
    },
    {
     "name": "stdout",
     "output_type": "stream",
     "text": [
      "\n",
      "GOAL MINS\n"
     ]
    },
    {
     "data": {
      "text/html": [
       "<table border=\"1\" class=\"dataframe\">\n",
       "  <thead>\n",
       "    <tr style=\"text-align: right;\">\n",
       "      <th>game_date</th>\n",
       "      <th>player_name</th>\n",
       "      <th>goal_min</th>\n",
       "      <th>penalty</th>\n",
       "    </tr>\n",
       "  </thead>\n",
       "  <tbody>\n",
       "    <tr>\n",
       "      <td>1988-09-05</td>\n",
       "      <td>Ian Muir</td>\n",
       "      <td>79.0</td>\n",
       "      <td>NaN</td>\n",
       "    </tr>\n",
       "  </tbody>\n",
       "</table>"
      ],
      "text/plain": [
       "<IPython.core.display.HTML object>"
      ]
     },
     "metadata": {},
     "output_type": "display_data"
    },
    {
     "name": "stdout",
     "output_type": "stream",
     "text": [
      "\n",
      "LIBRARY URL:\n",
      "------------\n",
      "https://www.britishnewspaperarchive.co.uk/search/results/1988-09-05/1988-09-10?basicsearch=%2btranmere%20%2bStockport&freesearch=tranmere%20Stockport&place=liverpool%2c%20lancashire%2c%20england&retrievecountrycounts=false&mostspecificlocation=liverpool%2c%20lancashire%2c%20england&sortorder=dayearly\n",
      "\n",
      "\n",
      "------------\n",
      "Match 5 of 5\n",
      "------------\n"
     ]
    },
    {
     "data": {
      "text/html": [
       "<table border=\"1\" class=\"dataframe\">\n",
       "  <thead>\n",
       "    <tr style=\"text-align: right;\">\n",
       "      <th>game_date</th>\n",
       "      <th>opposition</th>\n",
       "      <th>venue</th>\n",
       "      <th>score</th>\n",
       "      <th>competition</th>\n",
       "    </tr>\n",
       "  </thead>\n",
       "  <tbody>\n",
       "    <tr>\n",
       "      <td>1988-09-10</td>\n",
       "      <td>Carlisle United</td>\n",
       "      <td>A</td>\n",
       "      <td>1-1</td>\n",
       "      <td>League Division Four</td>\n",
       "    </tr>\n",
       "  </tbody>\n",
       "</table>"
      ],
      "text/plain": [
       "<IPython.core.display.HTML object>"
      ]
     },
     "metadata": {},
     "output_type": "display_data"
    },
    {
     "name": "stdout",
     "output_type": "stream",
     "text": [
      "\n",
      "SUBSTITUTES\n",
      "-----------\n",
      "No subs.\n",
      "\n",
      "\n",
      "YELLOW CARDS\n",
      "------------\n"
     ]
    },
    {
     "data": {
      "text/html": [
       "<table border=\"1\" class=\"dataframe\">\n",
       "  <thead>\n",
       "    <tr style=\"text-align: right;\">\n",
       "      <th>game_date</th>\n",
       "      <th>player_name</th>\n",
       "    </tr>\n",
       "  </thead>\n",
       "  <tbody>\n",
       "  </tbody>\n",
       "</table>"
      ],
      "text/plain": [
       "<IPython.core.display.HTML object>"
      ]
     },
     "metadata": {},
     "output_type": "display_data"
    },
    {
     "name": "stdout",
     "output_type": "stream",
     "text": [
      "\n",
      "RED CARDS\n",
      "---------\n"
     ]
    },
    {
     "data": {
      "text/html": [
       "<table border=\"1\" class=\"dataframe\">\n",
       "  <thead>\n",
       "    <tr style=\"text-align: right;\">\n",
       "      <th>game_date</th>\n",
       "      <th>player_name</th>\n",
       "      <th>min_so</th>\n",
       "    </tr>\n",
       "  </thead>\n",
       "  <tbody>\n",
       "  </tbody>\n",
       "</table>"
      ],
      "text/plain": [
       "<IPython.core.display.HTML object>"
      ]
     },
     "metadata": {},
     "output_type": "display_data"
    },
    {
     "name": "stdout",
     "output_type": "stream",
     "text": [
      "\n",
      "GOAL MINS\n"
     ]
    },
    {
     "data": {
      "text/html": [
       "<table border=\"1\" class=\"dataframe\">\n",
       "  <thead>\n",
       "    <tr style=\"text-align: right;\">\n",
       "      <th>game_date</th>\n",
       "      <th>player_name</th>\n",
       "      <th>goal_min</th>\n",
       "      <th>penalty</th>\n",
       "    </tr>\n",
       "  </thead>\n",
       "  <tbody>\n",
       "    <tr>\n",
       "      <td>1988-09-10</td>\n",
       "      <td>Jim Steel</td>\n",
       "      <td>NaN</td>\n",
       "      <td>NaN</td>\n",
       "    </tr>\n",
       "  </tbody>\n",
       "</table>"
      ],
      "text/plain": [
       "<IPython.core.display.HTML object>"
      ]
     },
     "metadata": {},
     "output_type": "display_data"
    },
    {
     "name": "stdout",
     "output_type": "stream",
     "text": [
      "\n",
      "LIBRARY URL:\n",
      "------------\n",
      "https://www.britishnewspaperarchive.co.uk/search/results/1988-09-10/1988-09-15?basicsearch=%2btranmere%20%2bCarlisle&freesearch=tranmere%20Carlisle&place=liverpool%2c%20lancashire%2c%20england&retrievecountrycounts=false&mostspecificlocation=liverpool%2c%20lancashire%2c%20england&sortorder=dayearly\n",
      "\n",
      "\n"
     ]
    }
   ],
   "source": [
    "get_urls(\"1988/89\", [1, 5])"
   ]
  },
  {
   "cell_type": "code",
   "execution_count": 5,
   "metadata": {},
   "outputs": [],
   "source": [
    "def save_files():\n",
    "    sub_mins = pd.read_csv(\"./manual/subs_missing_mins.csv\", parse_dates = [\"game_date\"]).sort_values(by = [\"game_date\"])\n",
    "    sub_mins.to_csv(\"./manual/subs_missing_mins.csv\", index = False)\n",
    "\n",
    "    yc = pd.read_csv(\"./manual/cards_yellow.csv\", parse_dates = [\"game_date\"]).sort_values(by = [\"game_date\"])\n",
    "    yc.to_csv(\"./manual/cards_yellow.csv\", index = False)\n",
    "\n",
    "    rc = pd.read_csv(\"./manual/cards_red.csv\", parse_dates = [\"game_date\"]).sort_values(by = [\"game_date\", \"min_so\"])\n",
    "    rc.to_csv(\"./manual/cards_red.csv\", index = False)\n",
    "\n",
    "    goal_mins = pd.read_csv(\"./manual/goal_mins_new.csv\", parse_dates = [\"game_date\"]).sort_values(by = [\"game_date\", \"goal_min\"])\n",
    "    goal_mins.to_csv(\"./manual/goal_mins_new.csv\", index = False)\n",
    "\n",
    "save_files()"
   ]
  },
  {
   "cell_type": "code",
   "execution_count": null,
   "metadata": {},
   "outputs": [],
   "source": []
  }
 ],
 "metadata": {
  "kernelspec": {
   "display_name": "Python 3",
   "language": "python",
   "name": "python3"
  },
  "language_info": {
   "codemirror_mode": {
    "name": "ipython",
    "version": 3
   },
   "file_extension": ".py",
   "mimetype": "text/x-python",
   "name": "python",
   "nbconvert_exporter": "python",
   "pygments_lexer": "ipython3",
   "version": "3.12.5"
  },
  "orig_nbformat": 4
 },
 "nbformat": 4,
 "nbformat_minor": 2
}
