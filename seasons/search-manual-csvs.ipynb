{
 "cells": [
  {
   "cell_type": "code",
   "execution_count": 23,
   "metadata": {},
   "outputs": [],
   "source": [
    "import pandas as pd\n",
    "import pyperclip\n",
    "from IPython.display import display, HTML\n",
    "\n",
    "def get_urls(dates, area = \"liv\"):\n",
    "    results = pd.read_csv(\"https://raw.githubusercontent.com/petebrown/update-results/main/data/results_df.csv\", parse_dates = [\"game_date\"], usecols = [\"game_date\", \"opposition\", \"venue\", \"competition\", \"score\"])\n",
    "\n",
    "    dates = sorted(dates)\n",
    "    dates = pd.to_datetime(dates)\n",
    "\n",
    "    print(len(\"ALL MATCHES\") * \"-\")\n",
    "    print(\"ALL MATCHES\")\n",
    "    print(len(\"ALL MATCHES\") * \"-\")\n",
    "    results = results[results.game_date.isin(dates)]\n",
    "\n",
    "    display(HTML(results.to_html(index = False)))\n",
    "\n",
    "    for date in dates:\n",
    "        print(f\"\\nMatch {dates.get_loc(date) + 1} of {len(dates)}\")\n",
    "        print(len(\"MATCH DETAILS\") * \"-\")\n",
    "        result = results[results.game_date == date]\n",
    "\n",
    "        display(HTML(result.to_html(index = False)))\n",
    "\n",
    "        date_1 = results[results.game_date == date].game_date.astype(str).values[0]\n",
    "        date_2 = results[results.game_date == date].game_date + pd.Timedelta(days=5)\n",
    "        date_2 = date_2.astype(str).values[0]\n",
    "\n",
    "        opp = results[results.game_date == date].opposition.str.split(' ').str[0].values[0]\n",
    "        \n",
    "        if area == \"liv\":\n",
    "            url = f\"https://www.britishnewspaperarchive.co.uk/search/results/{date_1}/{date_2}?basicsearch=%2btranmere%20%2b{opp}&freesearch=tranmere%20{opp}&place=liverpool%2c%20lancashire%2c%20england&retrievecountrycounts=false&mostspecificlocation=liverpool%2c%20lancashire%2c%20england&sortorder=dayearly\"\n",
    "        else:\n",
    "            url = f\"https://www.britishnewspaperarchive.co.uk/search/results/{date_1}/{date_2}?basicsearch=%2btranmere%20%2b{opp}&freesearch=tranmere%20{opp}&&retrievecountrycounts=false&sortorder=dayearly\"\n",
    "\n",
    "        sub_mins = pd.read_csv(\"./manual/subs_missing_mins.csv\", parse_dates = [\"game_date\"])\n",
    "        sub_mins = sub_mins[sub_mins.game_date == date]\n",
    "        \n",
    "        print(\"\\nSUBSTITUTES\")\n",
    "        print(len(\"SUBSTITUTES\") * \"-\")\n",
    "        if len(sub_mins) == 0:\n",
    "            print(\"No subs.\\n\")\n",
    "        else:\n",
    "            display(HTML(sub_mins.to_html(index = False)))\n",
    "\n",
    "        yc = pd.read_csv(\"./manual/cards_yellow.csv\", parse_dates = [\"game_date\"])\n",
    "        yc = yc[yc.game_date == date]\n",
    "        print(\"\\nYELLOW CARDS\")\n",
    "        print(len(\"Yellow cards\") * \"-\")\n",
    "        display(HTML(yc.to_html(index = False)))\n",
    "\n",
    "        rc = pd.read_csv(\"./manual/cards_red.csv\", parse_dates = [\"game_date\"])\n",
    "        rc = rc[rc.game_date == date]\n",
    "        print(\"\\nRED CARDS\")\n",
    "        print(len(\"Red cards\") * \"-\")\n",
    "        display(HTML(rc.to_html(index = False)))\n",
    "\n",
    "        goal_mins = pd.read_csv(\"./manual/goal_mins_new.csv\", parse_dates = [\"game_date\"])\n",
    "        goal_mins = goal_mins[goal_mins.game_date == date]\n",
    "        print(\"\\nGOAL MINS\")\n",
    "\n",
    "        display(HTML(goal_mins.to_html(index = False)))\n",
    "\n",
    "        print(\"\\nLIBRARY URL:\")\n",
    "        print(len(\"Library URL:\") * \"-\")\n",
    "        print(url)"
   ]
  },
  {
   "cell_type": "code",
   "execution_count": 24,
   "metadata": {},
   "outputs": [
    {
     "name": "stdout",
     "output_type": "stream",
     "text": [
      "-----------\n",
      "ALL MATCHES\n",
      "-----------\n"
     ]
    },
    {
     "data": {
      "text/html": [
       "<table border=\"1\" class=\"dataframe\">\n",
       "  <thead>\n",
       "    <tr style=\"text-align: right;\">\n",
       "      <th>game_date</th>\n",
       "      <th>opposition</th>\n",
       "      <th>venue</th>\n",
       "      <th>score</th>\n",
       "      <th>competition</th>\n",
       "    </tr>\n",
       "  </thead>\n",
       "  <tbody>\n",
       "    <tr>\n",
       "      <td>1992-09-18</td>\n",
       "      <td>Charlton Athletic</td>\n",
       "      <td>H</td>\n",
       "      <td>0-0</td>\n",
       "      <td>League Division 1</td>\n",
       "    </tr>\n",
       "    <tr>\n",
       "      <td>1992-08-15</td>\n",
       "      <td>Cambridge United</td>\n",
       "      <td>H</td>\n",
       "      <td>2-0</td>\n",
       "      <td>League Division 1</td>\n",
       "    </tr>\n",
       "  </tbody>\n",
       "</table>"
      ],
      "text/plain": [
       "<IPython.core.display.HTML object>"
      ]
     },
     "metadata": {},
     "output_type": "display_data"
    },
    {
     "name": "stdout",
     "output_type": "stream",
     "text": [
      "\n",
      "Match 1 of 2\n",
      "-------------\n"
     ]
    },
    {
     "data": {
      "text/html": [
       "<table border=\"1\" class=\"dataframe\">\n",
       "  <thead>\n",
       "    <tr style=\"text-align: right;\">\n",
       "      <th>game_date</th>\n",
       "      <th>opposition</th>\n",
       "      <th>venue</th>\n",
       "      <th>score</th>\n",
       "      <th>competition</th>\n",
       "    </tr>\n",
       "  </thead>\n",
       "  <tbody>\n",
       "    <tr>\n",
       "      <td>1992-08-15</td>\n",
       "      <td>Cambridge United</td>\n",
       "      <td>H</td>\n",
       "      <td>2-0</td>\n",
       "      <td>League Division 1</td>\n",
       "    </tr>\n",
       "  </tbody>\n",
       "</table>"
      ],
      "text/plain": [
       "<IPython.core.display.HTML object>"
      ]
     },
     "metadata": {},
     "output_type": "display_data"
    },
    {
     "name": "stdout",
     "output_type": "stream",
     "text": [
      "\n",
      "SUBSTITUTES\n",
      "-----------\n",
      "No subs.\n",
      "\n",
      "\n",
      "YELLOW CARDS\n",
      "------------\n"
     ]
    },
    {
     "data": {
      "text/html": [
       "<table border=\"1\" class=\"dataframe\">\n",
       "  <thead>\n",
       "    <tr style=\"text-align: right;\">\n",
       "      <th>game_date</th>\n",
       "      <th>player_name</th>\n",
       "    </tr>\n",
       "  </thead>\n",
       "  <tbody>\n",
       "  </tbody>\n",
       "</table>"
      ],
      "text/plain": [
       "<IPython.core.display.HTML object>"
      ]
     },
     "metadata": {},
     "output_type": "display_data"
    },
    {
     "name": "stdout",
     "output_type": "stream",
     "text": [
      "\n",
      "RED CARDS\n",
      "---------\n"
     ]
    },
    {
     "data": {
      "text/html": [
       "<table border=\"1\" class=\"dataframe\">\n",
       "  <thead>\n",
       "    <tr style=\"text-align: right;\">\n",
       "      <th>game_date</th>\n",
       "      <th>player_name</th>\n",
       "      <th>min_so</th>\n",
       "    </tr>\n",
       "  </thead>\n",
       "  <tbody>\n",
       "  </tbody>\n",
       "</table>"
      ],
      "text/plain": [
       "<IPython.core.display.HTML object>"
      ]
     },
     "metadata": {},
     "output_type": "display_data"
    },
    {
     "name": "stdout",
     "output_type": "stream",
     "text": [
      "\n",
      "GOAL MINS\n"
     ]
    },
    {
     "data": {
      "text/html": [
       "<table border=\"1\" class=\"dataframe\">\n",
       "  <thead>\n",
       "    <tr style=\"text-align: right;\">\n",
       "      <th>game_date</th>\n",
       "      <th>player_name</th>\n",
       "      <th>goal_min</th>\n",
       "      <th>penalty</th>\n",
       "    </tr>\n",
       "  </thead>\n",
       "  <tbody>\n",
       "  </tbody>\n",
       "</table>"
      ],
      "text/plain": [
       "<IPython.core.display.HTML object>"
      ]
     },
     "metadata": {},
     "output_type": "display_data"
    },
    {
     "name": "stdout",
     "output_type": "stream",
     "text": [
      "\n",
      "LIBRARY URL:\n",
      "------------\n",
      "https://www.britishnewspaperarchive.co.uk/search/results/1992-08-15/1992-08-20?basicsearch=%2btranmere%20%2bCambridge&freesearch=tranmere%20Cambridge&place=liverpool%2c%20lancashire%2c%20england&retrievecountrycounts=false&mostspecificlocation=liverpool%2c%20lancashire%2c%20england&sortorder=dayearly\n",
      "\n",
      "Match 2 of 2\n",
      "-------------\n"
     ]
    },
    {
     "data": {
      "text/html": [
       "<table border=\"1\" class=\"dataframe\">\n",
       "  <thead>\n",
       "    <tr style=\"text-align: right;\">\n",
       "      <th>game_date</th>\n",
       "      <th>opposition</th>\n",
       "      <th>venue</th>\n",
       "      <th>score</th>\n",
       "      <th>competition</th>\n",
       "    </tr>\n",
       "  </thead>\n",
       "  <tbody>\n",
       "    <tr>\n",
       "      <td>1992-09-18</td>\n",
       "      <td>Charlton Athletic</td>\n",
       "      <td>H</td>\n",
       "      <td>0-0</td>\n",
       "      <td>League Division 1</td>\n",
       "    </tr>\n",
       "  </tbody>\n",
       "</table>"
      ],
      "text/plain": [
       "<IPython.core.display.HTML object>"
      ]
     },
     "metadata": {},
     "output_type": "display_data"
    },
    {
     "name": "stdout",
     "output_type": "stream",
     "text": [
      "\n",
      "SUBSTITUTES\n",
      "-----------\n"
     ]
    },
    {
     "data": {
      "text/html": [
       "<table border=\"1\" class=\"dataframe\">\n",
       "  <thead>\n",
       "    <tr style=\"text-align: right;\">\n",
       "      <th>season</th>\n",
       "      <th>game_no</th>\n",
       "      <th>game_date</th>\n",
       "      <th>player_name</th>\n",
       "      <th>shirt_no</th>\n",
       "      <th>role</th>\n",
       "      <th>min_on</th>\n",
       "      <th>min_off</th>\n",
       "    </tr>\n",
       "  </thead>\n",
       "  <tbody>\n",
       "    <tr>\n",
       "      <td>1992/93</td>\n",
       "      <td>10</td>\n",
       "      <td>1992-09-18</td>\n",
       "      <td>Steve Cooper</td>\n",
       "      <td>14</td>\n",
       "      <td>sub</td>\n",
       "      <td>NaN</td>\n",
       "      <td>NaN</td>\n",
       "    </tr>\n",
       "    <tr>\n",
       "      <td>1992/93</td>\n",
       "      <td>10</td>\n",
       "      <td>1992-09-18</td>\n",
       "      <td>Johnny Morrissey</td>\n",
       "      <td>7</td>\n",
       "      <td>starter</td>\n",
       "      <td>NaN</td>\n",
       "      <td>NaN</td>\n",
       "    </tr>\n",
       "  </tbody>\n",
       "</table>"
      ],
      "text/plain": [
       "<IPython.core.display.HTML object>"
      ]
     },
     "metadata": {},
     "output_type": "display_data"
    },
    {
     "name": "stdout",
     "output_type": "stream",
     "text": [
      "\n",
      "YELLOW CARDS\n",
      "------------\n"
     ]
    },
    {
     "data": {
      "text/html": [
       "<table border=\"1\" class=\"dataframe\">\n",
       "  <thead>\n",
       "    <tr style=\"text-align: right;\">\n",
       "      <th>game_date</th>\n",
       "      <th>player_name</th>\n",
       "    </tr>\n",
       "  </thead>\n",
       "  <tbody>\n",
       "  </tbody>\n",
       "</table>"
      ],
      "text/plain": [
       "<IPython.core.display.HTML object>"
      ]
     },
     "metadata": {},
     "output_type": "display_data"
    },
    {
     "name": "stdout",
     "output_type": "stream",
     "text": [
      "\n",
      "RED CARDS\n",
      "---------\n"
     ]
    },
    {
     "data": {
      "text/html": [
       "<table border=\"1\" class=\"dataframe\">\n",
       "  <thead>\n",
       "    <tr style=\"text-align: right;\">\n",
       "      <th>game_date</th>\n",
       "      <th>player_name</th>\n",
       "      <th>min_so</th>\n",
       "    </tr>\n",
       "  </thead>\n",
       "  <tbody>\n",
       "  </tbody>\n",
       "</table>"
      ],
      "text/plain": [
       "<IPython.core.display.HTML object>"
      ]
     },
     "metadata": {},
     "output_type": "display_data"
    },
    {
     "name": "stdout",
     "output_type": "stream",
     "text": [
      "\n",
      "GOAL MINS\n"
     ]
    },
    {
     "data": {
      "text/html": [
       "<table border=\"1\" class=\"dataframe\">\n",
       "  <thead>\n",
       "    <tr style=\"text-align: right;\">\n",
       "      <th>game_date</th>\n",
       "      <th>player_name</th>\n",
       "      <th>goal_min</th>\n",
       "      <th>penalty</th>\n",
       "    </tr>\n",
       "  </thead>\n",
       "  <tbody>\n",
       "  </tbody>\n",
       "</table>"
      ],
      "text/plain": [
       "<IPython.core.display.HTML object>"
      ]
     },
     "metadata": {},
     "output_type": "display_data"
    },
    {
     "name": "stdout",
     "output_type": "stream",
     "text": [
      "\n",
      "LIBRARY URL:\n",
      "------------\n",
      "https://www.britishnewspaperarchive.co.uk/search/results/1992-09-18/1992-09-23?basicsearch=%2btranmere%20%2bCharlton&freesearch=tranmere%20Charlton&place=liverpool%2c%20lancashire%2c%20england&retrievecountrycounts=false&mostspecificlocation=liverpool%2c%20lancashire%2c%20england&sortorder=dayearly\n"
     ]
    }
   ],
   "source": [
    "get_urls([\"1992-08-15\", \"1992-09-18\"])"
   ]
  },
  {
   "cell_type": "code",
   "execution_count": 3,
   "metadata": {},
   "outputs": [],
   "source": [
    "import pandas as pd\n",
    "import pyperclip\n",
    "from IPython.display import display, HTML\n",
    "\n",
    "def get_url(date, area = \"liv\"):\n",
    "    results = pd.read_csv(\"https://raw.githubusercontent.com/petebrown/update-results/main/data/results_df.csv\", parse_dates = [\"game_date\"], usecols = [\"game_date\", \"opposition\", \"venue\", \"competition\", \"score\"])\n",
    "    \n",
    "    print(\"MATCH DETAILS\")\n",
    "    print(len(\"MATCH DETAILS\") * \"-\")\n",
    "    results = results[results.game_date == date]\n",
    "\n",
    "    display(HTML(results.to_html(index = False)))\n",
    "\n",
    "    date_1 = results[results.game_date == date].game_date.astype(str).values[0]\n",
    "    date_2 = results[results.game_date == date].game_date + pd.Timedelta(days=5)\n",
    "    date_2 = date_2.astype(str).values[0]\n",
    "\n",
    "    opp = results[results.game_date == date].opposition.str.split(' ').str[0].values[0]\n",
    "    \n",
    "    if area == \"liv\":\n",
    "        url = f\"https://www.britishnewspaperarchive.co.uk/search/results/{date_1}/{date_2}?basicsearch=%2btranmere%20%2b{opp}&freesearch=tranmere%20{opp}&place=liverpool%2c%20lancashire%2c%20england&retrievecountrycounts=false&mostspecificlocation=liverpool%2c%20lancashire%2c%20england&sortorder=dayearly\"\n",
    "    else:\n",
    "        url = f\"https://www.britishnewspaperarchive.co.uk/search/results/{date_1}/{date_2}?basicsearch=%2btranmere%20%2b{opp}&freesearch=tranmere%20{opp}&&retrievecountrycounts=false&sortorder=dayearly\"\n",
    "\n",
    "    sub_mins = pd.read_csv(\"./manual/subs_missing_mins.csv\", parse_dates = [\"game_date\"])\n",
    "    sub_mins = sub_mins[sub_mins.game_date == date]\n",
    "    \n",
    "    print(\"\\nSUBSTITUTES\")\n",
    "    print(len(\"SUBSTITUTES\") * \"-\")\n",
    "    if len(sub_mins) == 0:\n",
    "        print(\"No subs.\\n\")\n",
    "    else:\n",
    "        display(HTML(sub_mins.to_html(index = False)))\n",
    "\n",
    "    yc = pd.read_csv(\"./manual/cards_yellow.csv\", parse_dates = [\"game_date\"])\n",
    "    yc = yc[yc.game_date == date]\n",
    "    print(\"\\nYELLOW CARDS\")\n",
    "    print(len(\"Yellow cards\") * \"-\")\n",
    "    display(HTML(yc.to_html(index = False)))\n",
    "\n",
    "    rc = pd.read_csv(\"./manual/cards_red.csv\", parse_dates = [\"game_date\"])\n",
    "    rc = rc[rc.game_date == date]\n",
    "    print(\"\\nRED CARDS\")\n",
    "    print(len(\"Red cards\") * \"-\")\n",
    "    display(HTML(rc.to_html(index = False)))\n",
    "\n",
    "    goal_mins = pd.read_csv(\"./manual/goal_mins_new.csv\", parse_dates = [\"game_date\"])\n",
    "    goal_mins = goal_mins[goal_mins.game_date == date]\n",
    "    print(\"\\nGOAL MINS\")\n",
    "\n",
    "    display(HTML(goal_mins.to_html(index = False)))\n",
    "\n",
    "    print(\"\\nLIBRARY URL:\")\n",
    "    print(len(\"Library URL:\") * \"-\")\n",
    "    print(url)\n",
    "\n",
    "    pyperclip.copy(f\"{date},\")"
   ]
  },
  {
   "cell_type": "code",
   "execution_count": 4,
   "metadata": {},
   "outputs": [
    {
     "name": "stdout",
     "output_type": "stream",
     "text": [
      "MATCH DETAILS\n",
      "-------------\n"
     ]
    },
    {
     "data": {
      "text/html": [
       "<table border=\"1\" class=\"dataframe\">\n",
       "  <thead>\n",
       "    <tr style=\"text-align: right;\">\n",
       "      <th>game_date</th>\n",
       "      <th>opposition</th>\n",
       "      <th>venue</th>\n",
       "      <th>score</th>\n",
       "      <th>competition</th>\n",
       "    </tr>\n",
       "  </thead>\n",
       "  <tbody>\n",
       "    <tr>\n",
       "      <td>1994-01-23</td>\n",
       "      <td>Bolton Wanderers</td>\n",
       "      <td>A</td>\n",
       "      <td>1-2</td>\n",
       "      <td>League Division 1</td>\n",
       "    </tr>\n",
       "  </tbody>\n",
       "</table>"
      ],
      "text/plain": [
       "<IPython.core.display.HTML object>"
      ]
     },
     "metadata": {},
     "output_type": "display_data"
    },
    {
     "name": "stdout",
     "output_type": "stream",
     "text": [
      "\n",
      "SUBSTITUTES\n",
      "-----------\n"
     ]
    },
    {
     "data": {
      "text/html": [
       "<table border=\"1\" class=\"dataframe\">\n",
       "  <thead>\n",
       "    <tr style=\"text-align: right;\">\n",
       "      <th>season</th>\n",
       "      <th>game_no</th>\n",
       "      <th>game_date</th>\n",
       "      <th>player_name</th>\n",
       "      <th>shirt_no</th>\n",
       "      <th>role</th>\n",
       "      <th>min_on</th>\n",
       "      <th>min_off</th>\n",
       "    </tr>\n",
       "  </thead>\n",
       "  <tbody>\n",
       "    <tr>\n",
       "      <td>1993/94</td>\n",
       "      <td>35</td>\n",
       "      <td>1994-01-23</td>\n",
       "      <td>Ian Nolan</td>\n",
       "      <td>3</td>\n",
       "      <td>starter</td>\n",
       "      <td>NaN</td>\n",
       "      <td>73.0</td>\n",
       "    </tr>\n",
       "    <tr>\n",
       "      <td>1993/94</td>\n",
       "      <td>35</td>\n",
       "      <td>1994-01-23</td>\n",
       "      <td>Kenny Irons</td>\n",
       "      <td>12</td>\n",
       "      <td>sub</td>\n",
       "      <td>73.0</td>\n",
       "      <td>NaN</td>\n",
       "    </tr>\n",
       "  </tbody>\n",
       "</table>"
      ],
      "text/plain": [
       "<IPython.core.display.HTML object>"
      ]
     },
     "metadata": {},
     "output_type": "display_data"
    },
    {
     "name": "stdout",
     "output_type": "stream",
     "text": [
      "\n",
      "YELLOW CARDS\n",
      "------------\n"
     ]
    },
    {
     "data": {
      "text/html": [
       "<table border=\"1\" class=\"dataframe\">\n",
       "  <thead>\n",
       "    <tr style=\"text-align: right;\">\n",
       "      <th>game_date</th>\n",
       "      <th>player_name</th>\n",
       "    </tr>\n",
       "  </thead>\n",
       "  <tbody>\n",
       "  </tbody>\n",
       "</table>"
      ],
      "text/plain": [
       "<IPython.core.display.HTML object>"
      ]
     },
     "metadata": {},
     "output_type": "display_data"
    },
    {
     "name": "stdout",
     "output_type": "stream",
     "text": [
      "\n",
      "RED CARDS\n",
      "---------\n"
     ]
    },
    {
     "data": {
      "text/html": [
       "<table border=\"1\" class=\"dataframe\">\n",
       "  <thead>\n",
       "    <tr style=\"text-align: right;\">\n",
       "      <th>game_date</th>\n",
       "      <th>player_name</th>\n",
       "      <th>min_so</th>\n",
       "    </tr>\n",
       "  </thead>\n",
       "  <tbody>\n",
       "  </tbody>\n",
       "</table>"
      ],
      "text/plain": [
       "<IPython.core.display.HTML object>"
      ]
     },
     "metadata": {},
     "output_type": "display_data"
    },
    {
     "name": "stdout",
     "output_type": "stream",
     "text": [
      "\n",
      "GOAL MINS\n"
     ]
    },
    {
     "data": {
      "text/html": [
       "<table border=\"1\" class=\"dataframe\">\n",
       "  <thead>\n",
       "    <tr style=\"text-align: right;\">\n",
       "      <th>game_date</th>\n",
       "      <th>player_name</th>\n",
       "      <th>goal_min</th>\n",
       "      <th>penalty</th>\n",
       "    </tr>\n",
       "  </thead>\n",
       "  <tbody>\n",
       "    <tr>\n",
       "      <td>1994-01-23</td>\n",
       "      <td>Chris Malkin</td>\n",
       "      <td>51.0</td>\n",
       "      <td>NaN</td>\n",
       "    </tr>\n",
       "  </tbody>\n",
       "</table>"
      ],
      "text/plain": [
       "<IPython.core.display.HTML object>"
      ]
     },
     "metadata": {},
     "output_type": "display_data"
    },
    {
     "name": "stdout",
     "output_type": "stream",
     "text": [
      "\n",
      "LIBRARY URL:\n",
      "------------\n",
      "https://www.britishnewspaperarchive.co.uk/search/results/1994-01-23/1994-01-28?basicsearch=%2btranmere%20%2bBolton&freesearch=tranmere%20Bolton&place=liverpool%2c%20lancashire%2c%20england&retrievecountrycounts=false&mostspecificlocation=liverpool%2c%20lancashire%2c%20england&sortorder=dayearly\n"
     ]
    }
   ],
   "source": [
    "game_date = \"1994-01-23\"\n",
    "get_url(game_date)"
   ]
  },
  {
   "cell_type": "code",
   "execution_count": 5,
   "metadata": {},
   "outputs": [],
   "source": [
    "def save_files():\n",
    "    sub_mins = pd.read_csv(\"./manual/subs_missing_mins.csv\", parse_dates = [\"game_date\"]).sort_values(by = [\"game_date\"])\n",
    "    sub_mins.to_csv(\"./manual/subs_missing_mins.csv\", index = False)\n",
    "\n",
    "    yc = pd.read_csv(\"./manual/cards_yellow.csv\", parse_dates = [\"game_date\"]).sort_values(by = [\"game_date\"])\n",
    "    yc.to_csv(\"./manual/cards_yellow.csv\", index = False)\n",
    "\n",
    "    rc = pd.read_csv(\"./manual/cards_red.csv\", parse_dates = [\"game_date\"]).sort_values(by = [\"game_date\", \"min_so\"])\n",
    "    rc.to_csv(\"./manual/cards_red.csv\", index = False)\n",
    "\n",
    "    goal_mins = pd.read_csv(\"./manual/goal_mins_new.csv\", parse_dates = [\"game_date\"]).sort_values(by = [\"game_date\", \"goal_min\"])\n",
    "    goal_mins.to_csv(\"./manual/goal_mins_new.csv\", index = False)\n",
    "\n",
    "save_files()"
   ]
  },
  {
   "cell_type": "code",
   "execution_count": null,
   "metadata": {},
   "outputs": [],
   "source": []
  }
 ],
 "metadata": {
  "kernelspec": {
   "display_name": "Python 3",
   "language": "python",
   "name": "python3"
  },
  "language_info": {
   "codemirror_mode": {
    "name": "ipython",
    "version": 3
   },
   "file_extension": ".py",
   "mimetype": "text/x-python",
   "name": "python",
   "nbconvert_exporter": "python",
   "pygments_lexer": "ipython3",
   "version": "3.12.1"
  },
  "orig_nbformat": 4
 },
 "nbformat": 4,
 "nbformat_minor": 2
}
