{
 "cells": [
  {
   "cell_type": "code",
   "execution_count": 2,
   "metadata": {},
   "outputs": [],
   "source": [
    "import bs4\n",
    "import requests\n",
    "import pandas as pd\n",
    "\n",
    "headers = {\n",
    "    'User-Agent': 'Mozilla/5.0 (Macintosh; Intel Mac OS X 10_15_7) '\n",
    "                    'AppleWebKit/537.36 (KHTML, like Gecko) '\n",
    "                    'Chrome/92.0.4515.107 Safari/537.36',\n",
    "}"
   ]
  },
  {
   "cell_type": "code",
   "execution_count": 16,
   "metadata": {},
   "outputs": [],
   "source": [
    "url = 'https://www.tranmere-web.com/page/blog/1968-gallery'"
   ]
  },
  {
   "cell_type": "code",
   "execution_count": 17,
   "metadata": {},
   "outputs": [],
   "source": [
    "r = requests.get(url, headers=headers)\n",
    "\n",
    "soup = bs4.BeautifulSoup(r.text, 'lxml')\n",
    "\n",
    "doc = soup.find('article')\n",
    "\n",
    "plr_imgs = doc.find_all('h3')\n",
    "\n",
    "img_urls = []\n",
    "\n",
    "for plr in plr_imgs:\n",
    "    plr_name = plr.text\n",
    "    plr_url = plr.find('a')['href']\n",
    "    img_urls.append({\n",
    "        'name': plr_name,\n",
    "        'url': plr_url,\n",
    "    })\n",
    "    r = requests.get(plr_url, allow_redirects = True)\n",
    "    open(f'./imgs/1968-{plr_name.lower().replace(' ', '-')}.jpg', 'wb').write(r.content)\n",
    "\n"
   ]
  },
  {
   "cell_type": "code",
   "execution_count": null,
   "metadata": {},
   "outputs": [],
   "source": []
  }
 ],
 "metadata": {
  "kernelspec": {
   "display_name": "Python 3",
   "language": "python",
   "name": "python3"
  },
  "language_info": {
   "codemirror_mode": {
    "name": "ipython",
    "version": 3
   },
   "file_extension": ".py",
   "mimetype": "text/x-python",
   "name": "python",
   "nbconvert_exporter": "python",
   "pygments_lexer": "ipython3",
   "version": "3.12.5"
  }
 },
 "nbformat": 4,
 "nbformat_minor": 2
}
