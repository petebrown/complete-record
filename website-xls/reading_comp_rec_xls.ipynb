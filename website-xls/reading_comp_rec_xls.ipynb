{
 "cells": [
  {
   "cell_type": "markdown",
   "metadata": {},
   "source": [
    "> #### Seasonal tables:\n",
    "> \n",
    ">These show the match number, abbreviated date, competition, venue, opponents, result and scoreline, scorers, attendance and the players who appeared (but not unused substitutes) according to the shirt number.\n",
    "> \n",
    "> Prior to the introduction of shirt numbers in the 1930's, nos. 1-11 indicate the traditional 1-2-3-5 team formation from 'keeper to outside left as reported in the newspapers.\n",
    "> \n",
    "> All games are listed in chronological order, League and Cups, but individual player statistics are summarised separately for each competition.\n",
    "> \n",
    "> Divisions of the Football League are contemporary (e.g. FL1 today is FL2 in season 1938-39) and PO = Play-off fixtures. The F A Cup/Round is shown as FA 1 etc with the addition of /R for a replay; the Football League Cup is shown similarly with two leg ties indicated as LC1/1, and LC1/2 etc. AM = Associate Members' Cup, FM = Full Members' Cup and AI = Anglo-Italian Tournament. Tournament sponsors' names have not been shown.\n",
    "> \n",
    "> The order in which scorers appear does not necessarily indicate the order in which the goals were scored. Players' numbers are shown with an * when substituted by number 12, # by number 13 and + by number 14.\n",
    "> \n",
    "> With the introduction of squad numbers in 1999-2000, this will change to S1, S2 and S3 for 1st, 2nd & 3rd subs.\n",
    "\n",
    "https://web.archive.org/web/20000302151136/http://www.tranmererovers.co.uk/archive_index.htm"
   ]
  },
  {
   "cell_type": "code",
   "execution_count": 4,
   "metadata": {},
   "outputs": [],
   "source": [
    "import glob\n",
    "import pandas as pd\n",
    "\n",
    "filenames = glob.glob(\"./complete-record-xls/*.xls\")\n",
    "filenames = sorted(filenames)"
   ]
  },
  {
   "cell_type": "code",
   "execution_count": 5,
   "metadata": {},
   "outputs": [],
   "source": [
    "dfs = []\n",
    "\n",
    "n_seasons = len(filenames)\n",
    "\n",
    "for i in range(0, n_seasons):\n",
    "    filename = filenames[i]\n",
    "    df = pd.read_excel(filename)\n",
    "    \n",
    "    if '9899' in filename:\n",
    "        season = df.columns[0].strip()\n",
    "        ssn_finish = df.columns[4]\n",
    "    else:\n",
    "        season = df.columns[1].strip()\n",
    "        ssn_finish = df.columns[5]\n",
    "\n",
    "    column_names = [\"game_no\", \"game_date\", \"comp\", \"opposition\", \"venue\", \"outcome\", \"scorers\", \"attendance\"]\n",
    "\n",
    "    for i in range(0, len(column_names)):\n",
    "        df.columns.values[i] = column_names[i]\n",
    "\n",
    "    df[\"season\"] = season\n",
    "    df[\"ssn_finish\"] = ssn_finish\n",
    "\n",
    "    dfs.append(df)"
   ]
  },
  {
   "cell_type": "code",
   "execution_count": 6,
   "metadata": {},
   "outputs": [],
   "source": [
    "for i in range(0, len(dfs)):\n",
    "    df = dfs[i]\n",
    "    season = df.season.iloc[0]\n",
    "    \n",
    "    df.game_no = pd.to_numeric(df.game_no, errors='coerce')\n",
    "    df = df.dropna(subset=[\"game_no\"])\n",
    "\n",
    "    df = df.drop([\"game_no\", \"game_date\", \"comp\", \"opposition\", \"venue\", \"outcome\", \"scorers\", \"attendance\", \"season\", \"ssn_finish\"], axis=1)\n",
    "\n",
    "    df.to_csv(f\"./csv/{season}.csv\", index=False)"
   ]
  },
  {
   "cell_type": "code",
   "execution_count": null,
   "metadata": {},
   "outputs": [],
   "source": []
  }
 ],
 "metadata": {
  "kernelspec": {
   "display_name": "Python 3",
   "language": "python",
   "name": "python3"
  },
  "language_info": {
   "codemirror_mode": {
    "name": "ipython",
    "version": 3
   },
   "file_extension": ".py",
   "mimetype": "text/x-python",
   "name": "python",
   "nbconvert_exporter": "python",
   "pygments_lexer": "ipython3",
   "version": "3.11.3"
  },
  "orig_nbformat": 4
 },
 "nbformat": 4,
 "nbformat_minor": 2
}
