{
 "cells": [
  {
   "cell_type": "code",
   "execution_count": 4,
   "metadata": {},
   "outputs": [],
   "source": [
    "import glob\n",
    "import pandas as pd\n",
    "\n",
    "filenames = glob.glob(\"./complete-record-xls/*.xls\")\n",
    "filenames = sorted(filenames)"
   ]
  },
  {
   "cell_type": "code",
   "execution_count": 5,
   "metadata": {},
   "outputs": [],
   "source": [
    "dfs = []\n",
    "\n",
    "n_seasons = len(filenames)\n",
    "\n",
    "for i in range(0, n_seasons):\n",
    "    filename = filenames[i]\n",
    "    df = pd.read_excel(filename)\n",
    "    \n",
    "    if '9899' in filename:\n",
    "        season = df.columns[0].strip()\n",
    "        ssn_finish = df.columns[4]\n",
    "    else:\n",
    "        season = df.columns[1].strip()\n",
    "        ssn_finish = df.columns[5]\n",
    "\n",
    "    column_names = [\"game_no\", \"game_date\", \"comp\", \"opposition\", \"venue\", \"outcome\", \"scorers\", \"attendance\"]\n",
    "\n",
    "    for i in range(0, len(column_names)):\n",
    "        df.columns.values[i] = column_names[i]\n",
    "\n",
    "    df[\"season\"] = season\n",
    "    df[\"ssn_finish\"] = ssn_finish\n",
    "\n",
    "    dfs.append(df)"
   ]
  },
  {
   "cell_type": "code",
   "execution_count": 6,
   "metadata": {},
   "outputs": [],
   "source": [
    "for i in range(0, len(dfs)):\n",
    "    df = dfs[i]\n",
    "    season = df.season.iloc[0]\n",
    "    \n",
    "    df.game_no = pd.to_numeric(df.game_no, errors='coerce')\n",
    "    df = df.dropna(subset=[\"game_no\"])\n",
    "\n",
    "    df = df.drop([\"game_no\", \"game_date\", \"comp\", \"opposition\", \"venue\", \"outcome\", \"scorers\", \"attendance\", \"season\", \"ssn_finish\"], axis=1)\n",
    "\n",
    "    df.to_csv(f\"./csv/{season}.csv\", index=False, )"
   ]
  },
  {
   "cell_type": "code",
   "execution_count": null,
   "metadata": {},
   "outputs": [],
   "source": []
  }
 ],
 "metadata": {
  "kernelspec": {
   "display_name": "Python 3",
   "language": "python",
   "name": "python3"
  },
  "language_info": {
   "codemirror_mode": {
    "name": "ipython",
    "version": 3
   },
   "file_extension": ".py",
   "mimetype": "text/x-python",
   "name": "python",
   "nbconvert_exporter": "python",
   "pygments_lexer": "ipython3",
   "version": "3.11.3"
  },
  "orig_nbformat": 4
 },
 "nbformat": 4,
 "nbformat_minor": 2
}
