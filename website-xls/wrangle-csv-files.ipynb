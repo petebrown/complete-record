{
 "cells": [
  {
   "cell_type": "code",
   "execution_count": 45,
   "metadata": {
    "vscode": {
     "languageId": "r"
    }
   },
   "outputs": [],
   "source": [
    "library(tidyverse)\n",
    "\n",
    "results_df <- read_csv(\"https://raw.githubusercontent.com/petebrown/update-results/main/data/results_df.csv\", show_col_types = FALSE)\n",
    "\n",
    "player_ssns <- read_csv(\"../output/player_ssns.csv\", show_col_types = FALSE)"
   ]
  },
  {
   "cell_type": "code",
   "execution_count": 46,
   "metadata": {
    "vscode": {
     "languageId": "r"
    }
   },
   "outputs": [],
   "source": [
    "files <- Sys.glob(\"./csv/*.csv\")\n",
    "\n",
    "long_ssns <- data.frame()\n",
    "\n",
    "for (file in files) {\n",
    "    season = str_remove_all(file, \"[\\\\.\\\\/csv\\\\/]\")\n",
    "    season = str_replace_all(season, \"-\", \"/\")\n",
    "    \n",
    "    df <- read_csv(file, show_col_types = FALSE) %>%\n",
    "        mutate(\n",
    "            season = season,\n",
    "            game_no = row_number()\n",
    "        )\n",
    "\n",
    "    ssn_df <- results_df %>%\n",
    "    select(\n",
    "        season,\n",
    "        ssn_game_no,\n",
    "        game_date,\n",
    "        competition,\n",
    "        venue,\n",
    "        opposition,\n",
    "        outcome,\n",
    "        score,\n",
    "        attendance\n",
    "    ) %>%\n",
    "    rename(\n",
    "        game_no = ssn_game_no\n",
    "    ) %>%\n",
    "    inner_join(\n",
    "        df,\n",
    "        by = c(\"season\", \"game_no\")\n",
    "    ) %>%\n",
    "    arrange(\n",
    "        game_date\n",
    "    ) %>%\n",
    "        mutate(\n",
    "        across(-game_no, as.character)\n",
    "    ) %>%\n",
    "    select(\n",
    "        -game_date,\n",
    "        -venue,\n",
    "        -opposition,\n",
    "        -outcome,\n",
    "        -score,\n",
    "        -attendance\n",
    "    ) %>%\n",
    "    pivot_longer(\n",
    "        cols = -c(\"season\", \"competition\", \"game_no\"),\n",
    "        names_to = \"player_name\",\n",
    "        values_to = \"appearance\"\n",
    "    ) %>%\n",
    "    filter(\n",
    "        !is.na(appearance)\n",
    "    ) %>%\n",
    "    mutate(\n",
    "        off_for = case_when(\n",
    "            str_detect(appearance, \"\\\\*\") ~ \"12\",\n",
    "            str_detect(appearance, \"#\") ~ \"13\",\n",
    "            str_detect(appearance, \"\\\\+\") ~ \"14\",\n",
    "            .default = NA_character_\n",
    "        ),\n",
    "        off_for = as.numeric(off_for),\n",
    "        shirt_no = str_remove_all(appearance, \"\\\\*|\\\\+|\\\\#\"),\n",
    "        shirt_no = as.numeric(shirt_no),\n",
    "        role = ifelse(shirt_no <= 11, \"starter\", \"sub\")\n",
    "    ) %>%\n",
    "    arrange(\n",
    "        game_no,\n",
    "        shirt_no\n",
    "    )\n",
    "\n",
    "    long_ssns <- bind_rows(long_ssns, ssn_df)\n",
    "}"
   ]
  },
  {
   "cell_type": "code",
   "execution_count": 47,
   "metadata": {
    "vscode": {
     "languageId": "r"
    }
   },
   "outputs": [],
   "source": [
    "final_ssn_df <- long_ssns %>%\n",
    "    left_join(\n",
    "        long_ssns %>%\n",
    "        filter(\n",
    "            !is.na(off_for) | role == \"sub\"\n",
    "        )  %>%\n",
    "        select(\n",
    "            season,\n",
    "            game_no,\n",
    "            shirt_no,\n",
    "            off_for\n",
    "        ),\n",
    "    by = c(\n",
    "        \"season\" = \"season\",\n",
    "        \"game_no\" = \"game_no\",\n",
    "        \"shirt_no\" = \"off_for\")\n",
    "    ) %>%\n",
    "    rename(\n",
    "        on_for = shirt_no.y\n",
    "    ) %>%\n",
    "    select(\n",
    "        season,\n",
    "        game_no,\n",
    "        player_name,\n",
    "        shirt_no,\n",
    "        role,\n",
    "        on_for,\n",
    "        off_for\n",
    "    ) %>%\n",
    "    mutate(\n",
    "        player_name = case_when(\n",
    "            .default = player_name,\n",
    "            season == \"1954/55\" & player_name == \"MacNamara\" ~ \"McNamara\"\n",
    "        ),\n",
    "        shirt_no = case_when(\n",
    "            .default = shirt_no,\n",
    "            season == \"1997/98\" & game_no == 31 & player_name == \"Mahon\" ~ 15,\n",
    "            season == \"1997/98\" & game_no == 31 & player_name == \"Hill\" ~ 16,\n",
    "            season == \"1997/98\" & game_no == 38 & player_name == \"Mellon\" ~ 15,\n",
    "            season == \"1998/99\" & game_no == 4 & player_name == \"Koumas\" ~ 15,\n",
    "            season == \"1998/99\" & game_no == 9 & player_name == \"Mahon\" ~ 15,\n",
    "            season == \"1998/99\" & game_no == 11 & player_name == \"Jones G\" ~ 15,\n",
    "            season == \"1998/99\" & game_no == 19 & player_name == \"Challinor\" ~ 15,\n",
    "            season == \"1998/99\" & game_no == 19 & player_name == \"Parkinson\" ~ 16,\n",
    "            season == \"1998/99\" & game_no == 32 & player_name == \"Jones L\" ~ 16\n",
    "        ),\n",
    "        off_for = case_when(\n",
    "            .default = off_for,\n",
    "            season == \"1997/98\" & game_no == 31 & off_for == 12 ~ 15,\n",
    "            season == \"1997/98\" & game_no == 31 & off_for == 13 ~ 16,\n",
    "            season == \"1997/98\" & game_no == 38 & off_for == 13 ~ 15,\n",
    "            season == \"1998/99\" & game_no == 4 & shirt_no == 7 & player_name == \"Mahon\" ~ 15,\n",
    "            season == \"1998/99\" & game_no == 9 & shirt_no == 11 & player_name == \"Mellon\" ~ 15,\n",
    "            season == \"1998/99\" & game_no == 11 & shirt_no == 8 & player_name == \"Santos\" ~ 15,\n",
    "            season == \"1998/99\" & game_no == 19 & shirt_no == 3 & player_name == \"Thompson\" ~ 15,\n",
    "            season == \"1998/99\" & game_no == 19 & shirt_no == 7 & player_name == \"Koumas\" ~ 16,\n",
    "            season == \"1998/99\" & game_no == 32 & shirt_no == 10 & player_name == \"Mellon\" ~ 16\n",
    "        ),\n",
    "        on_for = case_when(\n",
    "            .default = on_for,\n",
    "            season == \"1998/99\" & game_no == 4 & shirt_no == 15 & player_name == \"Koumas\" ~ 15,\n",
    "            season == \"1998/99\" & game_no == 9 & shirt_no == 15 & player_name == \"Mahon\" ~ 15,\n",
    "            season == \"1998/99\" & game_no == 11 & shirt_no == 15 & player_name == \"Jones G\" ~ 15,\n",
    "            season == \"1998/99\" & game_no == 19 & shirt_no == 15 & player_name == \"Challinor\" ~ 15,\n",
    "            season == \"1998/99\" & game_no == 19 & shirt_no == 16 & player_name == \"Parkinson\" ~ 16,\n",
    "            season == \"1998/99\" & game_no == 32 & shirt_no == 16 & player_name == \"Jones L\" ~ 16\n",
    "        )\n",
    "    )"
   ]
  },
  {
   "cell_type": "code",
   "execution_count": 48,
   "metadata": {
    "vscode": {
     "languageId": "r"
    }
   },
   "outputs": [],
   "source": [
    "current <- read_csv(\"https://raw.githubusercontent.com/petebrown/complete-record/main/output/apps_long.csv\", show_col_types = FALSE)\n",
    "\n",
    "xls_ssns <- final_ssn_df %>%\n",
    "    filter(\n",
    "        !season %in% current$season\n",
    "    )"
   ]
  },
  {
   "cell_type": "code",
   "execution_count": 49,
   "metadata": {
    "vscode": {
     "languageId": "r"
    }
   },
   "outputs": [],
   "source": [
    "write_csv(xls_ssns, \"../output/xls_ssns.csv\", na = \"\")    "
   ]
  }
 ],
 "metadata": {
  "kernelspec": {
   "display_name": "R",
   "language": "R",
   "name": "ir"
  },
  "language_info": {
   "codemirror_mode": "r",
   "file_extension": ".r",
   "mimetype": "text/x-r-source",
   "name": "R",
   "pygments_lexer": "r",
   "version": "4.3.0"
  },
  "orig_nbformat": 4
 },
 "nbformat": 4,
 "nbformat_minor": 2
}
