{
 "cells": [
  {
   "cell_type": "code",
   "execution_count": 3,
   "metadata": {
    "vscode": {
     "languageId": "r"
    }
   },
   "outputs": [],
   "source": [
    "library(tidyverse)\n",
    "\n",
    "results_df <- read_csv(\"https://raw.githubusercontent.com/petebrown/update-results/main/data/results_df.csv\", show_col_types = FALSE)\n",
    "\n",
    "read_ssn <- function(year) {\n",
    "    ssn_start <- year\n",
    "    ssn_end <- substr(as.character(year + 1), 3, 4)\n",
    "\n",
    "    file_path = paste0(\"./csv/\", ssn_start, \"-\", ssn_end, \".csv\")\n",
    "    read_csv(file_path, show_col_types = FALSE) %>%\n",
    "    mutate(\n",
    "        season = paste0(ssn_start, \"/\", ssn_end),\n",
    "        game_no = row_number()\n",
    "    ) %>%\n",
    "    select(-starts_with(\"...\"))\n",
    "}"
   ]
  },
  {
   "cell_type": "code",
   "execution_count": 7,
   "metadata": {
    "vscode": {
     "languageId": "r"
    }
   },
   "outputs": [
    {
     "data": {
      "text/html": [],
      "text/latex": [],
      "text/markdown": [],
      "text/plain": [
       "character(0)"
      ]
     },
     "metadata": {},
     "output_type": "display_data"
    }
   ],
   "source": [
    "Sys.glob(\"./csv/*.csv\")\n",
    "\n",
    "#  %>%\n",
    "\n",
    "\n",
    "\n",
    "\n",
    "\n",
    "#     map_df(~ read_csv(.x, show_col_types = FALSE) %>%\n",
    "#         mutate(\n",
    "#             season = str_extract(.x, \"\\\\d{4}/\\\\d{2}\"),\n",
    "#             game_no = row_number()\n",
    "#         ) %>%\n",
    "#         select(-starts_with(\"...\"))\n",
    "#     )"
   ]
  },
  {
   "cell_type": "code",
   "execution_count": 6,
   "metadata": {
    "vscode": {
     "languageId": "r"
    }
   },
   "outputs": [
    {
     "data": {
      "text/html": [],
      "text/latex": [],
      "text/markdown": [],
      "text/plain": [
       "<0 x 0 matrix>"
      ]
     },
     "metadata": {},
     "output_type": "display_data"
    }
   ],
   "source": [
    "df"
   ]
  },
  {
   "cell_type": "code",
   "execution_count": null,
   "metadata": {
    "vscode": {
     "languageId": "r"
    }
   },
   "outputs": [],
   "source": []
  }
 ],
 "metadata": {
  "kernelspec": {
   "display_name": "R",
   "language": "R",
   "name": "ir"
  },
  "language_info": {
   "codemirror_mode": "r",
   "file_extension": ".r",
   "mimetype": "text/x-r-source",
   "name": "R",
   "pygments_lexer": "r",
   "version": "4.3.0"
  },
  "orig_nbformat": 4
 },
 "nbformat": 4,
 "nbformat_minor": 2
}
