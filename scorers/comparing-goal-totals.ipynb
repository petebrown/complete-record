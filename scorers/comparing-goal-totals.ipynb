{
 "cells": [
  {
   "cell_type": "code",
   "execution_count": 2,
   "metadata": {
    "vscode": {
     "languageId": "r"
    }
   },
   "outputs": [
    {
     "data": {
      "text/html": [
       "<table class=\"dataframe\">\n",
       "<caption>A tibble: 6 × 2</caption>\n",
       "<thead>\n",
       "\t<tr><th scope=col>player_name</th><th scope=col>goals_a</th></tr>\n",
       "\t<tr><th scope=col>&lt;chr&gt;</th><th scope=col>&lt;dbl&gt;</th></tr>\n",
       "</thead>\n",
       "<tbody>\n",
       "\t<tr><td>Abe Rosenthal</td><td>40</td></tr>\n",
       "\t<tr><td>Adrian Thorpe</td><td> 3</td></tr>\n",
       "\t<tr><td>Aiden Maher  </td><td> 1</td></tr>\n",
       "\t<tr><td>Alan A'Court </td><td>11</td></tr>\n",
       "\t<tr><td>Alan Arnell  </td><td>38</td></tr>\n",
       "\t<tr><td>Alan Cox     </td><td> 2</td></tr>\n",
       "</tbody>\n",
       "</table>\n"
      ],
      "text/latex": [
       "A tibble: 6 × 2\n",
       "\\begin{tabular}{ll}\n",
       " player\\_name & goals\\_a\\\\\n",
       " <chr> & <dbl>\\\\\n",
       "\\hline\n",
       "\t Abe Rosenthal & 40\\\\\n",
       "\t Adrian Thorpe &  3\\\\\n",
       "\t Aiden Maher   &  1\\\\\n",
       "\t Alan A'Court  & 11\\\\\n",
       "\t Alan Arnell   & 38\\\\\n",
       "\t Alan Cox      &  2\\\\\n",
       "\\end{tabular}\n"
      ],
      "text/markdown": [
       "\n",
       "A tibble: 6 × 2\n",
       "\n",
       "| player_name &lt;chr&gt; | goals_a &lt;dbl&gt; |\n",
       "|---|---|\n",
       "| Abe Rosenthal | 40 |\n",
       "| Adrian Thorpe |  3 |\n",
       "| Aiden Maher   |  1 |\n",
       "| Alan A'Court  | 11 |\n",
       "| Alan Arnell   | 38 |\n",
       "| Alan Cox      |  2 |\n",
       "\n"
      ],
      "text/plain": [
       "  player_name   goals_a\n",
       "1 Abe Rosenthal 40     \n",
       "2 Adrian Thorpe  3     \n",
       "3 Aiden Maher    1     \n",
       "4 Alan A'Court  11     \n",
       "5 Alan Arnell   38     \n",
       "6 Alan Cox       2     "
      ]
     },
     "metadata": {},
     "output_type": "display_data"
    }
   ],
   "source": [
    "library(tidyverse)\n",
    "\n",
    "scorers_a <- read_csv(\"/Users/petebrown/Developer/complete-record/output/scorers-long.csv\", show_col_types = FALSE) %>%\n",
    "    mutate(player_name = case_when(\n",
    "        .default = player_name,\n",
    "        player_name == \"Ian Thomas-Moore\" ~ \"Ian Moore\",\n",
    "        player_name == \"John Morrissey\" ~ \"Johnny Morrissey\"\n",
    "    )) %>%\n",
    "    filter(season < 1997) %>%\n",
    "    group_by(player_name) %>%\n",
    "    summarise(goals_a = sum(goals_scored))\n",
    "\n",
    "head(scorers_a)"
   ]
  },
  {
   "cell_type": "code",
   "execution_count": 3,
   "metadata": {
    "vscode": {
     "languageId": "r"
    }
   },
   "outputs": [
    {
     "data": {
      "text/html": [
       "<table class=\"dataframe\">\n",
       "<caption>A tibble: 6 × 2</caption>\n",
       "<thead>\n",
       "\t<tr><th scope=col>player_name</th><th scope=col>goals_b</th></tr>\n",
       "\t<tr><th scope=col>&lt;chr&gt;</th><th scope=col>&lt;dbl&gt;</th></tr>\n",
       "</thead>\n",
       "<tbody>\n",
       "\t<tr><td>Abe Rosenthal</td><td>44</td></tr>\n",
       "\t<tr><td>Adrian Thorpe</td><td> 3</td></tr>\n",
       "\t<tr><td>Aiden Maher  </td><td> 1</td></tr>\n",
       "\t<tr><td>Alan A'Court </td><td>11</td></tr>\n",
       "\t<tr><td>Alan Arnell  </td><td>38</td></tr>\n",
       "\t<tr><td>Alan Blundell</td><td> 0</td></tr>\n",
       "</tbody>\n",
       "</table>\n"
      ],
      "text/latex": [
       "A tibble: 6 × 2\n",
       "\\begin{tabular}{ll}\n",
       " player\\_name & goals\\_b\\\\\n",
       " <chr> & <dbl>\\\\\n",
       "\\hline\n",
       "\t Abe Rosenthal & 44\\\\\n",
       "\t Adrian Thorpe &  3\\\\\n",
       "\t Aiden Maher   &  1\\\\\n",
       "\t Alan A'Court  & 11\\\\\n",
       "\t Alan Arnell   & 38\\\\\n",
       "\t Alan Blundell &  0\\\\\n",
       "\\end{tabular}\n"
      ],
      "text/markdown": [
       "\n",
       "A tibble: 6 × 2\n",
       "\n",
       "| player_name &lt;chr&gt; | goals_b &lt;dbl&gt; |\n",
       "|---|---|\n",
       "| Abe Rosenthal | 44 |\n",
       "| Adrian Thorpe |  3 |\n",
       "| Aiden Maher   |  1 |\n",
       "| Alan A'Court  | 11 |\n",
       "| Alan Arnell   | 38 |\n",
       "| Alan Blundell |  0 |\n",
       "\n"
      ],
      "text/plain": [
       "  player_name   goals_b\n",
       "1 Abe Rosenthal 44     \n",
       "2 Adrian Thorpe  3     \n",
       "3 Aiden Maher    1     \n",
       "4 Alan A'Court  11     \n",
       "5 Alan Arnell   38     \n",
       "6 Alan Blundell  0     "
      ]
     },
     "metadata": {},
     "output_type": "display_data"
    }
   ],
   "source": [
    "scorers_b <- read_csv(\"/Users/petebrown/Developer/complete-record/output/player_stats.csv\", show_col_types = FALSE) %>%\n",
    "    mutate(\n",
    "        player_name = paste(forename, surname, sep = \" \")\n",
    "    ) %>%\n",
    "    group_by(player_name) %>%\n",
    "    summarise(goals_b = sum(total_gls))\n",
    "\n",
    "head(scorers_b)"
   ]
  },
  {
   "cell_type": "code",
   "execution_count": 4,
   "metadata": {
    "vscode": {
     "languageId": "r"
    }
   },
   "outputs": [
    {
     "data": {
      "text/html": [
       "<table class=\"dataframe\">\n",
       "<caption>A tibble: 5 × 3</caption>\n",
       "<thead>\n",
       "\t<tr><th scope=col>player_name</th><th scope=col>goals_a</th><th scope=col>goals_b</th></tr>\n",
       "\t<tr><th scope=col>&lt;chr&gt;</th><th scope=col>&lt;dbl&gt;</th><th scope=col>&lt;dbl&gt;</th></tr>\n",
       "</thead>\n",
       "<tbody>\n",
       "\t<tr><td>Abe Rosenthal    </td><td> 40</td><td> 44</td></tr>\n",
       "\t<tr><td>Harold Atkinson  </td><td>102</td><td>104</td></tr>\n",
       "\t<tr><td>Harold Bell      </td><td> 11</td><td> 12</td></tr>\n",
       "\t<tr><td>Llew Ashcroft    </td><td>  4</td><td>  6</td></tr>\n",
       "\t<tr><td>Stewie Williamson</td><td> 22</td><td> 23</td></tr>\n",
       "</tbody>\n",
       "</table>\n"
      ],
      "text/latex": [
       "A tibble: 5 × 3\n",
       "\\begin{tabular}{lll}\n",
       " player\\_name & goals\\_a & goals\\_b\\\\\n",
       " <chr> & <dbl> & <dbl>\\\\\n",
       "\\hline\n",
       "\t Abe Rosenthal     &  40 &  44\\\\\n",
       "\t Harold Atkinson   & 102 & 104\\\\\n",
       "\t Harold Bell       &  11 &  12\\\\\n",
       "\t Llew Ashcroft     &   4 &   6\\\\\n",
       "\t Stewie Williamson &  22 &  23\\\\\n",
       "\\end{tabular}\n"
      ],
      "text/markdown": [
       "\n",
       "A tibble: 5 × 3\n",
       "\n",
       "| player_name &lt;chr&gt; | goals_a &lt;dbl&gt; | goals_b &lt;dbl&gt; |\n",
       "|---|---|---|\n",
       "| Abe Rosenthal     |  40 |  44 |\n",
       "| Harold Atkinson   | 102 | 104 |\n",
       "| Harold Bell       |  11 |  12 |\n",
       "| Llew Ashcroft     |   4 |   6 |\n",
       "| Stewie Williamson |  22 |  23 |\n",
       "\n"
      ],
      "text/plain": [
       "  player_name       goals_a goals_b\n",
       "1 Abe Rosenthal      40      44    \n",
       "2 Harold Atkinson   102     104    \n",
       "3 Harold Bell        11      12    \n",
       "4 Llew Ashcroft       4       6    \n",
       "5 Stewie Williamson  22      23    "
      ]
     },
     "metadata": {},
     "output_type": "display_data"
    }
   ],
   "source": [
    "full_join(\n",
    "    x = scorers_a,\n",
    "    y = scorers_b,\n",
    "    by = \"player_name\"\n",
    ") %>%\n",
    "filter(goals_a != goals_b)"
   ]
  },
  {
   "cell_type": "code",
   "execution_count": 5,
   "metadata": {
    "vscode": {
     "languageId": "r"
    }
   },
   "outputs": [
    {
     "data": {
      "text/html": [
       "<table class=\"dataframe\">\n",
       "<caption>A tibble: 4 × 3</caption>\n",
       "<thead>\n",
       "\t<tr><th scope=col>season</th><th scope=col>player_name</th><th scope=col>goals</th></tr>\n",
       "\t<tr><th scope=col>&lt;chr&gt;</th><th scope=col>&lt;chr&gt;</th><th scope=col>&lt;dbl&gt;</th></tr>\n",
       "</thead>\n",
       "<tbody>\n",
       "\t<tr><td>1948/49</td><td>Stewie Williamson</td><td>7</td></tr>\n",
       "\t<tr><td>1949/50</td><td>Stewie Williamson</td><td>5</td></tr>\n",
       "\t<tr><td>1950/51</td><td>Stewie Williamson</td><td>6</td></tr>\n",
       "\t<tr><td>1951/52</td><td>Stewie Williamson</td><td>4</td></tr>\n",
       "</tbody>\n",
       "</table>\n"
      ],
      "text/latex": [
       "A tibble: 4 × 3\n",
       "\\begin{tabular}{lll}\n",
       " season & player\\_name & goals\\\\\n",
       " <chr> & <chr> & <dbl>\\\\\n",
       "\\hline\n",
       "\t 1948/49 & Stewie Williamson & 7\\\\\n",
       "\t 1949/50 & Stewie Williamson & 5\\\\\n",
       "\t 1950/51 & Stewie Williamson & 6\\\\\n",
       "\t 1951/52 & Stewie Williamson & 4\\\\\n",
       "\\end{tabular}\n"
      ],
      "text/markdown": [
       "\n",
       "A tibble: 4 × 3\n",
       "\n",
       "| season &lt;chr&gt; | player_name &lt;chr&gt; | goals &lt;dbl&gt; |\n",
       "|---|---|---|\n",
       "| 1948/49 | Stewie Williamson | 7 |\n",
       "| 1949/50 | Stewie Williamson | 5 |\n",
       "| 1950/51 | Stewie Williamson | 6 |\n",
       "| 1951/52 | Stewie Williamson | 4 |\n",
       "\n"
      ],
      "text/plain": [
       "  season  player_name       goals\n",
       "1 1948/49 Stewie Williamson 7    \n",
       "2 1949/50 Stewie Williamson 5    \n",
       "3 1950/51 Stewie Williamson 6    \n",
       "4 1951/52 Stewie Williamson 4    "
      ]
     },
     "metadata": {},
     "output_type": "display_data"
    }
   ],
   "source": [
    "read_csv(\"/Users/petebrown/Developer/complete-record/output/scorers-long.csv\", show_col_types = FALSE) %>%\n",
    "    mutate(player_name = case_when(\n",
    "        .default = player_name,\n",
    "        player_name == \"Ian Thomas-Moore\" ~ \"Ian Moore\",\n",
    "        player_name == \"John Morrissey\" ~ \"Johnny Morrissey\"\n",
    "    )) %>%\n",
    "    filter(season < 1997) %>%\n",
    "    group_by(\n",
    "        season,\n",
    "        player_name\n",
    "    ) %>%\n",
    "    summarise(\n",
    "        goals = sum(goals_scored),\n",
    "        .groups = \"drop\"\n",
    "    ) %>%\n",
    "    filter(\n",
    "        player_name == \"Stewie Williamson\"\n",
    "    )"
   ]
  },
  {
   "attachments": {},
   "cell_type": "markdown",
   "metadata": {},
   "source": [
    "Abe Rosenthal FA Cup goals for 1946/47 on page 106 are TOO HIGH by 4\n",
    "\n",
    "Harold Atkinson FA Cup goals on page 101 are TOO HIGH by 2\n",
    "\n",
    "Harold Bell FA Cup goals on page 101 are TOO HIGH by 1\n",
    "\n",
    "Ian Moore disparity is only due to 1996/97 season being under Ian Thomas Moore\n",
    "\n",
    "Llew Ashcroft FA Cup goals on page 101 are TOO HIGH by 2\n",
    "\n",
    "Johnny Morrissey disparity is only due to 1996/97 season being under John Morrissey\n",
    "\n",
    "Stewie Williams FA Cup goals on page 108 are TOO HIGH by 1"
   ]
  },
  {
   "attachments": {},
   "cell_type": "markdown",
   "metadata": {},
   "source": []
  }
 ],
 "metadata": {
  "kernelspec": {
   "display_name": "R",
   "language": "R",
   "name": "ir"
  },
  "language_info": {
   "codemirror_mode": "r",
   "file_extension": ".r",
   "mimetype": "text/x-r-source",
   "name": "R",
   "pygments_lexer": "r",
   "version": "4.3.0"
  },
  "orig_nbformat": 4
 },
 "nbformat": 4,
 "nbformat_minor": 2
}
