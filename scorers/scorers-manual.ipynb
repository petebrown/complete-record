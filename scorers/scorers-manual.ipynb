{
 "cells": [
  {
   "cell_type": "code",
   "execution_count": 11,
   "metadata": {
    "vscode": {
     "languageId": "r"
    }
   },
   "outputs": [],
   "source": [
    "library(dplyr)\n",
    "library(readr)\n",
    "\n",
    "s2122 <- read_csv(\"./csv/1921-22.csv\", show_col_types = FALSE)\n",
    "s2223 <- read_csv(\"./csv/1922-23.csv\", show_col_types = FALSE)\n",
    "s2324 <- read_csv(\"./csv/1923-24.csv\", show_col_types = FALSE)\n",
    "s2425 <- read_csv(\"./csv/1924-25.csv\", show_col_types = FALSE)\n",
    "s2526 <- read_csv(\"./csv/1925-26.csv\", show_col_types = FALSE)\n",
    "s2627 <- read_csv(\"./csv/1926-27.csv\", show_col_types = FALSE)\n",
    "s2728 <- read_csv(\"./csv/1927-28.csv\", show_col_types = FALSE)\n",
    "s2829 <- read_csv(\"./csv/1928-29.csv\", show_col_types = FALSE)\n",
    "s2930 <- read_csv(\"./csv/1929-30.csv\", show_col_types = FALSE)\n",
    "s3031 <- read_csv(\"./csv/1930-31.csv\", show_col_types = FALSE)\n",
    "s3132 <- read_csv(\"./csv/1931-32.csv\", show_col_types = FALSE)\n",
    "s3233 <- read_csv(\"./csv/1932-33.csv\", show_col_types = FALSE)\n",
    "s3334 <- read_csv(\"./csv/1933-34.csv\", show_col_types = FALSE)\n",
    "s3435 <- read_csv(\"./csv/1934-35.csv\", show_col_types = FALSE)\n",
    "s3536 <- read_csv(\"./csv/1935-36.csv\", show_col_types = FALSE)\n",
    "s3637 <- read_csv(\"./csv/1936-37.csv\", show_col_types = FALSE)\n",
    "s3738 <- read_csv(\"./csv/1937-38.csv\", show_col_types = FALSE)\n",
    "s3839 <- read_csv(\"./csv/1938-39.csv\", show_col_types = FALSE)\n",
    "s4546 <- read_csv(\"./csv/1945-46.csv\", show_col_types = FALSE)\n",
    "s4647 <- read_csv(\"./csv/1946-47.csv\", show_col_types = FALSE)\n",
    "s4748 <- read_csv(\"./csv/1947-48.csv\", show_col_types = FALSE)\n",
    "s4849 <- read_csv(\"./csv/1948-49.csv\", show_col_types = FALSE)\n",
    "s4950 <- read_csv(\"./csv/1949-50.csv\", show_col_types = FALSE)\n",
    "s5051 <- read_csv(\"./csv/1950-51.csv\", show_col_types = FALSE)\n",
    "s5152 <- read_csv(\"./csv/1951-52.csv\", show_col_types = FALSE)\n",
    "s5253 <- read_csv(\"./csv/1952-53.csv\", show_col_types = FALSE)\n",
    "s5354 <- read_csv(\"./csv/1953-54.csv\", show_col_types = FALSE)\n",
    "s5455 <- read_csv(\"./csv/1954-55.csv\", show_col_types = FALSE)\n",
    "s5556 <- read_csv(\"./csv/1955-56.csv\", show_col_types = FALSE)\n",
    "s5657 <- read_csv(\"./csv/1956-57.csv\", show_col_types = FALSE)\n",
    "s5758 <- read_csv(\"./csv/1957-58.csv\", show_col_types = FALSE)\n",
    "s5859 <- read_csv(\"./csv/1958-59.csv\", show_col_types = FALSE)\n",
    "s5960 <- read_csv(\"./csv/1959-60.csv\", show_col_types = FALSE)\n",
    "s6061 <- read_csv(\"./csv/1960-61.csv\", show_col_types = FALSE)\n",
    "s6162 <- read_csv(\"./csv/1961-62.csv\", show_col_types = FALSE)\n",
    "s6263 <- read_csv(\"./csv/1962-63.csv\", show_col_types = FALSE)\n",
    "s6364 <- read_csv(\"./csv/1963-64.csv\", show_col_types = FALSE)\n",
    "s6465 <- read_csv(\"./csv/1964-65.csv\", show_col_types = FALSE)\n",
    "s6566 <- read_csv(\"./csv/1965-66.csv\", show_col_types = FALSE)\n",
    "s6667 <- read_csv(\"./csv/1966-67.csv\", show_col_types = FALSE)\n",
    "s6768 <- read_csv(\"./csv/1967-68.csv\", show_col_types = FALSE)\n",
    "s6869 <- read_csv(\"./csv/1968-69.csv\", show_col_types = FALSE)\n",
    "s6970 <- read_csv(\"./csv/1969-70.csv\", show_col_types = FALSE)\n",
    "s7071 <- read_csv(\"./csv/1970-71.csv\", show_col_types = FALSE)\n",
    "s7172 <- read_csv(\"./csv/1971-72.csv\", show_col_types = FALSE)\n",
    "s7273 <- read_csv(\"./csv/1972-73.csv\", show_col_types = FALSE)\n",
    "s7374 <- read_csv(\"./csv/1973-74.csv\", show_col_types = FALSE)\n",
    "s7475 <- read_csv(\"./csv/1974-75.csv\", show_col_types = FALSE)\n",
    "s7576 <- read_csv(\"./csv/1975-76.csv\", show_col_types = FALSE)\n",
    "s7677 <- read_csv(\"./csv/1976-77.csv\", show_col_types = FALSE)\n",
    "s7778 <- read_csv(\"./csv/1977-78.csv\", show_col_types = FALSE)\n",
    "s7879 <- read_csv(\"./csv/1978-79.csv\", show_col_types = FALSE)\n",
    "s7980 <- read_csv(\"./csv/1979-80.csv\", show_col_types = FALSE)\n",
    "s8081 <- read_csv(\"./csv/1980-81.csv\", show_col_types = FALSE)\n",
    "s8182 <- read_csv(\"./csv/1981-82.csv\", show_col_types = FALSE)\n",
    "s8283 <- read_csv(\"./csv/1982-83.csv\", show_col_types = FALSE)\n",
    "s8384 <- read_csv(\"./csv/1983-84.csv\", show_col_types = FALSE)\n",
    "s8485 <- read_csv(\"./csv/1984-85.csv\", show_col_types = FALSE)\n",
    "s8586 <- read_csv(\"./csv/1985-86.csv\", show_col_types = FALSE)\n",
    "s8687 <- read_csv(\"./csv/1986-87.csv\", show_col_types = FALSE)\n",
    "s8788 <- read_csv(\"./csv/1987-88.csv\", show_col_types = FALSE)\n",
    "s8889 <- read_csv(\"./csv/1988-89.csv\", show_col_types = FALSE)\n",
    "s8990 <- read_csv(\"./csv/1989-90.csv\", show_col_types = FALSE)\n",
    "s9091 <- read_csv(\"./csv/1990-91.csv\", show_col_types = FALSE)\n",
    "s9192 <- read_csv(\"./csv/1991-92.csv\", show_col_types = FALSE)\n",
    "s9293 <- read_csv(\"./csv/1992-93.csv\", show_col_types = FALSE)\n",
    "s9394 <- read_csv(\"./csv/1993-94.csv\", show_col_types = FALSE)\n",
    "s9495 <- read_csv(\"./csv/1994-95.csv\", show_col_types = FALSE)\n",
    "s9596 <- read_csv(\"./csv/1995-96.csv\", show_col_types = FALSE)\n",
    "\n",
    "results <- bind_rows(s2122, s2223, s2324, s2425, s2526, s2627, s2728, s2829, s2930, s3031, s3132, s3233, s3334, s3435, s3536, s3637, s3738, s3839, s4546, s4647, s4748, s4849, s4950, s5051, s5152, s5253, s5354, s5455, s5556, s5657, s5758, s5859, s5960, s6061, s6162, s6263, s6364, s6465, s6566, s6667, s6768, s6869, s6970, s7071, s7172, s7273, s7374, s7475, s7576, s7677, s7778, s7879, s7980, s8081, s8182, s8283, s8384, s8485, s8586, s8687, s8788, s8889, s8990, s9091, s9192, s9293, s9394, s9495, s9596) %>%\n",
    "    group_by(\n",
    "        season\n",
    "    ) %>%\n",
    "    mutate(\n",
    "        game_no = row_number()\n",
    "    ) %>%\n",
    "    select(season, game_no, scorers)"
   ]
  },
  {
   "cell_type": "code",
   "execution_count": 12,
   "metadata": {
    "vscode": {
     "languageId": "r"
    }
   },
   "outputs": [],
   "source": [
    "players <- read_csv(\"../output/player_ssns.csv\", show_col_types = FALSE) %>%\n",
    "    select(\n",
    "        season,\n",
    "        surname,\n",
    "        player_name,\n",
    "        disam_name\n",
    "    ) %>%\n",
    "    unique()"
   ]
  },
  {
   "cell_type": "code",
   "execution_count": 13,
   "metadata": {
    "vscode": {
     "languageId": "r"
    }
   },
   "outputs": [
    {
     "data": {
      "text/html": [
       "<table class=\"dataframe\">\n",
       "<caption>A tibble: 0 × 2</caption>\n",
       "<thead>\n",
       "\t<tr><th scope=col>season</th><th scope=col>scorer_name</th></tr>\n",
       "\t<tr><th scope=col>&lt;chr&gt;</th><th scope=col>&lt;chr&gt;</th></tr>\n",
       "</thead>\n",
       "<tbody>\n",
       "</tbody>\n",
       "</table>\n"
      ],
      "text/latex": [
       "A tibble: 0 × 2\n",
       "\\begin{tabular}{ll}\n",
       " season & scorer\\_name\\\\\n",
       " <chr> & <chr>\\\\\n",
       "\\hline\n",
       "\\end{tabular}\n"
      ],
      "text/markdown": [
       "\n",
       "A tibble: 0 × 2\n",
       "\n",
       "| season &lt;chr&gt; | scorer_name &lt;chr&gt; |\n",
       "|---|---|\n",
       "\n"
      ],
      "text/plain": [
       "     season scorer_name"
      ]
     },
     "metadata": {},
     "output_type": "display_data"
    }
   ],
   "source": [
    "# Pivot scorers to wide format\n",
    "scorers <- separate_wider_delim(\n",
    "    results,\n",
    "    scorers,\n",
    "    delim = \",\",\n",
    "    names_sep = \"\",\n",
    "    too_few = \"align_start\"\n",
    ") %>%\n",
    "mutate(\n",
    "    across(starts_with(\"scorers\"), str_squish)\n",
    "  ) %>%\n",
    "  pivot_longer(\n",
    "    starts_with(\"scorers\"),\n",
    "    values_to = \"scorer\"\n",
    "  ) %>%\n",
    "  filter(\n",
    "    !is.na(scorer)\n",
    "  ) %>%\n",
    "mutate(\n",
    "  scorer_name = case_when(\n",
    "    str_detect(scorer, \"\\\\s\\\\d+$\") ~ str_replace_all(scorer, \"(?:\\\\s\\\\d+)?$\", \"\"),\n",
    "    TRUE ~ scorer\n",
    "  ),\n",
    "  goals_scored = case_when(\n",
    "    str_detect(scorer, \"\\\\s\\\\d+$\") ~ str_extract(scorer, \"\\\\d+$\") %>% as.numeric(),\n",
    "    TRUE ~ 1\n",
    "  )\n",
    " ) %>%\n",
    "left_join(\n",
    "  players,\n",
    "  by = c(\"season\" = \"season\", \"scorer_name\" = \"disam_name\")\n",
    ") %>%\n",
    "group_by(\n",
    "  season,\n",
    "  game_no\n",
    ") %>%\n",
    "mutate(\n",
    "  goals_for = sum(goals_scored),\n",
    "  player_name = case_when(\n",
    "    scorer_name == \"OG\" ~ \"OG\",\n",
    "    .default = player_name\n",
    "  )\n",
    ")\n",
    "\n",
    "# Check for players with missing full names\n",
    "scorers %>% ungroup() %>% filter(is.na(player_name)) %>%\n",
    "select(season, scorer_name) %>%\n",
    "  unique() %>% arrange(scorer_name, season)"
   ]
  },
  {
   "cell_type": "code",
   "execution_count": 14,
   "metadata": {
    "vscode": {
     "languageId": "r"
    }
   },
   "outputs": [
    {
     "data": {
      "text/html": [
       "<table class=\"dataframe\">\n",
       "<caption>A tibble: 0 × 8</caption>\n",
       "<thead>\n",
       "\t<tr><th scope=col>season</th><th scope=col>game_no</th><th scope=col>game_date</th><th scope=col>opposition</th><th scope=col>venue</th><th scope=col>score</th><th scope=col>goals_for.x</th><th scope=col>goals_for.y</th></tr>\n",
       "\t<tr><th scope=col>&lt;chr&gt;</th><th scope=col>&lt;dbl&gt;</th><th scope=col>&lt;date&gt;</th><th scope=col>&lt;chr&gt;</th><th scope=col>&lt;chr&gt;</th><th scope=col>&lt;chr&gt;</th><th scope=col>&lt;dbl&gt;</th><th scope=col>&lt;dbl&gt;</th></tr>\n",
       "</thead>\n",
       "<tbody>\n",
       "</tbody>\n",
       "</table>\n"
      ],
      "text/latex": [
       "A tibble: 0 × 8\n",
       "\\begin{tabular}{llllllll}\n",
       " season & game\\_no & game\\_date & opposition & venue & score & goals\\_for.x & goals\\_for.y\\\\\n",
       " <chr> & <dbl> & <date> & <chr> & <chr> & <chr> & <dbl> & <dbl>\\\\\n",
       "\\hline\n",
       "\\end{tabular}\n"
      ],
      "text/markdown": [
       "\n",
       "A tibble: 0 × 8\n",
       "\n",
       "| season &lt;chr&gt; | game_no &lt;dbl&gt; | game_date &lt;date&gt; | opposition &lt;chr&gt; | venue &lt;chr&gt; | score &lt;chr&gt; | goals_for.x &lt;dbl&gt; | goals_for.y &lt;dbl&gt; |\n",
       "|---|---|---|---|---|---|---|---|\n",
       "\n"
      ],
      "text/plain": [
       "     season game_no game_date opposition venue score goals_for.x goals_for.y"
      ]
     },
     "metadata": {},
     "output_type": "display_data"
    }
   ],
   "source": [
    "# Import results data\n",
    "results_df <- read_csv(\"https://raw.githubusercontent.com/petebrown/update-results/main/data/results_df.csv\", show_col_types = FALSE) %>%\n",
    "  rename(game_no = ssn_game_no) %>%\n",
    "  select(season, game_no, game_date, opposition, venue, score, goals_for, goals_against, generic_comp, game_type, league_tier, manager)\n",
    "\n",
    "# Check for games where no of goals scores differs from scorer data\n",
    "results_df %>%\n",
    "  inner_join(\n",
    "    scorers,\n",
    "    by = c(\"season\", \"game_no\")\n",
    "  ) %>%\n",
    "  select(\n",
    "    season, game_no, game_date, opposition, venue, score, goals_for.x, goals_for.y\n",
    "  ) %>%\n",
    "  filter(\n",
    "    goals_for.x != goals_for.y\n",
    "  ) %>%\n",
    "  unique()"
   ]
  },
  {
   "cell_type": "code",
   "execution_count": 15,
   "metadata": {
    "vscode": {
     "languageId": "r"
    }
   },
   "outputs": [],
   "source": [
    "# Import Soccerbase goal data\n",
    "goals_sb <- read_csv(\"https://raw.githubusercontent.com/petebrown/update-player-stats/main/data/players_df.csv\", show_col_type = FALSE) %>%\n",
    "    select(game_date, player_name, pl_goals) %>%\n",
    "    filter(pl_goals > 0) %>%\n",
    "    left_join(results_df %>% select(game_date, season, game_no), by = \"game_date\") %>%\n",
    "    rename(\n",
    "        goals_scored = pl_goals\n",
    "    ) %>%\n",
    "    select(season, game_no, player_name, goals_scored) %>%\n",
    "    arrange(season, game_no)"
   ]
  },
  {
   "cell_type": "code",
   "execution_count": 16,
   "metadata": {
    "vscode": {
     "languageId": "r"
    }
   },
   "outputs": [
    {
     "data": {
      "text/html": [
       "<table class=\"dataframe\">\n",
       "<caption>A grouped_df: 3 × 4</caption>\n",
       "<thead>\n",
       "\t<tr><th scope=col>season</th><th scope=col>game_no</th><th scope=col>player_name</th><th scope=col>goals_scored</th></tr>\n",
       "\t<tr><th scope=col>&lt;chr&gt;</th><th scope=col>&lt;dbl&gt;</th><th scope=col>&lt;chr&gt;</th><th scope=col>&lt;dbl&gt;</th></tr>\n",
       "</thead>\n",
       "<tbody>\n",
       "\t<tr><td>1921/22</td><td>1</td><td>Tom Stuart    </td><td>1</td></tr>\n",
       "\t<tr><td>1921/22</td><td>1</td><td>Charles Milnes</td><td>1</td></tr>\n",
       "\t<tr><td>1921/22</td><td>1</td><td>Fred Groves   </td><td>1</td></tr>\n",
       "</tbody>\n",
       "</table>\n"
      ],
      "text/latex": [
       "A grouped\\_df: 3 × 4\n",
       "\\begin{tabular}{llll}\n",
       " season & game\\_no & player\\_name & goals\\_scored\\\\\n",
       " <chr> & <dbl> & <chr> & <dbl>\\\\\n",
       "\\hline\n",
       "\t 1921/22 & 1 & Tom Stuart     & 1\\\\\n",
       "\t 1921/22 & 1 & Charles Milnes & 1\\\\\n",
       "\t 1921/22 & 1 & Fred Groves    & 1\\\\\n",
       "\\end{tabular}\n"
      ],
      "text/markdown": [
       "\n",
       "A grouped_df: 3 × 4\n",
       "\n",
       "| season &lt;chr&gt; | game_no &lt;dbl&gt; | player_name &lt;chr&gt; | goals_scored &lt;dbl&gt; |\n",
       "|---|---|---|---|\n",
       "| 1921/22 | 1 | Tom Stuart     | 1 |\n",
       "| 1921/22 | 1 | Charles Milnes | 1 |\n",
       "| 1921/22 | 1 | Fred Groves    | 1 |\n",
       "\n"
      ],
      "text/plain": [
       "  season  game_no player_name    goals_scored\n",
       "1 1921/22 1       Tom Stuart     1           \n",
       "2 1921/22 1       Charles Milnes 1           \n",
       "3 1921/22 1       Fred Groves    1           "
      ]
     },
     "metadata": {},
     "output_type": "display_data"
    }
   ],
   "source": [
    "# Bind new dataframes with Soccerbase data\n",
    "scorers_long <- scorers %>%\n",
    "    select(\n",
    "        season, game_no, player_name, goals_scored\n",
    "    ) %>%\n",
    "    bind_rows(goals_sb)\n",
    "\n",
    "head(scorers_long, 3)\n",
    "\n",
    "write_csv(scorers_long, \"../output/scorers-long.csv\", na=\"\")"
   ]
  },
  {
   "cell_type": "code",
   "execution_count": 17,
   "metadata": {
    "vscode": {
     "languageId": "r"
    }
   },
   "outputs": [
    {
     "data": {
      "text/html": [
       "<table class=\"dataframe\">\n",
       "<caption>A grouped_df: 3 × 14</caption>\n",
       "<thead>\n",
       "\t<tr><th scope=col>season</th><th scope=col>game_no</th><th scope=col>player_name</th><th scope=col>goals_scored</th><th scope=col>game_date</th><th scope=col>opposition</th><th scope=col>venue</th><th scope=col>score</th><th scope=col>goals_for</th><th scope=col>goals_against</th><th scope=col>generic_comp</th><th scope=col>game_type</th><th scope=col>league_tier</th><th scope=col>manager</th></tr>\n",
       "\t<tr><th scope=col>&lt;chr&gt;</th><th scope=col>&lt;dbl&gt;</th><th scope=col>&lt;chr&gt;</th><th scope=col>&lt;dbl&gt;</th><th scope=col>&lt;date&gt;</th><th scope=col>&lt;chr&gt;</th><th scope=col>&lt;chr&gt;</th><th scope=col>&lt;chr&gt;</th><th scope=col>&lt;dbl&gt;</th><th scope=col>&lt;dbl&gt;</th><th scope=col>&lt;chr&gt;</th><th scope=col>&lt;chr&gt;</th><th scope=col>&lt;dbl&gt;</th><th scope=col>&lt;chr&gt;</th></tr>\n",
       "</thead>\n",
       "<tbody>\n",
       "\t<tr><td>1921/22</td><td>1</td><td>Tom Stuart    </td><td>1</td><td>1921-08-27</td><td>Crewe Alexandra</td><td>H</td><td>4-1</td><td>4</td><td>1</td><td>Football League</td><td>League</td><td>3</td><td>Bert Cooke</td></tr>\n",
       "\t<tr><td>1921/22</td><td>1</td><td>Charles Milnes</td><td>1</td><td>1921-08-27</td><td>Crewe Alexandra</td><td>H</td><td>4-1</td><td>4</td><td>1</td><td>Football League</td><td>League</td><td>3</td><td>Bert Cooke</td></tr>\n",
       "\t<tr><td>1921/22</td><td>1</td><td>Fred Groves   </td><td>1</td><td>1921-08-27</td><td>Crewe Alexandra</td><td>H</td><td>4-1</td><td>4</td><td>1</td><td>Football League</td><td>League</td><td>3</td><td>Bert Cooke</td></tr>\n",
       "</tbody>\n",
       "</table>\n"
      ],
      "text/latex": [
       "A grouped\\_df: 3 × 14\n",
       "\\begin{tabular}{llllllllllllll}\n",
       " season & game\\_no & player\\_name & goals\\_scored & game\\_date & opposition & venue & score & goals\\_for & goals\\_against & generic\\_comp & game\\_type & league\\_tier & manager\\\\\n",
       " <chr> & <dbl> & <chr> & <dbl> & <date> & <chr> & <chr> & <chr> & <dbl> & <dbl> & <chr> & <chr> & <dbl> & <chr>\\\\\n",
       "\\hline\n",
       "\t 1921/22 & 1 & Tom Stuart     & 1 & 1921-08-27 & Crewe Alexandra & H & 4-1 & 4 & 1 & Football League & League & 3 & Bert Cooke\\\\\n",
       "\t 1921/22 & 1 & Charles Milnes & 1 & 1921-08-27 & Crewe Alexandra & H & 4-1 & 4 & 1 & Football League & League & 3 & Bert Cooke\\\\\n",
       "\t 1921/22 & 1 & Fred Groves    & 1 & 1921-08-27 & Crewe Alexandra & H & 4-1 & 4 & 1 & Football League & League & 3 & Bert Cooke\\\\\n",
       "\\end{tabular}\n"
      ],
      "text/markdown": [
       "\n",
       "A grouped_df: 3 × 14\n",
       "\n",
       "| season &lt;chr&gt; | game_no &lt;dbl&gt; | player_name &lt;chr&gt; | goals_scored &lt;dbl&gt; | game_date &lt;date&gt; | opposition &lt;chr&gt; | venue &lt;chr&gt; | score &lt;chr&gt; | goals_for &lt;dbl&gt; | goals_against &lt;dbl&gt; | generic_comp &lt;chr&gt; | game_type &lt;chr&gt; | league_tier &lt;dbl&gt; | manager &lt;chr&gt; |\n",
       "|---|---|---|---|---|---|---|---|---|---|---|---|---|---|\n",
       "| 1921/22 | 1 | Tom Stuart     | 1 | 1921-08-27 | Crewe Alexandra | H | 4-1 | 4 | 1 | Football League | League | 3 | Bert Cooke |\n",
       "| 1921/22 | 1 | Charles Milnes | 1 | 1921-08-27 | Crewe Alexandra | H | 4-1 | 4 | 1 | Football League | League | 3 | Bert Cooke |\n",
       "| 1921/22 | 1 | Fred Groves    | 1 | 1921-08-27 | Crewe Alexandra | H | 4-1 | 4 | 1 | Football League | League | 3 | Bert Cooke |\n",
       "\n"
      ],
      "text/plain": [
       "  season  game_no player_name    goals_scored game_date  opposition      venue\n",
       "1 1921/22 1       Tom Stuart     1            1921-08-27 Crewe Alexandra H    \n",
       "2 1921/22 1       Charles Milnes 1            1921-08-27 Crewe Alexandra H    \n",
       "3 1921/22 1       Fred Groves    1            1921-08-27 Crewe Alexandra H    \n",
       "  score goals_for goals_against generic_comp    game_type league_tier\n",
       "1 4-1   4         1             Football League League    3          \n",
       "2 4-1   4         1             Football League League    3          \n",
       "3 4-1   4         1             Football League League    3          \n",
       "  manager   \n",
       "1 Bert Cooke\n",
       "2 Bert Cooke\n",
       "3 Bert Cooke"
      ]
     },
     "metadata": {},
     "output_type": "display_data"
    }
   ],
   "source": [
    "# Join scorers to results\n",
    "all_scorers <- scorers_long %>%\n",
    "  left_join(results_df, by = c(\"season\", \"game_no\"))\n",
    "\n",
    "head(all_scorers, 3)\n",
    "\n",
    "write_csv(all_scorers, \"../output/gls_with_games.csv\", na=\"\")"
   ]
  },
  {
   "cell_type": "code",
   "execution_count": 18,
   "metadata": {
    "vscode": {
     "languageId": "r"
    }
   },
   "outputs": [
    {
     "data": {
      "text/html": [
       "<table class=\"dataframe\">\n",
       "<caption>A tibble: 3 × 3</caption>\n",
       "<thead>\n",
       "\t<tr><th scope=col>season</th><th scope=col>game_no</th><th scope=col>scorers</th></tr>\n",
       "\t<tr><th scope=col>&lt;chr&gt;</th><th scope=col>&lt;int&gt;</th><th scope=col>&lt;chr&gt;</th></tr>\n",
       "</thead>\n",
       "<tbody>\n",
       "\t<tr><td>1921/22</td><td>1</td><td>Tom Stuart, Charles Milnes, Fred Groves, John Ford</td></tr>\n",
       "\t<tr><td>1921/22</td><td>2</td><td>John Prentice                                     </td></tr>\n",
       "\t<tr><td>1921/22</td><td>5</td><td>Denis Bullough, John Prentice                     </td></tr>\n",
       "</tbody>\n",
       "</table>\n"
      ],
      "text/latex": [
       "A tibble: 3 × 3\n",
       "\\begin{tabular}{lll}\n",
       " season & game\\_no & scorers\\\\\n",
       " <chr> & <int> & <chr>\\\\\n",
       "\\hline\n",
       "\t 1921/22 & 1 & Tom Stuart, Charles Milnes, Fred Groves, John Ford\\\\\n",
       "\t 1921/22 & 2 & John Prentice                                     \\\\\n",
       "\t 1921/22 & 5 & Denis Bullough, John Prentice                     \\\\\n",
       "\\end{tabular}\n"
      ],
      "text/markdown": [
       "\n",
       "A tibble: 3 × 3\n",
       "\n",
       "| season &lt;chr&gt; | game_no &lt;int&gt; | scorers &lt;chr&gt; |\n",
       "|---|---|---|\n",
       "| 1921/22 | 1 | Tom Stuart, Charles Milnes, Fred Groves, John Ford |\n",
       "| 1921/22 | 2 | John Prentice                                      |\n",
       "| 1921/22 | 5 | Denis Bullough, John Prentice                      |\n",
       "\n"
      ],
      "text/plain": [
       "  season  game_no scorers                                           \n",
       "1 1921/22 1       Tom Stuart, Charles Milnes, Fred Groves, John Ford\n",
       "2 1921/22 2       John Prentice                                     \n",
       "3 1921/22 5       Denis Bullough, John Prentice                     "
      ]
     },
     "metadata": {},
     "output_type": "display_data"
    }
   ],
   "source": [
    "# Pivot to wide format for attachment to results\n",
    "scorers_wide <- scorers %>%\n",
    "    select(season, game_no, player_name, goals_scored) %>%\n",
    "    mutate(\n",
    "        scorer = paste(player_name, goals_scored, sep = \" \")\n",
    "    ) %>%\n",
    "    group_by(season, game_no) %>%\n",
    "    summarise(\n",
    "        scorers = paste(scorer, collapse = \", \"),\n",
    "        goals_for = sum(goals_scored),\n",
    "        .groups = \"drop\"\n",
    "    ) %>%\n",
    "    mutate(\n",
    "        scorers = str_replace_all(scorers, \" 1\", \"\")\n",
    "    ) %>%\n",
    "    select(season, game_no, scorers)\n",
    "\n",
    "head(scorers_wide, 3)\n",
    "\n",
    "write_csv(scorers_wide, \"../output/scorers_wide.csv\", na=\"\")"
   ]
  },
  {
   "cell_type": "code",
   "execution_count": null,
   "metadata": {
    "vscode": {
     "languageId": "r"
    }
   },
   "outputs": [],
   "source": []
  }
 ],
 "metadata": {
  "kernelspec": {
   "display_name": "R",
   "language": "R",
   "name": "ir"
  },
  "language_info": {
   "codemirror_mode": "r",
   "file_extension": ".r",
   "mimetype": "text/x-r-source",
   "name": "R",
   "pygments_lexer": "r",
   "version": "4.3.0"
  },
  "orig_nbformat": 4
 },
 "nbformat": 4,
 "nbformat_minor": 2
}
