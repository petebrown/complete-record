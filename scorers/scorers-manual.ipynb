{
 "cells": [
  {
   "cell_type": "code",
   "execution_count": 1,
   "metadata": {
    "vscode": {
     "languageId": "r"
    }
   },
   "outputs": [
    {
     "name": "stderr",
     "output_type": "stream",
     "text": [
      "-- \u001b[1mAttaching core tidyverse packages\u001b[22m ------------------------ tidyverse 2.0.0 --\n",
      "\u001b[32mv\u001b[39m \u001b[34mdplyr    \u001b[39m 1.1.2     \u001b[32mv\u001b[39m \u001b[34mreadr    \u001b[39m 2.1.4\n",
      "\u001b[32mv\u001b[39m \u001b[34mforcats  \u001b[39m 1.0.0     \u001b[32mv\u001b[39m \u001b[34mstringr  \u001b[39m 1.5.0\n",
      "\u001b[32mv\u001b[39m \u001b[34mggplot2  \u001b[39m 3.4.2     \u001b[32mv\u001b[39m \u001b[34mtibble   \u001b[39m 3.2.1\n",
      "\u001b[32mv\u001b[39m \u001b[34mlubridate\u001b[39m 1.9.2     \u001b[32mv\u001b[39m \u001b[34mtidyr    \u001b[39m 1.3.0\n",
      "\u001b[32mv\u001b[39m \u001b[34mpurrr    \u001b[39m 1.0.1     \n",
      "-- \u001b[1mConflicts\u001b[22m ------------------------------------------ tidyverse_conflicts() --\n",
      "\u001b[31mx\u001b[39m \u001b[34mdplyr\u001b[39m::\u001b[32mfilter()\u001b[39m masks \u001b[34mstats\u001b[39m::filter()\n",
      "\u001b[31mx\u001b[39m \u001b[34mdplyr\u001b[39m::\u001b[32mlag()\u001b[39m    masks \u001b[34mstats\u001b[39m::lag()\n",
      "\u001b[36mi\u001b[39m Use the conflicted package (\u001b[3m\u001b[34m<http://conflicted.r-lib.org/>\u001b[39m\u001b[23m) to force all conflicts to become errors\n"
     ]
    }
   ],
   "source": [
    "library(tidyverse)\n",
    "\n",
    "s6566 <- read_csv(\"./1965-66.csv\", show_col_types = FALSE)\n",
    "s8081 <- read_csv(\"./1980-81.csv\", show_col_types = FALSE)\n",
    "s8182 <- read_csv(\"./1981-82.csv\", show_col_types = FALSE)\n",
    "s8283 <- read_csv(\"./1982-83.csv\", show_col_types = FALSE)\n",
    "s8384 <- read_csv(\"./1983-84.csv\", show_col_types = FALSE)\n",
    "s8485 <- read_csv(\"./1984-85.csv\", show_col_types = FALSE)\n",
    "s8586 <- read_csv(\"./1985-86.csv\", show_col_types = FALSE)\n",
    "s8687 <- read_csv(\"./1986-87.csv\", show_col_types = FALSE)\n",
    "s8788 <- read_csv(\"./1987-88.csv\", show_col_types = FALSE)\n",
    "s8889 <- read_csv(\"./1988-89.csv\", show_col_types = FALSE)\n",
    "s8990 <- read_csv(\"./1989-90.csv\", show_col_types = FALSE)\n",
    "s9091 <- read_csv(\"./1990-91.csv\", show_col_types = FALSE)\n",
    "s9192 <- read_csv(\"./1991-92.csv\", show_col_types = FALSE)\n",
    "s9293 <- read_csv(\"./1992-93.csv\", show_col_types = FALSE)\n",
    "s9394 <- read_csv(\"./1993-94.csv\", show_col_types = FALSE)\n",
    "s9495 <- read_csv(\"./1994-95.csv\", show_col_types = FALSE)\n",
    "s9596 <- read_csv(\"./1995-96.csv\", show_col_types = FALSE)\n",
    "\n",
    "results <- bind_rows(s6566, s8081, s8182, s8283, s8384, s8586, s8687, s8788,s8889, s8990, s9091, s9192, s9293, s9394, s9495, s9596) %>%\n",
    "    group_by(\n",
    "        season\n",
    "    ) %>%\n",
    "    mutate(\n",
    "        game_no = row_number()\n",
    "    ) %>%\n",
    "    select(season, game_no, scorers)"
   ]
  },
  {
   "cell_type": "code",
   "execution_count": 2,
   "metadata": {
    "vscode": {
     "languageId": "r"
    }
   },
   "outputs": [],
   "source": [
    "players <- read_csv(\"../player-stats/player_ssns.csv\", show_col_types = FALSE) %>%\n",
    "    select(\n",
    "        season,\n",
    "        surname,\n",
    "        player_name,\n",
    "        disam_name\n",
    "    ) %>%\n",
    "    unique()"
   ]
  },
  {
   "cell_type": "code",
   "execution_count": 4,
   "metadata": {
    "vscode": {
     "languageId": "r"
    }
   },
   "outputs": [
    {
     "data": {
      "text/html": [
       "<table class=\"dataframe\">\n",
       "<caption>A tibble: 0 x 2</caption>\n",
       "<thead>\n",
       "\t<tr><th scope=col>season</th><th scope=col>scorer_name</th></tr>\n",
       "\t<tr><th scope=col>&lt;chr&gt;</th><th scope=col>&lt;chr&gt;</th></tr>\n",
       "</thead>\n",
       "<tbody>\n",
       "</tbody>\n",
       "</table>\n"
      ],
      "text/latex": [
       "A tibble: 0 x 2\n",
       "\\begin{tabular}{ll}\n",
       " season & scorer\\_name\\\\\n",
       " <chr> & <chr>\\\\\n",
       "\\hline\n",
       "\\end{tabular}\n"
      ],
      "text/markdown": [
       "\n",
       "A tibble: 0 x 2\n",
       "\n",
       "| season &lt;chr&gt; | scorer_name &lt;chr&gt; |\n",
       "|---|---|\n",
       "\n"
      ],
      "text/plain": [
       "     season scorer_name"
      ]
     },
     "metadata": {},
     "output_type": "display_data"
    }
   ],
   "source": [
    "# Pivot scorers to wide format\n",
    "scorers <- separate_wider_delim(\n",
    "    results,\n",
    "    scorers,\n",
    "    delim = \",\",\n",
    "    names_sep = \"\",\n",
    "    too_few = \"align_start\"\n",
    ") %>%\n",
    "mutate(\n",
    "    across(starts_with(\"scorers\"), str_squish)\n",
    "  ) %>%\n",
    "  pivot_longer(\n",
    "    starts_with(\"scorers\"),\n",
    "    values_to = \"scorer\"\n",
    "  ) %>%\n",
    "  filter(\n",
    "    !is.na(scorer)\n",
    "  ) %>%\n",
    "mutate(\n",
    "  scorer_name = case_when(\n",
    "    str_detect(scorer, \"\\\\s\\\\d+$\") ~ str_replace_all(scorer, \"(?:\\\\s\\\\d+)?$\", \"\"),\n",
    "    TRUE ~ scorer\n",
    "  ),\n",
    "  goals_scored = case_when(\n",
    "    str_detect(scorer, \"\\\\s\\\\d+$\") ~ str_extract(scorer, \"\\\\d+$\") %>% as.numeric(),\n",
    "    TRUE ~ 1\n",
    "  )\n",
    " ) %>%\n",
    "left_join(\n",
    "  players,\n",
    "  by = c(\"season\" = \"season\", \"scorer_name\" = \"disam_name\")\n",
    ") %>%\n",
    "group_by(\n",
    "  season,\n",
    "  game_no\n",
    ") %>%\n",
    "mutate(\n",
    "  goals_for = sum(goals_scored),\n",
    "  player_name = case_when(\n",
    "    scorer_name == \"OG\" ~ \"OG\",\n",
    "    .default = player_name\n",
    "  )\n",
    ")\n",
    "\n",
    "# Check for players with missing full names\n",
    "scorers %>% ungroup() %>% filter(is.na(player_name)) %>%\n",
    "select(season, scorer_name) %>%\n",
    "  unique() %>% arrange(scorer_name)"
   ]
  },
  {
   "cell_type": "code",
   "execution_count": 5,
   "metadata": {
    "vscode": {
     "languageId": "r"
    }
   },
   "outputs": [
    {
     "data": {
      "text/html": [
       "<table class=\"dataframe\">\n",
       "<caption>A tibble: 0 x 8</caption>\n",
       "<thead>\n",
       "\t<tr><th scope=col>season</th><th scope=col>game_no</th><th scope=col>game_date</th><th scope=col>opposition</th><th scope=col>venue</th><th scope=col>score</th><th scope=col>goals_for.x</th><th scope=col>goals_for.y</th></tr>\n",
       "\t<tr><th scope=col>&lt;chr&gt;</th><th scope=col>&lt;dbl&gt;</th><th scope=col>&lt;date&gt;</th><th scope=col>&lt;chr&gt;</th><th scope=col>&lt;chr&gt;</th><th scope=col>&lt;chr&gt;</th><th scope=col>&lt;dbl&gt;</th><th scope=col>&lt;dbl&gt;</th></tr>\n",
       "</thead>\n",
       "<tbody>\n",
       "</tbody>\n",
       "</table>\n"
      ],
      "text/latex": [
       "A tibble: 0 x 8\n",
       "\\begin{tabular}{llllllll}\n",
       " season & game\\_no & game\\_date & opposition & venue & score & goals\\_for.x & goals\\_for.y\\\\\n",
       " <chr> & <dbl> & <date> & <chr> & <chr> & <chr> & <dbl> & <dbl>\\\\\n",
       "\\hline\n",
       "\\end{tabular}\n"
      ],
      "text/markdown": [
       "\n",
       "A tibble: 0 x 8\n",
       "\n",
       "| season &lt;chr&gt; | game_no &lt;dbl&gt; | game_date &lt;date&gt; | opposition &lt;chr&gt; | venue &lt;chr&gt; | score &lt;chr&gt; | goals_for.x &lt;dbl&gt; | goals_for.y &lt;dbl&gt; |\n",
       "|---|---|---|---|---|---|---|---|\n",
       "\n"
      ],
      "text/plain": [
       "     season game_no game_date opposition venue score goals_for.x goals_for.y"
      ]
     },
     "metadata": {},
     "output_type": "display_data"
    }
   ],
   "source": [
    "# Import results data\n",
    "results_df <- read_csv(\"https://raw.githubusercontent.com/petebrown/update-results/main/data/results_df.csv\", show_col_types = FALSE) %>%\n",
    "  rename(game_no = ssn_game_no) %>%\n",
    "  select(season, game_no, game_date, opposition, venue, score, goals_for, goals_against, generic_comp, game_type, league_tier, manager)\n",
    "\n",
    "# Check for games where no of goals scores differs from scorer data\n",
    "results_df %>%\n",
    "  inner_join(\n",
    "    scorers,\n",
    "    by = c(\"season\", \"game_no\")\n",
    "  ) %>%\n",
    "  select(\n",
    "    season, game_no, game_date, opposition, venue, score, goals_for.x, goals_for.y\n",
    "  ) %>%\n",
    "  filter(\n",
    "    goals_for.x != goals_for.y\n",
    "  ) %>%\n",
    "  unique()"
   ]
  },
  {
   "cell_type": "code",
   "execution_count": 6,
   "metadata": {
    "vscode": {
     "languageId": "r"
    }
   },
   "outputs": [],
   "source": [
    "# Import Soccerbase goal data\n",
    "goals_2 <- read_csv(\"https://raw.githubusercontent.com/petebrown/update-player-stats/main/data/players_df.csv\", show_col_type = FALSE) %>%\n",
    "    select(game_date, player_name, pl_goals) %>%\n",
    "    filter(pl_goals > 0) %>%\n",
    "    left_join(results_df %>% select(game_date, season, game_no), by = \"game_date\") %>%\n",
    "    rename(\n",
    "        goals_scored = pl_goals\n",
    "    ) %>%\n",
    "    select(season, game_no, player_name, goals_scored) %>%\n",
    "    arrange(season, game_no)"
   ]
  },
  {
   "cell_type": "code",
   "execution_count": 10,
   "metadata": {
    "vscode": {
     "languageId": "r"
    }
   },
   "outputs": [
    {
     "data": {
      "text/html": [
       "<table class=\"dataframe\">\n",
       "<caption>A grouped_df: 3 x 14</caption>\n",
       "<thead>\n",
       "\t<tr><th scope=col>season</th><th scope=col>game_no</th><th scope=col>player_name</th><th scope=col>goals_scored</th><th scope=col>game_date</th><th scope=col>opposition</th><th scope=col>venue</th><th scope=col>score</th><th scope=col>goals_for</th><th scope=col>goals_against</th><th scope=col>generic_comp</th><th scope=col>game_type</th><th scope=col>league_tier</th><th scope=col>manager</th></tr>\n",
       "\t<tr><th scope=col>&lt;chr&gt;</th><th scope=col>&lt;dbl&gt;</th><th scope=col>&lt;chr&gt;</th><th scope=col>&lt;dbl&gt;</th><th scope=col>&lt;date&gt;</th><th scope=col>&lt;chr&gt;</th><th scope=col>&lt;chr&gt;</th><th scope=col>&lt;chr&gt;</th><th scope=col>&lt;dbl&gt;</th><th scope=col>&lt;dbl&gt;</th><th scope=col>&lt;chr&gt;</th><th scope=col>&lt;chr&gt;</th><th scope=col>&lt;dbl&gt;</th><th scope=col>&lt;chr&gt;</th></tr>\n",
       "</thead>\n",
       "<tbody>\n",
       "\t<tr><td>1965/66</td><td>1</td><td>Barry Dyson</td><td>2</td><td>1965-08-21</td><td>Halifax Town</td><td>A</td><td>2-2</td><td>2</td><td>2</td><td>Football League</td><td>League</td><td>4</td><td>Dave Russell</td></tr>\n",
       "\t<tr><td>1965/66</td><td>2</td><td>Alan King  </td><td>1</td><td>1965-08-23</td><td>Chester     </td><td>H</td><td>1-0</td><td>1</td><td>0</td><td>Football League</td><td>League</td><td>4</td><td>Dave Russell</td></tr>\n",
       "\t<tr><td>1965/66</td><td>3</td><td>Frank Twist</td><td>1</td><td>1965-08-27</td><td>Port Vale   </td><td>H</td><td>1-0</td><td>1</td><td>0</td><td>Football League</td><td>League</td><td>4</td><td>Dave Russell</td></tr>\n",
       "</tbody>\n",
       "</table>\n"
      ],
      "text/latex": [
       "A grouped\\_df: 3 x 14\n",
       "\\begin{tabular}{llllllllllllll}\n",
       " season & game\\_no & player\\_name & goals\\_scored & game\\_date & opposition & venue & score & goals\\_for & goals\\_against & generic\\_comp & game\\_type & league\\_tier & manager\\\\\n",
       " <chr> & <dbl> & <chr> & <dbl> & <date> & <chr> & <chr> & <chr> & <dbl> & <dbl> & <chr> & <chr> & <dbl> & <chr>\\\\\n",
       "\\hline\n",
       "\t 1965/66 & 1 & Barry Dyson & 2 & 1965-08-21 & Halifax Town & A & 2-2 & 2 & 2 & Football League & League & 4 & Dave Russell\\\\\n",
       "\t 1965/66 & 2 & Alan King   & 1 & 1965-08-23 & Chester      & H & 1-0 & 1 & 0 & Football League & League & 4 & Dave Russell\\\\\n",
       "\t 1965/66 & 3 & Frank Twist & 1 & 1965-08-27 & Port Vale    & H & 1-0 & 1 & 0 & Football League & League & 4 & Dave Russell\\\\\n",
       "\\end{tabular}\n"
      ],
      "text/markdown": [
       "\n",
       "A grouped_df: 3 x 14\n",
       "\n",
       "| season &lt;chr&gt; | game_no &lt;dbl&gt; | player_name &lt;chr&gt; | goals_scored &lt;dbl&gt; | game_date &lt;date&gt; | opposition &lt;chr&gt; | venue &lt;chr&gt; | score &lt;chr&gt; | goals_for &lt;dbl&gt; | goals_against &lt;dbl&gt; | generic_comp &lt;chr&gt; | game_type &lt;chr&gt; | league_tier &lt;dbl&gt; | manager &lt;chr&gt; |\n",
       "|---|---|---|---|---|---|---|---|---|---|---|---|---|---|\n",
       "| 1965/66 | 1 | Barry Dyson | 2 | 1965-08-21 | Halifax Town | A | 2-2 | 2 | 2 | Football League | League | 4 | Dave Russell |\n",
       "| 1965/66 | 2 | Alan King   | 1 | 1965-08-23 | Chester      | H | 1-0 | 1 | 0 | Football League | League | 4 | Dave Russell |\n",
       "| 1965/66 | 3 | Frank Twist | 1 | 1965-08-27 | Port Vale    | H | 1-0 | 1 | 0 | Football League | League | 4 | Dave Russell |\n",
       "\n"
      ],
      "text/plain": [
       "  season  game_no player_name goals_scored game_date  opposition   venue score\n",
       "1 1965/66 1       Barry Dyson 2            1965-08-21 Halifax Town A     2-2  \n",
       "2 1965/66 2       Alan King   1            1965-08-23 Chester      H     1-0  \n",
       "3 1965/66 3       Frank Twist 1            1965-08-27 Port Vale    H     1-0  \n",
       "  goals_for goals_against generic_comp    game_type league_tier manager     \n",
       "1 2         2             Football League League    4           Dave Russell\n",
       "2 1         0             Football League League    4           Dave Russell\n",
       "3 1         0             Football League League    4           Dave Russell"
      ]
     },
     "metadata": {},
     "output_type": "display_data"
    }
   ],
   "source": [
    "# Bind new dataframes with Soccerbase data\n",
    "scorers_long <- scorers %>%\n",
    "    select(\n",
    "        season, game_no, player_name, goals_scored\n",
    "    ) %>%\n",
    "    bind_rows(goals_2)\n",
    "\n",
    "write_csv(scorers_long, \"../output/scorers-long.csv\")\n",
    "\n",
    "# Join scorers to results\n",
    "all_scorers <- scorers_long %>%\n",
    "  left_join(results_df, by = c(\"season\", \"game_no\"))\n",
    "\n",
    "head(all_scorers, 3)"
   ]
  },
  {
   "cell_type": "code",
   "execution_count": 11,
   "metadata": {
    "vscode": {
     "languageId": "r"
    }
   },
   "outputs": [
    {
     "data": {
      "text/html": [
       "<table class=\"dataframe\">\n",
       "<caption>A tibble: 3 x 3</caption>\n",
       "<thead>\n",
       "\t<tr><th scope=col>season</th><th scope=col>game_no</th><th scope=col>scorers</th></tr>\n",
       "\t<tr><th scope=col>&lt;chr&gt;</th><th scope=col>&lt;int&gt;</th><th scope=col>&lt;chr&gt;</th></tr>\n",
       "</thead>\n",
       "<tbody>\n",
       "\t<tr><td>1965/66</td><td>1</td><td>Barry Dyson 2</td></tr>\n",
       "\t<tr><td>1965/66</td><td>2</td><td>Alan King    </td></tr>\n",
       "\t<tr><td>1965/66</td><td>3</td><td>Frank Twist  </td></tr>\n",
       "</tbody>\n",
       "</table>\n"
      ],
      "text/latex": [
       "A tibble: 3 x 3\n",
       "\\begin{tabular}{lll}\n",
       " season & game\\_no & scorers\\\\\n",
       " <chr> & <int> & <chr>\\\\\n",
       "\\hline\n",
       "\t 1965/66 & 1 & Barry Dyson 2\\\\\n",
       "\t 1965/66 & 2 & Alan King    \\\\\n",
       "\t 1965/66 & 3 & Frank Twist  \\\\\n",
       "\\end{tabular}\n"
      ],
      "text/markdown": [
       "\n",
       "A tibble: 3 x 3\n",
       "\n",
       "| season &lt;chr&gt; | game_no &lt;int&gt; | scorers &lt;chr&gt; |\n",
       "|---|---|---|\n",
       "| 1965/66 | 1 | Barry Dyson 2 |\n",
       "| 1965/66 | 2 | Alan King     |\n",
       "| 1965/66 | 3 | Frank Twist   |\n",
       "\n"
      ],
      "text/plain": [
       "  season  game_no scorers      \n",
       "1 1965/66 1       Barry Dyson 2\n",
       "2 1965/66 2       Alan King    \n",
       "3 1965/66 3       Frank Twist  "
      ]
     },
     "metadata": {},
     "output_type": "display_data"
    }
   ],
   "source": [
    "# Pivot to wide format for attachment to results\n",
    "scorers_wide <- scorers %>%\n",
    "    select(season, game_no, player_name, goals_scored) %>%\n",
    "    mutate(\n",
    "        scorer = paste(player_name, goals_scored, sep = \" \")\n",
    "    ) %>%\n",
    "    group_by(season, game_no) %>%\n",
    "    summarise(\n",
    "        scorers = paste(scorer, collapse = \", \"),\n",
    "        goals_for = sum(goals_scored),\n",
    "        .groups = \"drop\"\n",
    "    ) %>%\n",
    "    mutate(\n",
    "        scorers = str_replace_all(scorers, \" 1\", \"\")\n",
    "    ) %>%\n",
    "    select(season, game_no, scorers)\n",
    "\n",
    "head(scorers_wide, 3)\n",
    "\n",
    "write_csv(scorers_wide, \"../output/scorers_wide.csv\")"
   ]
  },
  {
   "cell_type": "code",
   "execution_count": 12,
   "metadata": {
    "vscode": {
     "languageId": "r"
    }
   },
   "outputs": [
    {
     "data": {
      "text/html": [
       "<table class=\"dataframe\">\n",
       "<caption>A tibble: 10 x 4</caption>\n",
       "<thead>\n",
       "\t<tr><th scope=col>season</th><th scope=col>player_name</th><th scope=col>goals_scored</th><th scope=col>pc_gls</th></tr>\n",
       "\t<tr><th scope=col>&lt;chr&gt;</th><th scope=col>&lt;chr&gt;</th><th scope=col>&lt;dbl&gt;</th><th scope=col>&lt;dbl&gt;</th></tr>\n",
       "</thead>\n",
       "<tbody>\n",
       "\t<tr><td>2018/19</td><td>James Norwood</td><td>29</td><td>46.8</td></tr>\n",
       "\t<tr><td>1987/88</td><td>Ian Muir     </td><td>27</td><td>44.3</td></tr>\n",
       "\t<tr><td>1995/96</td><td>John Aldridge</td><td>27</td><td>42.2</td></tr>\n",
       "\t<tr><td>1991/92</td><td>John Aldridge</td><td>22</td><td>39.3</td></tr>\n",
       "\t<tr><td>2013/14</td><td>Ryan Lowe    </td><td>19</td><td>37.3</td></tr>\n",
       "\t<tr><td>1986/87</td><td>Ian Muir     </td><td>20</td><td>37.0</td></tr>\n",
       "\t<tr><td>1994/95</td><td>John Aldridge</td><td>24</td><td>35.8</td></tr>\n",
       "\t<tr><td>1988/89</td><td>Ian Muir     </td><td>21</td><td>33.9</td></tr>\n",
       "\t<tr><td>2017/18</td><td>Andy Cook    </td><td>26</td><td>33.8</td></tr>\n",
       "\t<tr><td>2020/21</td><td>James Vaughan</td><td>18</td><td>33.3</td></tr>\n",
       "</tbody>\n",
       "</table>\n"
      ],
      "text/latex": [
       "A tibble: 10 x 4\n",
       "\\begin{tabular}{llll}\n",
       " season & player\\_name & goals\\_scored & pc\\_gls\\\\\n",
       " <chr> & <chr> & <dbl> & <dbl>\\\\\n",
       "\\hline\n",
       "\t 2018/19 & James Norwood & 29 & 46.8\\\\\n",
       "\t 1987/88 & Ian Muir      & 27 & 44.3\\\\\n",
       "\t 1995/96 & John Aldridge & 27 & 42.2\\\\\n",
       "\t 1991/92 & John Aldridge & 22 & 39.3\\\\\n",
       "\t 2013/14 & Ryan Lowe     & 19 & 37.3\\\\\n",
       "\t 1986/87 & Ian Muir      & 20 & 37.0\\\\\n",
       "\t 1994/95 & John Aldridge & 24 & 35.8\\\\\n",
       "\t 1988/89 & Ian Muir      & 21 & 33.9\\\\\n",
       "\t 2017/18 & Andy Cook     & 26 & 33.8\\\\\n",
       "\t 2020/21 & James Vaughan & 18 & 33.3\\\\\n",
       "\\end{tabular}\n"
      ],
      "text/markdown": [
       "\n",
       "A tibble: 10 x 4\n",
       "\n",
       "| season &lt;chr&gt; | player_name &lt;chr&gt; | goals_scored &lt;dbl&gt; | pc_gls &lt;dbl&gt; |\n",
       "|---|---|---|---|\n",
       "| 2018/19 | James Norwood | 29 | 46.8 |\n",
       "| 1987/88 | Ian Muir      | 27 | 44.3 |\n",
       "| 1995/96 | John Aldridge | 27 | 42.2 |\n",
       "| 1991/92 | John Aldridge | 22 | 39.3 |\n",
       "| 2013/14 | Ryan Lowe     | 19 | 37.3 |\n",
       "| 1986/87 | Ian Muir      | 20 | 37.0 |\n",
       "| 1994/95 | John Aldridge | 24 | 35.8 |\n",
       "| 1988/89 | Ian Muir      | 21 | 33.9 |\n",
       "| 2017/18 | Andy Cook     | 26 | 33.8 |\n",
       "| 2020/21 | James Vaughan | 18 | 33.3 |\n",
       "\n"
      ],
      "text/plain": [
       "   season  player_name   goals_scored pc_gls\n",
       "1  2018/19 James Norwood 29           46.8  \n",
       "2  1987/88 Ian Muir      27           44.3  \n",
       "3  1995/96 John Aldridge 27           42.2  \n",
       "4  1991/92 John Aldridge 22           39.3  \n",
       "5  2013/14 Ryan Lowe     19           37.3  \n",
       "6  1986/87 Ian Muir      20           37.0  \n",
       "7  1994/95 John Aldridge 24           35.8  \n",
       "8  1988/89 Ian Muir      21           33.9  \n",
       "9  2017/18 Andy Cook     26           33.8  \n",
       "10 2020/21 James Vaughan 18           33.3  "
      ]
     },
     "metadata": {},
     "output_type": "display_data"
    }
   ],
   "source": [
    "all_scorers %>%\n",
    "    filter(\n",
    "        game_type == \"League\"\n",
    "    ) %>%\n",
    "    group_by(\n",
    "        season,\n",
    "        player_name\n",
    "    ) %>%\n",
    "    summarise(\n",
    "        goals_scored = sum(goals_scored),\n",
    "        .groups = \"drop\"\n",
    "    ) %>%\n",
    "    ungroup() %>%\n",
    "    group_by(\n",
    "        season\n",
    "    ) %>%\n",
    "    mutate(\n",
    "        pc_gls = round((goals_scored / sum(goals_scored)) * 100, 1)\n",
    "    ) %>%\n",
    "    arrange(\n",
    "        desc(pc_gls),\n",
    "        season,\n",
    "        player_name\n",
    "    ) %>%\n",
    "    group_by(season) %>%\n",
    "    slice_max(\n",
    "        goals_scored,\n",
    "        n = 3\n",
    "    ) %>%\n",
    "    ungroup() %>%\n",
    "    arrange(\n",
    "        desc(pc_gls), desc(goals_scored), season, player_name\n",
    "    ) %>%\n",
    "    head(10)"
   ]
  },
  {
   "cell_type": "code",
   "execution_count": 13,
   "metadata": {
    "vscode": {
     "languageId": "r"
    }
   },
   "outputs": [
    {
     "data": {
      "text/html": [
       "<table class=\"dataframe\">\n",
       "<caption>A tibble: 3 x 3</caption>\n",
       "<thead>\n",
       "\t<tr><th scope=col>season</th><th scope=col>player_name</th><th scope=col>goals</th></tr>\n",
       "\t<tr><th scope=col>&lt;chr&gt;</th><th scope=col>&lt;chr&gt;</th><th scope=col>&lt;dbl&gt;</th></tr>\n",
       "</thead>\n",
       "<tbody>\n",
       "\t<tr><td>1965/66</td><td>Barry Dyson  </td><td>30</td></tr>\n",
       "\t<tr><td>2018/19</td><td>James Norwood</td><td>29</td></tr>\n",
       "\t<tr><td>2002/03</td><td>Simon Haworth</td><td>20</td></tr>\n",
       "</tbody>\n",
       "</table>\n"
      ],
      "text/latex": [
       "A tibble: 3 x 3\n",
       "\\begin{tabular}{lll}\n",
       " season & player\\_name & goals\\\\\n",
       " <chr> & <chr> & <dbl>\\\\\n",
       "\\hline\n",
       "\t 1965/66 & Barry Dyson   & 30\\\\\n",
       "\t 2018/19 & James Norwood & 29\\\\\n",
       "\t 2002/03 & Simon Haworth & 20\\\\\n",
       "\\end{tabular}\n"
      ],
      "text/markdown": [
       "\n",
       "A tibble: 3 x 3\n",
       "\n",
       "| season &lt;chr&gt; | player_name &lt;chr&gt; | goals &lt;dbl&gt; |\n",
       "|---|---|---|\n",
       "| 1965/66 | Barry Dyson   | 30 |\n",
       "| 2018/19 | James Norwood | 29 |\n",
       "| 2002/03 | Simon Haworth | 20 |\n",
       "\n"
      ],
      "text/plain": [
       "  season  player_name   goals\n",
       "1 1965/66 Barry Dyson   30   \n",
       "2 2018/19 James Norwood 29   \n",
       "3 2002/03 Simon Haworth 20   "
      ]
     },
     "metadata": {},
     "output_type": "display_data"
    }
   ],
   "source": [
    "all_scorers %>%\n",
    "filter(\n",
    "    game_type == \"League\",\n",
    "    league_tier < 5    \n",
    ") %>%\n",
    "group_by(season, player_name) %>%\n",
    "summarise(\n",
    "    goals = sum(goals_scored),\n",
    "    .groups = \"drop\"\n",
    ") %>%\n",
    "arrange(\n",
    "    desc(goals),\n",
    "    season,\n",
    "    player_name\n",
    ") %>%\n",
    "filter(\n",
    "    goals >= 20\n",
    ") %>%\n",
    "filter(\n",
    "    !player_name %in% c(\"John Aldridge\", \"Ian Muir\")\n",
    ")"
   ]
  },
  {
   "cell_type": "code",
   "execution_count": 16,
   "metadata": {
    "vscode": {
     "languageId": "r"
    }
   },
   "outputs": [
    {
     "data": {
      "text/html": [
       "<table class=\"dataframe\">\n",
       "<caption>A grouped_df: 10 x 4</caption>\n",
       "<thead>\n",
       "\t<tr><th scope=col>manager</th><th scope=col>player_name</th><th scope=col>goals_scored</th><th scope=col>pc_gls</th></tr>\n",
       "\t<tr><th scope=col>&lt;chr&gt;</th><th scope=col>&lt;chr&gt;</th><th scope=col>&lt;dbl&gt;</th><th scope=col>&lt;dbl&gt;</th></tr>\n",
       "</thead>\n",
       "<tbody>\n",
       "\t<tr><td>Ian Dawes</td><td>James Vaughan  </td><td>4</td><td>23.5</td></tr>\n",
       "\t<tr><td>Ian Dawes</td><td>Harvey Saunders</td><td>3</td><td>17.6</td></tr>\n",
       "\t<tr><td>Ian Dawes</td><td>Josh Hawkes    </td><td>2</td><td>11.8</td></tr>\n",
       "\t<tr><td>Ian Dawes</td><td>Otis Khan      </td><td>2</td><td>11.8</td></tr>\n",
       "\t<tr><td>Ian Dawes</td><td>Kaiyne Woolery </td><td>1</td><td> 5.9</td></tr>\n",
       "\t<tr><td>Ian Dawes</td><td>Kieron Morris  </td><td>1</td><td> 5.9</td></tr>\n",
       "\t<tr><td>Ian Dawes</td><td>Paul Lewis     </td><td>1</td><td> 5.9</td></tr>\n",
       "\t<tr><td>Ian Dawes</td><td>Peter Clarke   </td><td>1</td><td> 5.9</td></tr>\n",
       "\t<tr><td>Ian Dawes</td><td>Rhys Hughes    </td><td>1</td><td> 5.9</td></tr>\n",
       "\t<tr><td>Ian Dawes</td><td>Samuel Taylor  </td><td>1</td><td> 5.9</td></tr>\n",
       "</tbody>\n",
       "</table>\n"
      ],
      "text/latex": [
       "A grouped\\_df: 10 x 4\n",
       "\\begin{tabular}{llll}\n",
       " manager & player\\_name & goals\\_scored & pc\\_gls\\\\\n",
       " <chr> & <chr> & <dbl> & <dbl>\\\\\n",
       "\\hline\n",
       "\t Ian Dawes & James Vaughan   & 4 & 23.5\\\\\n",
       "\t Ian Dawes & Harvey Saunders & 3 & 17.6\\\\\n",
       "\t Ian Dawes & Josh Hawkes     & 2 & 11.8\\\\\n",
       "\t Ian Dawes & Otis Khan       & 2 & 11.8\\\\\n",
       "\t Ian Dawes & Kaiyne Woolery  & 1 &  5.9\\\\\n",
       "\t Ian Dawes & Kieron Morris   & 1 &  5.9\\\\\n",
       "\t Ian Dawes & Paul Lewis      & 1 &  5.9\\\\\n",
       "\t Ian Dawes & Peter Clarke    & 1 &  5.9\\\\\n",
       "\t Ian Dawes & Rhys Hughes     & 1 &  5.9\\\\\n",
       "\t Ian Dawes & Samuel Taylor   & 1 &  5.9\\\\\n",
       "\\end{tabular}\n"
      ],
      "text/markdown": [
       "\n",
       "A grouped_df: 10 x 4\n",
       "\n",
       "| manager &lt;chr&gt; | player_name &lt;chr&gt; | goals_scored &lt;dbl&gt; | pc_gls &lt;dbl&gt; |\n",
       "|---|---|---|---|\n",
       "| Ian Dawes | James Vaughan   | 4 | 23.5 |\n",
       "| Ian Dawes | Harvey Saunders | 3 | 17.6 |\n",
       "| Ian Dawes | Josh Hawkes     | 2 | 11.8 |\n",
       "| Ian Dawes | Otis Khan       | 2 | 11.8 |\n",
       "| Ian Dawes | Kaiyne Woolery  | 1 |  5.9 |\n",
       "| Ian Dawes | Kieron Morris   | 1 |  5.9 |\n",
       "| Ian Dawes | Paul Lewis      | 1 |  5.9 |\n",
       "| Ian Dawes | Peter Clarke    | 1 |  5.9 |\n",
       "| Ian Dawes | Rhys Hughes     | 1 |  5.9 |\n",
       "| Ian Dawes | Samuel Taylor   | 1 |  5.9 |\n",
       "\n"
      ],
      "text/plain": [
       "   manager   player_name     goals_scored pc_gls\n",
       "1  Ian Dawes James Vaughan   4            23.5  \n",
       "2  Ian Dawes Harvey Saunders 3            17.6  \n",
       "3  Ian Dawes Josh Hawkes     2            11.8  \n",
       "4  Ian Dawes Otis Khan       2            11.8  \n",
       "5  Ian Dawes Kaiyne Woolery  1             5.9  \n",
       "6  Ian Dawes Kieron Morris   1             5.9  \n",
       "7  Ian Dawes Paul Lewis      1             5.9  \n",
       "8  Ian Dawes Peter Clarke    1             5.9  \n",
       "9  Ian Dawes Rhys Hughes     1             5.9  \n",
       "10 Ian Dawes Samuel Taylor   1             5.9  "
      ]
     },
     "metadata": {},
     "output_type": "display_data"
    }
   ],
   "source": [
    "mans_10 <- results_df %>%\n",
    "    group_by(manager) %>%\n",
    "    summarise(\n",
    "        games = n()\n",
    "    ) %>%\n",
    "    filter(games >= 10)\n",
    "\n",
    "all_scorers %>%\n",
    "    filter(\n",
    "        game_type == \"League\",\n",
    "        manager %in% mans_10$manager\n",
    "    ) %>%\n",
    "    group_by(\n",
    "        manager,\n",
    "        player_name\n",
    "    ) %>%\n",
    "    summarise(\n",
    "        goals_scored = sum(goals_scored),\n",
    "        .groups = \"drop\"\n",
    "    ) %>%\n",
    "    ungroup() %>%\n",
    "    group_by(\n",
    "        manager\n",
    "    ) %>%\n",
    "    mutate(\n",
    "        pc_gls = round((goals_scored / sum(goals_scored)) * 100, 1)\n",
    "    ) %>%\n",
    "    arrange(\n",
    "        desc(pc_gls),\n",
    "        manager,\n",
    "        player_name\n",
    "    ) %>%\n",
    "    filter(\n",
    "        manager == \"Ian Dawes\"\n",
    "    )"
   ]
  },
  {
   "cell_type": "code",
   "execution_count": 174,
   "metadata": {
    "vscode": {
     "languageId": "r"
    }
   },
   "outputs": [],
   "source": []
  },
  {
   "cell_type": "code",
   "execution_count": null,
   "metadata": {
    "vscode": {
     "languageId": "r"
    }
   },
   "outputs": [],
   "source": []
  }
 ],
 "metadata": {
  "kernelspec": {
   "display_name": "R",
   "language": "R",
   "name": "ir"
  },
  "language_info": {
   "codemirror_mode": "r",
   "file_extension": ".r",
   "mimetype": "text/x-r-source",
   "name": "R",
   "pygments_lexer": "r",
   "version": "4.3.0"
  },
  "orig_nbformat": 4
 },
 "nbformat": 4,
 "nbformat_minor": 2
}
