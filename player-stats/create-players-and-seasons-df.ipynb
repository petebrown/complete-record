{
 "cells": [
  {
   "cell_type": "code",
   "execution_count": 2,
   "metadata": {},
   "outputs": [],
   "source": [
    "import pandas as pd\n",
    "\n",
    "df = pd.read_csv(\"../output/player_stats.csv\")"
   ]
  },
  {
   "cell_type": "code",
   "execution_count": 3,
   "metadata": {},
   "outputs": [],
   "source": [
    "df[\"player_name\"] = df.forename + \" \" + df.surname\n",
    "df[\"yrs_diff\"] = df.ssn_lve - df.ssn_join\n",
    "\n",
    "players = df[[\"player_name\", \"ssn_join\", \"ssn_lve\"]].to_dict(\"records\")\n",
    "\n",
    "def get_disam_name(season, player_name, surname):\n",
    "    if season in [\"1981/82\", \"1982/83\", \"1983/84\"] and player_name == \"Owen Brown\":\n",
    "        return \"Brown O\"\n",
    "    if season in [\"1962/63\", \"1963/64\", \"1964/65\", \"1965/66\", \"1966/67\", \"1967/68\", \"1968/69\", \"1969/70\", \"1970/71\", \"1971/72\"] and player_name == \"Alan King\":\n",
    "        return \"King A\"\n",
    "    elif season == \"1992/93\" and player_name == \"Tommy Coyne\":\n",
    "        return \"Coyne T\"\n",
    "    elif season in [\"1993/94\", \"1994/95\", \"1995/96\", \"1996/97\"] and player_name == \"Gary Jones\":\n",
    "        return \"Jones G\"\n",
    "    elif season == \"1986/87\" and player_name == \"Adrian Thorpe\":\n",
    "        return \"Thorpe Ad\"\n",
    "    elif season == \"1987/88\" and player_name == \"Andy Thorpe\":\n",
    "        return \"Thorpe Andy\"\n",
    "    elif season in [\"1980/81\", \"1981/82\", \"1983/84\"] and player_name == \"John Williams\":\n",
    "        return \"Williams J\"\n",
    "    elif season in [\"1983/84\", \"1985/86\", \"1986/87\"] and player_name == \"Gary Williams\":\n",
    "        return \"Williams G\"\n",
    "    else:\n",
    "        return surname\n",
    "\n",
    "player_ssns = []\n",
    "for player in players:\n",
    "    forename = player[\"player_name\"].split(\" \")[0]\n",
    "    surname = player[\"player_name\"].split(\" \")[1]\n",
    "    player_name = player[\"player_name\"]\n",
    "    year_1 = player[\"ssn_join\"]\n",
    "    year_2 = player[\"ssn_lve\"] + 1\n",
    "    ssns = list(range(year_1, year_2))\n",
    "    \n",
    "    for ssn in ssns:\n",
    "        season = f\"{ssn}/{str(ssn+1)[-2:]}\"\n",
    "        disam_name = get_disam_name(season, player_name, surname)\n",
    "\n",
    "        player_ssns.append({\n",
    "            \"surname\": surname,\n",
    "            \"forename\": forename,\n",
    "            \"player_name\": player_name,\n",
    "            \"ssn\": ssn,\n",
    "            \"season\": season,\n",
    "            \"disam_name\": disam_name\n",
    "        })\n",
    "\n",
    "players = pd.DataFrame(player_ssns).sort_values([\"surname\", \"forename\", \"ssn\"])\n",
    "\n",
    "players.to_csv(\"../output/player_ssns.csv\", index = False)"
   ]
  },
  {
   "cell_type": "code",
   "execution_count": null,
   "metadata": {},
   "outputs": [],
   "source": []
  }
 ],
 "metadata": {
  "kernelspec": {
   "display_name": "Python 3",
   "language": "python",
   "name": "python3"
  },
  "language_info": {
   "codemirror_mode": {
    "name": "ipython",
    "version": 3
   },
   "file_extension": ".py",
   "mimetype": "text/x-python",
   "name": "python",
   "nbconvert_exporter": "python",
   "pygments_lexer": "ipython3",
   "version": "3.11.3"
  },
  "orig_nbformat": 4
 },
 "nbformat": 4,
 "nbformat_minor": 2
}
