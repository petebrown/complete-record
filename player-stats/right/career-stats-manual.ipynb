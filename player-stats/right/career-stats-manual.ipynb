{
 "cells": [
  {
   "cell_type": "code",
   "execution_count": 17,
   "metadata": {
    "vscode": {
     "languageId": "r"
    }
   },
   "outputs": [],
   "source": [
    "library(tidyverse)\n",
    "\n",
    "p101 <- read_csv(\"./p101.csv\", show_col_types = FALSE) %>% mutate(pg = 101)\n",
    "p102 <- read_csv(\"./p102.csv\", show_col_types = FALSE) %>% mutate(pg = 102)\n",
    "p103 <- read_csv(\"./p103.csv\", show_col_types = FALSE) %>% mutate(pg = 103)\n",
    "p104 <- read_csv(\"./p104.csv\", show_col_types = FALSE) %>% mutate(pg = 104)\n",
    "p105 <- read_csv(\"./p105.csv\", show_col_types = FALSE) %>% mutate(pg = 105)\n",
    "p106 <- read_csv(\"./p106.csv\", show_col_types = FALSE) %>% mutate(pg = 106)\n",
    "p107 <- read_csv(\"./p107.csv\", show_col_types = FALSE) %>% mutate(pg = 107)\n",
    "p108 <- read_csv(\"./p108.csv\", show_col_types = FALSE) %>% mutate(pg = 108)\n",
    "\n",
    "problems(p103)\n",
    "\n",
    "df <- bind_rows(p101, p102, p103, p104, p105, p106, p107, p108) %>%\n",
    "mutate(\n",
    "    ssn_join = as.numeric(paste0(\"19\", ssn_join)),\n",
    "    ssn_lve = as.numeric(paste0(\"19\", ssn_lve)),\n",
    "    is_loan = case_when(\n",
    "        str_detect(prev_club, \"loan\") ~ 1,\n",
    "        TRUE ~ 0\n",
    "        ),\n",
    "    prev_club = str_replace(prev_club, \" \\\\(loan\\\\)\", \"\")\n",
    ")"
   ]
  },
  {
   "cell_type": "code",
   "execution_count": 18,
   "metadata": {
    "vscode": {
     "languageId": "r"
    }
   },
   "outputs": [
    {
     "data": {
      "text/html": [
       "<table class=\"dataframe\">\n",
       "<caption>A tibble: 0 x 7</caption>\n",
       "<thead>\n",
       "\t<tr><th scope=col>lge_apps</th><th scope=col>fac_apps</th><th scope=col>lc_apps</th><th scope=col>other_apps</th><th scope=col>total_apps</th><th scope=col>apps</th><th scope=col>diff</th></tr>\n",
       "\t<tr><th scope=col>&lt;dbl&gt;</th><th scope=col>&lt;dbl&gt;</th><th scope=col>&lt;dbl&gt;</th><th scope=col>&lt;dbl&gt;</th><th scope=col>&lt;dbl&gt;</th><th scope=col>&lt;dbl&gt;</th><th scope=col>&lt;dbl&gt;</th></tr>\n",
       "</thead>\n",
       "<tbody>\n",
       "</tbody>\n",
       "</table>\n"
      ],
      "text/latex": [
       "A tibble: 0 x 7\n",
       "\\begin{tabular}{lllllll}\n",
       " lge\\_apps & fac\\_apps & lc\\_apps & other\\_apps & total\\_apps & apps & diff\\\\\n",
       " <dbl> & <dbl> & <dbl> & <dbl> & <dbl> & <dbl> & <dbl>\\\\\n",
       "\\hline\n",
       "\\end{tabular}\n"
      ],
      "text/markdown": [
       "\n",
       "A tibble: 0 x 7\n",
       "\n",
       "| lge_apps &lt;dbl&gt; | fac_apps &lt;dbl&gt; | lc_apps &lt;dbl&gt; | other_apps &lt;dbl&gt; | total_apps &lt;dbl&gt; | apps &lt;dbl&gt; | diff &lt;dbl&gt; |\n",
       "|---|---|---|---|---|---|---|\n",
       "\n"
      ],
      "text/plain": [
       "     lge_apps fac_apps lc_apps other_apps total_apps apps diff"
      ]
     },
     "metadata": {},
     "output_type": "display_data"
    },
    {
     "data": {
      "text/html": [
       "<table class=\"dataframe\">\n",
       "<caption>A tibble: 0 x 7</caption>\n",
       "<thead>\n",
       "\t<tr><th scope=col>lge_sub</th><th scope=col>fac_sub</th><th scope=col>lc_sub</th><th scope=col>other_sub</th><th scope=col>total_subs</th><th scope=col>subs</th><th scope=col>diff</th></tr>\n",
       "\t<tr><th scope=col>&lt;dbl&gt;</th><th scope=col>&lt;dbl&gt;</th><th scope=col>&lt;dbl&gt;</th><th scope=col>&lt;dbl&gt;</th><th scope=col>&lt;dbl&gt;</th><th scope=col>&lt;dbl&gt;</th><th scope=col>&lt;dbl&gt;</th></tr>\n",
       "</thead>\n",
       "<tbody>\n",
       "</tbody>\n",
       "</table>\n"
      ],
      "text/latex": [
       "A tibble: 0 x 7\n",
       "\\begin{tabular}{lllllll}\n",
       " lge\\_sub & fac\\_sub & lc\\_sub & other\\_sub & total\\_subs & subs & diff\\\\\n",
       " <dbl> & <dbl> & <dbl> & <dbl> & <dbl> & <dbl> & <dbl>\\\\\n",
       "\\hline\n",
       "\\end{tabular}\n"
      ],
      "text/markdown": [
       "\n",
       "A tibble: 0 x 7\n",
       "\n",
       "| lge_sub &lt;dbl&gt; | fac_sub &lt;dbl&gt; | lc_sub &lt;dbl&gt; | other_sub &lt;dbl&gt; | total_subs &lt;dbl&gt; | subs &lt;dbl&gt; | diff &lt;dbl&gt; |\n",
       "|---|---|---|---|---|---|---|\n",
       "\n"
      ],
      "text/plain": [
       "     lge_sub fac_sub lc_sub other_sub total_subs subs diff"
      ]
     },
     "metadata": {},
     "output_type": "display_data"
    },
    {
     "data": {
      "text/html": [
       "<table class=\"dataframe\">\n",
       "<caption>A tibble: 0 x 7</caption>\n",
       "<thead>\n",
       "\t<tr><th scope=col>lge_gls</th><th scope=col>fac_gls</th><th scope=col>lc_gls</th><th scope=col>other_gls</th><th scope=col>total_gls</th><th scope=col>goals</th><th scope=col>diff</th></tr>\n",
       "\t<tr><th scope=col>&lt;dbl&gt;</th><th scope=col>&lt;dbl&gt;</th><th scope=col>&lt;dbl&gt;</th><th scope=col>&lt;dbl&gt;</th><th scope=col>&lt;dbl&gt;</th><th scope=col>&lt;dbl&gt;</th><th scope=col>&lt;dbl&gt;</th></tr>\n",
       "</thead>\n",
       "<tbody>\n",
       "</tbody>\n",
       "</table>\n"
      ],
      "text/latex": [
       "A tibble: 0 x 7\n",
       "\\begin{tabular}{lllllll}\n",
       " lge\\_gls & fac\\_gls & lc\\_gls & other\\_gls & total\\_gls & goals & diff\\\\\n",
       " <dbl> & <dbl> & <dbl> & <dbl> & <dbl> & <dbl> & <dbl>\\\\\n",
       "\\hline\n",
       "\\end{tabular}\n"
      ],
      "text/markdown": [
       "\n",
       "A tibble: 0 x 7\n",
       "\n",
       "| lge_gls &lt;dbl&gt; | fac_gls &lt;dbl&gt; | lc_gls &lt;dbl&gt; | other_gls &lt;dbl&gt; | total_gls &lt;dbl&gt; | goals &lt;dbl&gt; | diff &lt;dbl&gt; |\n",
       "|---|---|---|---|---|---|---|\n",
       "\n"
      ],
      "text/plain": [
       "     lge_gls fac_gls lc_gls other_gls total_gls goals diff"
      ]
     },
     "metadata": {},
     "output_type": "display_data"
    }
   ],
   "source": [
    "df %>%\n",
    "    select(contains(\"apps\")) %>%\n",
    "    mutate(\n",
    "        apps = lge_apps + fac_apps + lc_apps + other_apps,\n",
    "        diff = total_apps - apps,\n",
    "    ) %>%\n",
    "    filter(\n",
    "        diff != 0\n",
    "    )\n",
    "\n",
    "df %>%\n",
    "    select(contains(\"sub\")) %>%\n",
    "    mutate(\n",
    "        subs = lge_sub + fac_sub + lc_sub + other_sub,\n",
    "        diff = total_subs - subs\n",
    "    ) %>%\n",
    "    filter(\n",
    "        diff != 0\n",
    "    )\n",
    "\n",
    "df %>%\n",
    "    select(contains(\"gls\")) %>%\n",
    "    mutate(\n",
    "        goals = lge_gls + fac_gls + lc_gls + other_gls,\n",
    "        diff = total_gls - goals\n",
    "    ) %>%\n",
    "    filter(\n",
    "        diff != 0\n",
    "    )"
   ]
  },
  {
   "cell_type": "code",
   "execution_count": 19,
   "metadata": {
    "vscode": {
     "languageId": "r"
    }
   },
   "outputs": [],
   "source": [
    "write_csv(df, \"./career-stats.csv\")"
   ]
  },
  {
   "cell_type": "code",
   "execution_count": null,
   "metadata": {
    "vscode": {
     "languageId": "r"
    }
   },
   "outputs": [],
   "source": []
  }
 ],
 "metadata": {
  "kernelspec": {
   "display_name": "R",
   "language": "R",
   "name": "ir"
  },
  "language_info": {
   "codemirror_mode": "r",
   "file_extension": ".r",
   "mimetype": "text/x-r-source",
   "name": "R",
   "pygments_lexer": "r",
   "version": "4.3.0"
  },
  "orig_nbformat": 4
 },
 "nbformat": 4,
 "nbformat_minor": 2
}
