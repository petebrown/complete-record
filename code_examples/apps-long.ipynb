{
 "cells": [
  {
   "attachments": {},
   "cell_type": "markdown",
   "metadata": {},
   "source": [
    "# `apps_long.csv`"
   ]
  },
  {
   "cell_type": "code",
   "execution_count": 50,
   "metadata": {
    "vscode": {
     "languageId": "r"
    }
   },
   "outputs": [],
   "source": [
    "library(dplyr)\n",
    "library(readr)\n",
    "library(tidyr)\n",
    "\n",
    "cr_apps <- read_csv(\"../output/apps_long.csv\", show_col_types = FALSE)\n",
    "\n",
    "pl_ssns <- read_csv(\"../output/player_ssns.csv\", show_col_types = FALSE)\n",
    "\n",
    "gls <- read_csv(\"../output/scorers-long.csv\", show_col_types = FALSE) %>%\n",
    "    group_by(\n",
    "        season,\n",
    "        game_no,\n",
    "        player_name\n",
    "    ) %>%\n",
    "    summarise(\n",
    "        goals_scored = sum(goals_scored),\n",
    "        .groups = \"drop\"\n",
    "    )\n",
    "\n",
    "res <- read_csv(\"https://raw.githubusercontent.com/petebrown/update-results/main/data/results_df.csv\", show_col_types = FALSE)"
   ]
  },
  {
   "cell_type": "code",
   "execution_count": 51,
   "metadata": {
    "vscode": {
     "languageId": "r"
    }
   },
   "outputs": [
    {
     "data": {
      "text/html": [
       "<table class=\"dataframe\">\n",
       "<caption>A tibble: 3 × 2</caption>\n",
       "<thead>\n",
       "\t<tr><th scope=col>game_id</th><th scope=col>game_date</th></tr>\n",
       "\t<tr><th scope=col>&lt;dbl&gt;</th><th scope=col>&lt;date&gt;</th></tr>\n",
       "</thead>\n",
       "<tbody>\n",
       "\t<tr><td>240309</td><td>1996-08-17</td></tr>\n",
       "\t<tr><td>243200</td><td>1996-08-21</td></tr>\n",
       "\t<tr><td>242383</td><td>1996-08-23</td></tr>\n",
       "</tbody>\n",
       "</table>\n"
      ],
      "text/latex": [
       "A tibble: 3 × 2\n",
       "\\begin{tabular}{ll}\n",
       " game\\_id & game\\_date\\\\\n",
       " <dbl> & <date>\\\\\n",
       "\\hline\n",
       "\t 240309 & 1996-08-17\\\\\n",
       "\t 243200 & 1996-08-21\\\\\n",
       "\t 242383 & 1996-08-23\\\\\n",
       "\\end{tabular}\n"
      ],
      "text/markdown": [
       "\n",
       "A tibble: 3 × 2\n",
       "\n",
       "| game_id &lt;dbl&gt; | game_date &lt;date&gt; |\n",
       "|---|---|\n",
       "| 240309 | 1996-08-17 |\n",
       "| 243200 | 1996-08-21 |\n",
       "| 242383 | 1996-08-23 |\n",
       "\n"
      ],
      "text/plain": [
       "  game_id game_date \n",
       "1 240309  1996-08-17\n",
       "2 243200  1996-08-21\n",
       "3 242383  1996-08-23"
      ]
     },
     "metadata": {},
     "output_type": "display_data"
    }
   ],
   "source": [
    "library(stringr)\n",
    "\n",
    "sb_game_ids <- read_csv(\"https://raw.githubusercontent.com/petebrown/update-player-stats/main/data/players_df.csv\", show_col_types = FALSE) %>%\n",
    "    select(\n",
    "        sb_game_id,\n",
    "        game_date        \n",
    "    ) %>%\n",
    "    rename(\n",
    "        game_id = sb_game_id\n",
    "    ) %>%\n",
    "    mutate(\n",
    "        game_id = str_remove(game_id, \"tpg\"),\n",
    "        game_id = as.numeric(game_id)\n",
    "    ) %>%\n",
    "    unique() %>%\n",
    "    arrange(\n",
    "        game_date\n",
    "    )\n",
    "\n",
    "head(sb_game_ids, 3)"
   ]
  },
  {
   "attachments": {},
   "cell_type": "markdown",
   "metadata": {},
   "source": [
    "#### Pivot apps_long to wide format mimicking book"
   ]
  },
  {
   "cell_type": "code",
   "execution_count": 55,
   "metadata": {
    "vscode": {
     "languageId": "r"
    }
   },
   "outputs": [
    {
     "name": "stderr",
     "output_type": "stream",
     "text": [
      "\u001b[1m\u001b[22m`summarise()` has grouped output by 'season', 'player_name', 'generic_comp'.\n",
      "You can override using the `.groups` argument.\n"
     ]
    }
   ],
   "source": [
    "apps_long <- cr_apps %>%\n",
    "    left_join(\n",
    "        pl_ssns %>%\n",
    "            select(\n",
    "                season,\n",
    "                disam_name,\n",
    "                player_name\n",
    "            ) %>% unique(),\n",
    "        by = c(\"season\" = \"season\", \"player_name\" = \"disam_name\")\n",
    "    ) %>%\n",
    "    mutate(\n",
    "        player_name = player_name.y\n",
    "    ) %>%\n",
    "    select(-player_name.y) %>%\n",
    "    left_join(\n",
    "        gls,\n",
    "        by = c(\"season\" = \"season\", \"game_no\" = \"game_no\", \"player_name\" = \"player_name\")\n",
    "    ) %>%\n",
    "    left_join(\n",
    "        res %>%\n",
    "            select(\n",
    "                season,\n",
    "                ssn_game_no,\n",
    "                generic_comp\n",
    "            ),\n",
    "        by = c(\"season\" = \"season\", \"game_no\" = \"ssn_game_no\")\n",
    "    ) %>%\n",
    "    group_by(\n",
    "        season,\n",
    "        player_name,\n",
    "        generic_comp,\n",
    "        role\n",
    "    ) %>%\n",
    "    summarise(\n",
    "        count = n()\n",
    "    )\n",
    "\n",
    "\n",
    "\n",
    "    # %>%\n",
    "    # arrange(\n",
    "    #     season,\n",
    "    #     game_no,\n",
    "    #     player_name\n",
    "    # ) %>%\n",
    "    # pivot_wider(\n",
    "    #     id_cols = c(season, game_no),\n",
    "    #     names_from = player_name,\n",
    "    #     values_from = shirt_no\n",
    "    # ) %>%\n",
    "    \n",
    "    # select(\n",
    "    #     season, game_no, opposition, score, generic_comp,\n",
    "    #     sort(names(.[3:length(.)]))\n",
    "    # )"
   ]
  },
  {
   "cell_type": "code",
   "execution_count": 56,
   "metadata": {
    "vscode": {
     "languageId": "r"
    }
   },
   "outputs": [
    {
     "name": "stderr",
     "output_type": "stream",
     "text": [
      "\u001b[1m\u001b[22m`summarise()` has grouped output by 'season', 'player_name'. You can override\n",
      "using the `.groups` argument.\n"
     ]
    },
    {
     "data": {
      "text/html": [
       "<table class=\"dataframe\">\n",
       "<caption>A grouped_df: 3 × 5</caption>\n",
       "<thead>\n",
       "\t<tr><th scope=col>season</th><th scope=col>player_name</th><th scope=col>generic_comp</th><th scope=col>role</th><th scope=col>count</th></tr>\n",
       "\t<tr><th scope=col>&lt;chr&gt;</th><th scope=col>&lt;chr&gt;</th><th scope=col>&lt;chr&gt;</th><th scope=col>&lt;chr&gt;</th><th scope=col>&lt;int&gt;</th></tr>\n",
       "</thead>\n",
       "<tbody>\n",
       "\t<tr><td>1989/90</td><td>Chris Malkin</td><td>Associate Members' Cup</td><td>starter</td><td>5</td></tr>\n",
       "\t<tr><td>1989/90</td><td>Chris Malkin</td><td>Associate Members' Cup</td><td>sub    </td><td>1</td></tr>\n",
       "\t<tr><td>1989/90</td><td>Chris Malkin</td><td>FA Cup                </td><td>sub    </td><td>1</td></tr>\n",
       "</tbody>\n",
       "</table>\n"
      ],
      "text/latex": [
       "A grouped\\_df: 3 × 5\n",
       "\\begin{tabular}{lllll}\n",
       " season & player\\_name & generic\\_comp & role & count\\\\\n",
       " <chr> & <chr> & <chr> & <chr> & <int>\\\\\n",
       "\\hline\n",
       "\t 1989/90 & Chris Malkin & Associate Members' Cup & starter & 5\\\\\n",
       "\t 1989/90 & Chris Malkin & Associate Members' Cup & sub     & 1\\\\\n",
       "\t 1989/90 & Chris Malkin & FA Cup                 & sub     & 1\\\\\n",
       "\\end{tabular}\n"
      ],
      "text/markdown": [
       "\n",
       "A grouped_df: 3 × 5\n",
       "\n",
       "| season &lt;chr&gt; | player_name &lt;chr&gt; | generic_comp &lt;chr&gt; | role &lt;chr&gt; | count &lt;int&gt; |\n",
       "|---|---|---|---|---|\n",
       "| 1989/90 | Chris Malkin | Associate Members' Cup | starter | 5 |\n",
       "| 1989/90 | Chris Malkin | Associate Members' Cup | sub     | 1 |\n",
       "| 1989/90 | Chris Malkin | FA Cup                 | sub     | 1 |\n",
       "\n"
      ],
      "text/plain": [
       "  season  player_name  generic_comp           role    count\n",
       "1 1989/90 Chris Malkin Associate Members' Cup starter 5    \n",
       "2 1989/90 Chris Malkin Associate Members' Cup sub     1    \n",
       "3 1989/90 Chris Malkin FA Cup                 sub     1    "
      ]
     },
     "metadata": {},
     "output_type": "display_data"
    }
   ],
   "source": [
    "gls_long <- cr_apps %>%\n",
    "    left_join(\n",
    "        pl_ssns %>%\n",
    "            select(\n",
    "                season,\n",
    "                disam_name,\n",
    "                player_name\n",
    "            ) %>% unique(),\n",
    "        by = c(\"season\" = \"season\", \"player_name\" = \"disam_name\")\n",
    "    ) %>%\n",
    "    mutate(\n",
    "        player_name = player_name.y\n",
    "    ) %>%\n",
    "    select(-player_name.y) %>%\n",
    "    left_join(\n",
    "        gls %>%\n",
    "            select(\n",
    "                season,\n",
    "                game_no,\n",
    "                player_name,\n",
    "                goals_scored\n",
    "            ),\n",
    "        by = c(\"season\", \"game_no\", \"player_name\")\n",
    "    ) %>%\n",
    "    select(\n",
    "        season,\n",
    "        game_no,\n",
    "        player_name,,\n",
    "        goals_scored\n",
    "    ) %>%\n",
    "    left_join(\n",
    "        res %>%\n",
    "            select(\n",
    "                season,\n",
    "                ssn_game_no,\n",
    "                generic_comp\n",
    "            ),\n",
    "        by = c(\"season\" = \"season\", \"game_no\" = \"ssn_game_no\")\n",
    "    ) %>%\n",
    "    mutate(\n",
    "        goals_scored = ifelse(is.na(goals_scored), 0, goals_scored)\n",
    "    ) %>%\n",
    "    group_by(\n",
    "        season,\n",
    "        player_name,\n",
    "        generic_comp\n",
    "    ) %>%\n",
    "    summarise(\n",
    "        count = sum(goals_scored)\n",
    "    ) %>%\n",
    "    mutate(\n",
    "        role = \"goals\"\n",
    "    )\n",
    "\n",
    "head(apps_long, 3)"
   ]
  },
  {
   "cell_type": "code",
   "execution_count": 61,
   "metadata": {
    "vscode": {
     "languageId": "r"
    }
   },
   "outputs": [
    {
     "data": {
      "text/html": [
       "<table class=\"dataframe\">\n",
       "<caption>A grouped_df: 12 × 23</caption>\n",
       "<thead>\n",
       "\t<tr><th scope=col>season</th><th scope=col>generic_comp</th><th scope=col>role</th><th scope=col>Bauress</th><th scope=col>Bishop</th><th scope=col>Fairclough</th><th scope=col>Garnett</th><th scope=col>Harvey</th><th scope=col>Higgins</th><th scope=col>Hughes</th><th scope=col>⋯</th><th scope=col>McCarrick</th><th scope=col>McNab</th><th scope=col>Morrissey</th><th scope=col>Muir</th><th scope=col>Mungall</th><th scope=col>Nixon</th><th scope=col>Pike</th><th scope=col>Steel</th><th scope=col>Thomas</th><th scope=col>Vickers</th></tr>\n",
       "\t<tr><th scope=col>&lt;chr&gt;</th><th scope=col>&lt;fct&gt;</th><th scope=col>&lt;fct&gt;</th><th scope=col>&lt;dbl&gt;</th><th scope=col>&lt;dbl&gt;</th><th scope=col>&lt;dbl&gt;</th><th scope=col>&lt;dbl&gt;</th><th scope=col>&lt;dbl&gt;</th><th scope=col>&lt;dbl&gt;</th><th scope=col>&lt;dbl&gt;</th><th scope=col>⋯</th><th scope=col>&lt;dbl&gt;</th><th scope=col>&lt;dbl&gt;</th><th scope=col>&lt;dbl&gt;</th><th scope=col>&lt;dbl&gt;</th><th scope=col>&lt;dbl&gt;</th><th scope=col>&lt;dbl&gt;</th><th scope=col>&lt;dbl&gt;</th><th scope=col>&lt;dbl&gt;</th><th scope=col>&lt;dbl&gt;</th><th scope=col>&lt;dbl&gt;</th></tr>\n",
       "</thead>\n",
       "<tbody>\n",
       "\t<tr><td>1989/90</td><td>League                </td><td>starter</td><td>1</td><td>13</td><td> 3</td><td>5</td><td>48</td><td>47</td><td>48</td><td>⋯</td><td>32</td><td>25</td><td>24</td><td>49</td><td>19</td><td>49</td><td>2</td><td>32</td><td>45</td><td>45</td></tr>\n",
       "\t<tr><td>1989/90</td><td>League                </td><td>sub    </td><td>0</td><td>16</td><td>12</td><td>0</td><td> 1</td><td> 0</td><td> 0</td><td>⋯</td><td> 0</td><td> 0</td><td> 3</td><td> 0</td><td> 1</td><td> 0</td><td>0</td><td> 7</td><td> 0</td><td> 0</td></tr>\n",
       "\t<tr><td>1989/90</td><td>League                </td><td>goals  </td><td>0</td><td> 7</td><td> 1</td><td>0</td><td> 7</td><td> 1</td><td> 4</td><td>⋯</td><td> 4</td><td> 1</td><td> 5</td><td>24</td><td> 2</td><td> 0</td><td>0</td><td> 5</td><td> 2</td><td> 3</td></tr>\n",
       "\t<tr><td>1989/90</td><td>FA Cup                </td><td>starter</td><td>0</td><td> 1</td><td> 0</td><td>0</td><td> 1</td><td> 1</td><td> 1</td><td>⋯</td><td> 0</td><td> 0</td><td> 1</td><td> 1</td><td> 1</td><td> 1</td><td>1</td><td> 1</td><td> 0</td><td> 1</td></tr>\n",
       "\t<tr><td>1989/90</td><td>FA Cup                </td><td>sub    </td><td>0</td><td> 0</td><td> 0</td><td>0</td><td> 0</td><td> 0</td><td> 0</td><td>⋯</td><td> 0</td><td> 0</td><td> 0</td><td> 0</td><td> 0</td><td> 0</td><td>0</td><td> 0</td><td> 0</td><td> 0</td></tr>\n",
       "\t<tr><td>1989/90</td><td>FA Cup                </td><td>goals  </td><td>0</td><td> 0</td><td> 0</td><td>0</td><td> 0</td><td> 0</td><td> 0</td><td>⋯</td><td> 0</td><td> 0</td><td> 0</td><td> 0</td><td> 0</td><td> 0</td><td>0</td><td> 0</td><td> 0</td><td> 0</td></tr>\n",
       "\t<tr><td>1989/90</td><td>League Cup            </td><td>starter</td><td>0</td><td> 4</td><td> 0</td><td>1</td><td> 7</td><td> 7</td><td> 7</td><td>⋯</td><td> 5</td><td> 0</td><td> 6</td><td> 7</td><td> 2</td><td> 7</td><td>2</td><td> 3</td><td> 5</td><td> 5</td></tr>\n",
       "\t<tr><td>1989/90</td><td>League Cup            </td><td>sub    </td><td>0</td><td> 3</td><td> 3</td><td>0</td><td> 0</td><td> 0</td><td> 0</td><td>⋯</td><td> 0</td><td> 0</td><td> 0</td><td> 0</td><td> 0</td><td> 0</td><td>0</td><td> 2</td><td> 0</td><td> 0</td></tr>\n",
       "\t<tr><td>1989/90</td><td>League Cup            </td><td>goals  </td><td>0</td><td> 2</td><td> 0</td><td>0</td><td> 0</td><td> 0</td><td> 0</td><td>⋯</td><td> 1</td><td> 0</td><td> 0</td><td> 4</td><td> 0</td><td> 0</td><td>0</td><td> 2</td><td> 0</td><td> 1</td></tr>\n",
       "\t<tr><td>1989/90</td><td>Associate Members' Cup</td><td>starter</td><td>0</td><td> 1</td><td> 0</td><td>2</td><td> 7</td><td> 6</td><td> 8</td><td>⋯</td><td> 5</td><td> 6</td><td> 4</td><td> 8</td><td> 5</td><td> 8</td><td>0</td><td> 7</td><td> 7</td><td> 7</td></tr>\n",
       "\t<tr><td>1989/90</td><td>Associate Members' Cup</td><td>sub    </td><td>0</td><td> 2</td><td> 1</td><td>1</td><td> 0</td><td> 0</td><td> 0</td><td>⋯</td><td> 0</td><td> 0</td><td> 1</td><td> 0</td><td> 0</td><td> 0</td><td>0</td><td> 0</td><td> 0</td><td> 0</td></tr>\n",
       "\t<tr><td>1989/90</td><td>Associate Members' Cup</td><td>goals  </td><td>0</td><td> 0</td><td> 0</td><td>0</td><td> 0</td><td> 0</td><td> 0</td><td>⋯</td><td> 1</td><td> 1</td><td> 1</td><td> 7</td><td> 0</td><td> 0</td><td>0</td><td> 2</td><td> 0</td><td> 0</td></tr>\n",
       "</tbody>\n",
       "</table>\n"
      ],
      "text/latex": [
       "A grouped\\_df: 12 × 23\n",
       "\\begin{tabular}{lllllllllllllllllllll}\n",
       " season & generic\\_comp & role & Bauress & Bishop & Fairclough & Garnett & Harvey & Higgins & Hughes & ⋯ & McCarrick & McNab & Morrissey & Muir & Mungall & Nixon & Pike & Steel & Thomas & Vickers\\\\\n",
       " <chr> & <fct> & <fct> & <dbl> & <dbl> & <dbl> & <dbl> & <dbl> & <dbl> & <dbl> & ⋯ & <dbl> & <dbl> & <dbl> & <dbl> & <dbl> & <dbl> & <dbl> & <dbl> & <dbl> & <dbl>\\\\\n",
       "\\hline\n",
       "\t 1989/90 & League                 & starter & 1 & 13 &  3 & 5 & 48 & 47 & 48 & ⋯ & 32 & 25 & 24 & 49 & 19 & 49 & 2 & 32 & 45 & 45\\\\\n",
       "\t 1989/90 & League                 & sub     & 0 & 16 & 12 & 0 &  1 &  0 &  0 & ⋯ &  0 &  0 &  3 &  0 &  1 &  0 & 0 &  7 &  0 &  0\\\\\n",
       "\t 1989/90 & League                 & goals   & 0 &  7 &  1 & 0 &  7 &  1 &  4 & ⋯ &  4 &  1 &  5 & 24 &  2 &  0 & 0 &  5 &  2 &  3\\\\\n",
       "\t 1989/90 & FA Cup                 & starter & 0 &  1 &  0 & 0 &  1 &  1 &  1 & ⋯ &  0 &  0 &  1 &  1 &  1 &  1 & 1 &  1 &  0 &  1\\\\\n",
       "\t 1989/90 & FA Cup                 & sub     & 0 &  0 &  0 & 0 &  0 &  0 &  0 & ⋯ &  0 &  0 &  0 &  0 &  0 &  0 & 0 &  0 &  0 &  0\\\\\n",
       "\t 1989/90 & FA Cup                 & goals   & 0 &  0 &  0 & 0 &  0 &  0 &  0 & ⋯ &  0 &  0 &  0 &  0 &  0 &  0 & 0 &  0 &  0 &  0\\\\\n",
       "\t 1989/90 & League Cup             & starter & 0 &  4 &  0 & 1 &  7 &  7 &  7 & ⋯ &  5 &  0 &  6 &  7 &  2 &  7 & 2 &  3 &  5 &  5\\\\\n",
       "\t 1989/90 & League Cup             & sub     & 0 &  3 &  3 & 0 &  0 &  0 &  0 & ⋯ &  0 &  0 &  0 &  0 &  0 &  0 & 0 &  2 &  0 &  0\\\\\n",
       "\t 1989/90 & League Cup             & goals   & 0 &  2 &  0 & 0 &  0 &  0 &  0 & ⋯ &  1 &  0 &  0 &  4 &  0 &  0 & 0 &  2 &  0 &  1\\\\\n",
       "\t 1989/90 & Associate Members' Cup & starter & 0 &  1 &  0 & 2 &  7 &  6 &  8 & ⋯ &  5 &  6 &  4 &  8 &  5 &  8 & 0 &  7 &  7 &  7\\\\\n",
       "\t 1989/90 & Associate Members' Cup & sub     & 0 &  2 &  1 & 1 &  0 &  0 &  0 & ⋯ &  0 &  0 &  1 &  0 &  0 &  0 & 0 &  0 &  0 &  0\\\\\n",
       "\t 1989/90 & Associate Members' Cup & goals   & 0 &  0 &  0 & 0 &  0 &  0 &  0 & ⋯ &  1 &  1 &  1 &  7 &  0 &  0 & 0 &  2 &  0 &  0\\\\\n",
       "\\end{tabular}\n"
      ],
      "text/markdown": [
       "\n",
       "A grouped_df: 12 × 23\n",
       "\n",
       "| season &lt;chr&gt; | generic_comp &lt;fct&gt; | role &lt;fct&gt; | Bauress &lt;dbl&gt; | Bishop &lt;dbl&gt; | Fairclough &lt;dbl&gt; | Garnett &lt;dbl&gt; | Harvey &lt;dbl&gt; | Higgins &lt;dbl&gt; | Hughes &lt;dbl&gt; | ⋯ ⋯ | McCarrick &lt;dbl&gt; | McNab &lt;dbl&gt; | Morrissey &lt;dbl&gt; | Muir &lt;dbl&gt; | Mungall &lt;dbl&gt; | Nixon &lt;dbl&gt; | Pike &lt;dbl&gt; | Steel &lt;dbl&gt; | Thomas &lt;dbl&gt; | Vickers &lt;dbl&gt; |\n",
       "|---|---|---|---|---|---|---|---|---|---|---|---|---|---|---|---|---|---|---|---|---|\n",
       "| 1989/90 | League                 | starter | 1 | 13 |  3 | 5 | 48 | 47 | 48 | ⋯ | 32 | 25 | 24 | 49 | 19 | 49 | 2 | 32 | 45 | 45 |\n",
       "| 1989/90 | League                 | sub     | 0 | 16 | 12 | 0 |  1 |  0 |  0 | ⋯ |  0 |  0 |  3 |  0 |  1 |  0 | 0 |  7 |  0 |  0 |\n",
       "| 1989/90 | League                 | goals   | 0 |  7 |  1 | 0 |  7 |  1 |  4 | ⋯ |  4 |  1 |  5 | 24 |  2 |  0 | 0 |  5 |  2 |  3 |\n",
       "| 1989/90 | FA Cup                 | starter | 0 |  1 |  0 | 0 |  1 |  1 |  1 | ⋯ |  0 |  0 |  1 |  1 |  1 |  1 | 1 |  1 |  0 |  1 |\n",
       "| 1989/90 | FA Cup                 | sub     | 0 |  0 |  0 | 0 |  0 |  0 |  0 | ⋯ |  0 |  0 |  0 |  0 |  0 |  0 | 0 |  0 |  0 |  0 |\n",
       "| 1989/90 | FA Cup                 | goals   | 0 |  0 |  0 | 0 |  0 |  0 |  0 | ⋯ |  0 |  0 |  0 |  0 |  0 |  0 | 0 |  0 |  0 |  0 |\n",
       "| 1989/90 | League Cup             | starter | 0 |  4 |  0 | 1 |  7 |  7 |  7 | ⋯ |  5 |  0 |  6 |  7 |  2 |  7 | 2 |  3 |  5 |  5 |\n",
       "| 1989/90 | League Cup             | sub     | 0 |  3 |  3 | 0 |  0 |  0 |  0 | ⋯ |  0 |  0 |  0 |  0 |  0 |  0 | 0 |  2 |  0 |  0 |\n",
       "| 1989/90 | League Cup             | goals   | 0 |  2 |  0 | 0 |  0 |  0 |  0 | ⋯ |  1 |  0 |  0 |  4 |  0 |  0 | 0 |  2 |  0 |  1 |\n",
       "| 1989/90 | Associate Members' Cup | starter | 0 |  1 |  0 | 2 |  7 |  6 |  8 | ⋯ |  5 |  6 |  4 |  8 |  5 |  8 | 0 |  7 |  7 |  7 |\n",
       "| 1989/90 | Associate Members' Cup | sub     | 0 |  2 |  1 | 1 |  0 |  0 |  0 | ⋯ |  0 |  0 |  1 |  0 |  0 |  0 | 0 |  0 |  0 |  0 |\n",
       "| 1989/90 | Associate Members' Cup | goals   | 0 |  0 |  0 | 0 |  0 |  0 |  0 | ⋯ |  1 |  1 |  1 |  7 |  0 |  0 | 0 |  2 |  0 |  0 |\n",
       "\n"
      ],
      "text/plain": [
       "   season  generic_comp           role    Bauress Bishop Fairclough Garnett\n",
       "1  1989/90 League                 starter 1       13      3         5      \n",
       "2  1989/90 League                 sub     0       16     12         0      \n",
       "3  1989/90 League                 goals   0        7      1         0      \n",
       "4  1989/90 FA Cup                 starter 0        1      0         0      \n",
       "5  1989/90 FA Cup                 sub     0        0      0         0      \n",
       "6  1989/90 FA Cup                 goals   0        0      0         0      \n",
       "7  1989/90 League Cup             starter 0        4      0         1      \n",
       "8  1989/90 League Cup             sub     0        3      3         0      \n",
       "9  1989/90 League Cup             goals   0        2      0         0      \n",
       "10 1989/90 Associate Members' Cup starter 0        1      0         2      \n",
       "11 1989/90 Associate Members' Cup sub     0        2      1         1      \n",
       "12 1989/90 Associate Members' Cup goals   0        0      0         0      \n",
       "   Harvey Higgins Hughes ⋯ McCarrick McNab Morrissey Muir Mungall Nixon Pike\n",
       "1  48     47      48     ⋯ 32        25    24        49   19      49    2   \n",
       "2   1      0       0     ⋯  0         0     3         0    1       0    0   \n",
       "3   7      1       4     ⋯  4         1     5        24    2       0    0   \n",
       "4   1      1       1     ⋯  0         0     1         1    1       1    1   \n",
       "5   0      0       0     ⋯  0         0     0         0    0       0    0   \n",
       "6   0      0       0     ⋯  0         0     0         0    0       0    0   \n",
       "7   7      7       7     ⋯  5         0     6         7    2       7    2   \n",
       "8   0      0       0     ⋯  0         0     0         0    0       0    0   \n",
       "9   0      0       0     ⋯  1         0     0         4    0       0    0   \n",
       "10  7      6       8     ⋯  5         6     4         8    5       8    0   \n",
       "11  0      0       0     ⋯  0         0     1         0    0       0    0   \n",
       "12  0      0       0     ⋯  1         1     1         7    0       0    0   \n",
       "   Steel Thomas Vickers\n",
       "1  32    45     45     \n",
       "2   7     0      0     \n",
       "3   5     2      3     \n",
       "4   1     0      1     \n",
       "5   0     0      0     \n",
       "6   0     0      0     \n",
       "7   3     5      5     \n",
       "8   2     0      0     \n",
       "9   2     0      1     \n",
       "10  7     7      7     \n",
       "11  0     0      0     \n",
       "12  2     0      0     "
      ]
     },
     "metadata": {},
     "output_type": "display_data"
    }
   ],
   "source": [
    "rbind(apps_long, gls_long) %>%\n",
    "    mutate(\n",
    "        generic_comp = ifelse(generic_comp %in% c(\"Football League\", \"Non-League\"), \"League\", generic_comp)\n",
    "    ) %>%\n",
    "    filter(\n",
    "        season == \"1989/90\"\n",
    "    ) %>%\n",
    "    mutate(\n",
    "        generic_comp = factor(\n",
    "            generic_comp,\n",
    "            levels = c(\"League\", \"FA Cup\", \"League Cup\", \"Associate Members' Cup\", \"Anglo-Italian Cup\", \"Full Members' Cup\", \"FA Trophy\")\n",
    "        ),\n",
    "        role = factor(\n",
    "            role,\n",
    "            levels = c(\"starter\", \"sub\", \"goals\")\n",
    "        )\n",
    "    ) %>%\n",
    "    left_join(\n",
    "        pl_ssns %>% select(season, player_name, disam_name) %>% unique(),\n",
    "        by = c(\"season\" = \"season\", \"player_name\" = \"player_name\")\n",
    "    ) %>%\n",
    "    arrange(\n",
    "        season,\n",
    "        disam_name\n",
    "    ) %>%\n",
    "    pivot_wider(\n",
    "        id_cols = c(season, generic_comp, role),\n",
    "        names_from = disam_name,\n",
    "        values_from = count,\n",
    "        values_fill = 0\n",
    "    ) %>%\n",
    "    arrange(\n",
    "        season,\n",
    "        generic_comp,\n",
    "        role\n",
    "    )"
   ]
  },
  {
   "cell_type": "code",
   "execution_count": 41,
   "metadata": {
    "vscode": {
     "languageId": "r"
    }
   },
   "outputs": [
    {
     "data": {
      "text/html": [
       "<table class=\"dataframe\">\n",
       "<caption>A tibble: 8 × 1</caption>\n",
       "<thead>\n",
       "\t<tr><th scope=col>generic_comp</th></tr>\n",
       "\t<tr><th scope=col>&lt;chr&gt;</th></tr>\n",
       "</thead>\n",
       "<tbody>\n",
       "\t<tr><td>Football League       </td></tr>\n",
       "\t<tr><td>Associate Members' Cup</td></tr>\n",
       "\t<tr><td>FA Cup                </td></tr>\n",
       "\t<tr><td>League Cup            </td></tr>\n",
       "\t<tr><td>Non-League            </td></tr>\n",
       "\t<tr><td>FA Trophy             </td></tr>\n",
       "\t<tr><td>Anglo-Italian Cup     </td></tr>\n",
       "\t<tr><td>Full Members' Cup     </td></tr>\n",
       "</tbody>\n",
       "</table>\n"
      ],
      "text/latex": [
       "A tibble: 8 × 1\n",
       "\\begin{tabular}{l}\n",
       " generic\\_comp\\\\\n",
       " <chr>\\\\\n",
       "\\hline\n",
       "\t Football League       \\\\\n",
       "\t Associate Members' Cup\\\\\n",
       "\t FA Cup                \\\\\n",
       "\t League Cup            \\\\\n",
       "\t Non-League            \\\\\n",
       "\t FA Trophy             \\\\\n",
       "\t Anglo-Italian Cup     \\\\\n",
       "\t Full Members' Cup     \\\\\n",
       "\\end{tabular}\n"
      ],
      "text/markdown": [
       "\n",
       "A tibble: 8 × 1\n",
       "\n",
       "| generic_comp &lt;chr&gt; |\n",
       "|---|\n",
       "| Football League        |\n",
       "| Associate Members' Cup |\n",
       "| FA Cup                 |\n",
       "| League Cup             |\n",
       "| Non-League             |\n",
       "| FA Trophy              |\n",
       "| Anglo-Italian Cup      |\n",
       "| Full Members' Cup      |\n",
       "\n"
      ],
      "text/plain": [
       "  generic_comp          \n",
       "1 Football League       \n",
       "2 Associate Members' Cup\n",
       "3 FA Cup                \n",
       "4 League Cup            \n",
       "5 Non-League            \n",
       "6 FA Trophy             \n",
       "7 Anglo-Italian Cup     \n",
       "8 Full Members' Cup     "
      ]
     },
     "metadata": {},
     "output_type": "display_data"
    }
   ],
   "source": [
    "res %>% filter(season > 1988) %>% select(generic_comp) %>% unique()"
   ]
  },
  {
   "cell_type": "code",
   "execution_count": null,
   "metadata": {
    "vscode": {
     "languageId": "r"
    }
   },
   "outputs": [],
   "source": []
  }
 ],
 "metadata": {
  "kernelspec": {
   "display_name": "R",
   "language": "R",
   "name": "ir"
  },
  "language_info": {
   "codemirror_mode": "r",
   "file_extension": ".r",
   "mimetype": "text/x-r-source",
   "name": "R",
   "pygments_lexer": "r",
   "version": "4.3.0"
  },
  "orig_nbformat": 4
 },
 "nbformat": 4,
 "nbformat_minor": 2
}
