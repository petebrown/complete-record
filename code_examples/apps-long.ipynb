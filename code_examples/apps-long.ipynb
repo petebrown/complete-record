{
 "cells": [
  {
   "attachments": {},
   "cell_type": "markdown",
   "metadata": {},
   "source": [
    "# `apps_long.csv`"
   ]
  },
  {
   "cell_type": "code",
   "execution_count": 77,
   "metadata": {
    "vscode": {
     "languageId": "r"
    }
   },
   "outputs": [],
   "source": [
    "library(dplyr)\n",
    "library(readr)\n",
    "library(tidyr)\n",
    "\n",
    "cr_apps <- read_csv(\"../output/apps_long.csv\", show_col_types = FALSE)\n",
    "\n",
    "pl_ssns <- read_csv(\"../output/player_ssns.csv\", show_col_types = FALSE)\n",
    "\n",
    "gls <- read_csv(\"../output/scorers-long.csv\", show_col_types = FALSE) %>%\n",
    "    group_by(\n",
    "        season,\n",
    "        game_no,\n",
    "        player_name\n",
    "    ) %>%\n",
    "    summarise(\n",
    "        goals_scored = sum(goals_scored),\n",
    "        .groups = \"drop\"\n",
    "    )\n",
    "\n",
    "res <- read_csv(\"https://raw.githubusercontent.com/petebrown/update-results/main/data/results_df.csv\", show_col_types = FALSE)"
   ]
  },
  {
   "cell_type": "code",
   "execution_count": 78,
   "metadata": {
    "vscode": {
     "languageId": "r"
    }
   },
   "outputs": [
    {
     "data": {
      "text/html": [
       "<table class=\"dataframe\">\n",
       "<caption>A tibble: 3 x 2</caption>\n",
       "<thead>\n",
       "\t<tr><th scope=col>game_id</th><th scope=col>game_date</th></tr>\n",
       "\t<tr><th scope=col>&lt;dbl&gt;</th><th scope=col>&lt;date&gt;</th></tr>\n",
       "</thead>\n",
       "<tbody>\n",
       "\t<tr><td>240309</td><td>1996-08-17</td></tr>\n",
       "\t<tr><td>243200</td><td>1996-08-21</td></tr>\n",
       "\t<tr><td>242383</td><td>1996-08-23</td></tr>\n",
       "</tbody>\n",
       "</table>\n"
      ],
      "text/latex": [
       "A tibble: 3 x 2\n",
       "\\begin{tabular}{ll}\n",
       " game\\_id & game\\_date\\\\\n",
       " <dbl> & <date>\\\\\n",
       "\\hline\n",
       "\t 240309 & 1996-08-17\\\\\n",
       "\t 243200 & 1996-08-21\\\\\n",
       "\t 242383 & 1996-08-23\\\\\n",
       "\\end{tabular}\n"
      ],
      "text/markdown": [
       "\n",
       "A tibble: 3 x 2\n",
       "\n",
       "| game_id &lt;dbl&gt; | game_date &lt;date&gt; |\n",
       "|---|---|\n",
       "| 240309 | 1996-08-17 |\n",
       "| 243200 | 1996-08-21 |\n",
       "| 242383 | 1996-08-23 |\n",
       "\n"
      ],
      "text/plain": [
       "  game_id game_date \n",
       "1 240309  1996-08-17\n",
       "2 243200  1996-08-21\n",
       "3 242383  1996-08-23"
      ]
     },
     "metadata": {},
     "output_type": "display_data"
    }
   ],
   "source": [
    "library(stringr)\n",
    "\n",
    "sb_game_ids <- read_csv(\"https://raw.githubusercontent.com/petebrown/update-player-stats/main/data/players_df.csv\", show_col_types = FALSE) %>%\n",
    "    select(\n",
    "        sb_game_id,\n",
    "        game_date        \n",
    "    ) %>%\n",
    "    rename(\n",
    "        game_id = sb_game_id\n",
    "    ) %>%\n",
    "    mutate(\n",
    "        game_id = str_remove(game_id, \"tpg\"),\n",
    "        game_id = as.numeric(game_id)\n",
    "    ) %>%\n",
    "    unique() %>%\n",
    "    arrange(\n",
    "        game_date\n",
    "    )\n",
    "\n",
    "head(sb_game_ids, 3)"
   ]
  },
  {
   "attachments": {},
   "cell_type": "markdown",
   "metadata": {},
   "source": [
    "#### Pivot apps_long to wide format mimicking book"
   ]
  },
  {
   "cell_type": "code",
   "execution_count": 79,
   "metadata": {
    "vscode": {
     "languageId": "r"
    }
   },
   "outputs": [
    {
     "data": {
      "text/html": [
       "<table class=\"dataframe\">\n",
       "<caption>A tibble: 7 x 5</caption>\n",
       "<thead>\n",
       "\t<tr><th scope=col>season</th><th scope=col>player_name</th><th scope=col>generic_comp</th><th scope=col>role</th><th scope=col>count</th></tr>\n",
       "\t<tr><th scope=col>&lt;chr&gt;</th><th scope=col>&lt;chr&gt;</th><th scope=col>&lt;chr&gt;</th><th scope=col>&lt;chr&gt;</th><th scope=col>&lt;int&gt;</th></tr>\n",
       "</thead>\n",
       "<tbody>\n",
       "\t<tr><td>1992/93</td><td>Johnny Morrissey</td><td>Anglo-Italian Cup</td><td>starter</td><td> 6</td></tr>\n",
       "\t<tr><td>1992/93</td><td>Johnny Morrissey</td><td>FA Cup           </td><td>starter</td><td> 3</td></tr>\n",
       "\t<tr><td>1992/93</td><td>Johnny Morrissey</td><td>Football League  </td><td>starter</td><td>42</td></tr>\n",
       "\t<tr><td>1992/93</td><td>Johnny Morrissey</td><td>Football League  </td><td>sub    </td><td> 1</td></tr>\n",
       "\t<tr><td>1992/93</td><td>Johnny Morrissey</td><td>League Cup       </td><td>starter</td><td> 1</td></tr>\n",
       "\t<tr><td>1992/93</td><td>Johnny Morrissey</td><td>League Cup       </td><td>sub    </td><td> 1</td></tr>\n",
       "\t<tr><td>1992/93</td><td>Johnny Morrissey</td><td>League Play-Off  </td><td>starter</td><td> 2</td></tr>\n",
       "</tbody>\n",
       "</table>\n"
      ],
      "text/latex": [
       "A tibble: 7 x 5\n",
       "\\begin{tabular}{lllll}\n",
       " season & player\\_name & generic\\_comp & role & count\\\\\n",
       " <chr> & <chr> & <chr> & <chr> & <int>\\\\\n",
       "\\hline\n",
       "\t 1992/93 & Johnny Morrissey & Anglo-Italian Cup & starter &  6\\\\\n",
       "\t 1992/93 & Johnny Morrissey & FA Cup            & starter &  3\\\\\n",
       "\t 1992/93 & Johnny Morrissey & Football League   & starter & 42\\\\\n",
       "\t 1992/93 & Johnny Morrissey & Football League   & sub     &  1\\\\\n",
       "\t 1992/93 & Johnny Morrissey & League Cup        & starter &  1\\\\\n",
       "\t 1992/93 & Johnny Morrissey & League Cup        & sub     &  1\\\\\n",
       "\t 1992/93 & Johnny Morrissey & League Play-Off   & starter &  2\\\\\n",
       "\\end{tabular}\n"
      ],
      "text/markdown": [
       "\n",
       "A tibble: 7 x 5\n",
       "\n",
       "| season &lt;chr&gt; | player_name &lt;chr&gt; | generic_comp &lt;chr&gt; | role &lt;chr&gt; | count &lt;int&gt; |\n",
       "|---|---|---|---|---|\n",
       "| 1992/93 | Johnny Morrissey | Anglo-Italian Cup | starter |  6 |\n",
       "| 1992/93 | Johnny Morrissey | FA Cup            | starter |  3 |\n",
       "| 1992/93 | Johnny Morrissey | Football League   | starter | 42 |\n",
       "| 1992/93 | Johnny Morrissey | Football League   | sub     |  1 |\n",
       "| 1992/93 | Johnny Morrissey | League Cup        | starter |  1 |\n",
       "| 1992/93 | Johnny Morrissey | League Cup        | sub     |  1 |\n",
       "| 1992/93 | Johnny Morrissey | League Play-Off   | starter |  2 |\n",
       "\n"
      ],
      "text/plain": [
       "  season  player_name      generic_comp      role    count\n",
       "1 1992/93 Johnny Morrissey Anglo-Italian Cup starter  6   \n",
       "2 1992/93 Johnny Morrissey FA Cup            starter  3   \n",
       "3 1992/93 Johnny Morrissey Football League   starter 42   \n",
       "4 1992/93 Johnny Morrissey Football League   sub      1   \n",
       "5 1992/93 Johnny Morrissey League Cup        starter  1   \n",
       "6 1992/93 Johnny Morrissey League Cup        sub      1   \n",
       "7 1992/93 Johnny Morrissey League Play-Off   starter  2   "
      ]
     },
     "metadata": {},
     "output_type": "display_data"
    }
   ],
   "source": [
    "apps_long <- cr_apps %>%\n",
    "    left_join(\n",
    "        pl_ssns %>%\n",
    "            select(\n",
    "                season,\n",
    "                disam_name,\n",
    "                player_name\n",
    "            ) %>% unique(),\n",
    "        by = c(\"season\" = \"season\", \"player_name\" = \"disam_name\")\n",
    "    ) %>%\n",
    "    mutate(\n",
    "        player_name = player_name.y\n",
    "    ) %>%\n",
    "    select(-player_name.y) %>%\n",
    "    left_join(\n",
    "        gls,\n",
    "        by = c(\"season\" = \"season\", \"game_no\" = \"game_no\", \"player_name\" = \"player_name\")\n",
    "    ) %>%\n",
    "    left_join(\n",
    "        res %>%\n",
    "            select(\n",
    "                season,\n",
    "                ssn_game_no,\n",
    "                generic_comp,\n",
    "                competition\n",
    "            ),\n",
    "        by = c(\"season\" = \"season\", \"game_no\" = \"ssn_game_no\")\n",
    "    ) %>%\n",
    "    mutate(\n",
    "        generic_comp = ifelse(str_detect(competition, \"lay\"), \"League Play-Off\", generic_comp)\n",
    "    ) %>%\n",
    "    group_by(\n",
    "        season,\n",
    "        player_name,\n",
    "        generic_comp,\n",
    "        role\n",
    "    ) %>%\n",
    "    summarise(\n",
    "        count = n(),\n",
    "        .groups = \"drop\"\n",
    "    )\n",
    "\n",
    "# Print example for one season and player\n",
    "apps_long %>%\n",
    "    filter(\n",
    "        season == \"1992/93\",\n",
    "        player_name == \"Johnny Morrissey\"\n",
    "    )    "
   ]
  },
  {
   "cell_type": "code",
   "execution_count": 80,
   "metadata": {
    "vscode": {
     "languageId": "r"
    }
   },
   "outputs": [
    {
     "data": {
      "text/html": [
       "<table class=\"dataframe\">\n",
       "<caption>A tibble: 5 x 5</caption>\n",
       "<thead>\n",
       "\t<tr><th scope=col>season</th><th scope=col>player_name</th><th scope=col>generic_comp</th><th scope=col>count</th><th scope=col>role</th></tr>\n",
       "\t<tr><th scope=col>&lt;chr&gt;</th><th scope=col>&lt;chr&gt;</th><th scope=col>&lt;chr&gt;</th><th scope=col>&lt;dbl&gt;</th><th scope=col>&lt;chr&gt;</th></tr>\n",
       "</thead>\n",
       "<tbody>\n",
       "\t<tr><td>1992/93</td><td>John Aldridge</td><td>Anglo-Italian Cup</td><td> 2</td><td>goals</td></tr>\n",
       "\t<tr><td>1992/93</td><td>John Aldridge</td><td>FA Cup           </td><td> 1</td><td>goals</td></tr>\n",
       "\t<tr><td>1992/93</td><td>John Aldridge</td><td>Football League  </td><td>21</td><td>goals</td></tr>\n",
       "\t<tr><td>1992/93</td><td>John Aldridge</td><td>League Cup       </td><td> 2</td><td>goals</td></tr>\n",
       "\t<tr><td>1992/93</td><td>John Aldridge</td><td>League Play-Off  </td><td> 0</td><td>goals</td></tr>\n",
       "</tbody>\n",
       "</table>\n"
      ],
      "text/latex": [
       "A tibble: 5 x 5\n",
       "\\begin{tabular}{lllll}\n",
       " season & player\\_name & generic\\_comp & count & role\\\\\n",
       " <chr> & <chr> & <chr> & <dbl> & <chr>\\\\\n",
       "\\hline\n",
       "\t 1992/93 & John Aldridge & Anglo-Italian Cup &  2 & goals\\\\\n",
       "\t 1992/93 & John Aldridge & FA Cup            &  1 & goals\\\\\n",
       "\t 1992/93 & John Aldridge & Football League   & 21 & goals\\\\\n",
       "\t 1992/93 & John Aldridge & League Cup        &  2 & goals\\\\\n",
       "\t 1992/93 & John Aldridge & League Play-Off   &  0 & goals\\\\\n",
       "\\end{tabular}\n"
      ],
      "text/markdown": [
       "\n",
       "A tibble: 5 x 5\n",
       "\n",
       "| season &lt;chr&gt; | player_name &lt;chr&gt; | generic_comp &lt;chr&gt; | count &lt;dbl&gt; | role &lt;chr&gt; |\n",
       "|---|---|---|---|---|\n",
       "| 1992/93 | John Aldridge | Anglo-Italian Cup |  2 | goals |\n",
       "| 1992/93 | John Aldridge | FA Cup            |  1 | goals |\n",
       "| 1992/93 | John Aldridge | Football League   | 21 | goals |\n",
       "| 1992/93 | John Aldridge | League Cup        |  2 | goals |\n",
       "| 1992/93 | John Aldridge | League Play-Off   |  0 | goals |\n",
       "\n"
      ],
      "text/plain": [
       "  season  player_name   generic_comp      count role \n",
       "1 1992/93 John Aldridge Anglo-Italian Cup  2    goals\n",
       "2 1992/93 John Aldridge FA Cup             1    goals\n",
       "3 1992/93 John Aldridge Football League   21    goals\n",
       "4 1992/93 John Aldridge League Cup         2    goals\n",
       "5 1992/93 John Aldridge League Play-Off    0    goals"
      ]
     },
     "metadata": {},
     "output_type": "display_data"
    }
   ],
   "source": [
    "gls_long <- cr_apps %>%\n",
    "    left_join(\n",
    "        pl_ssns %>%\n",
    "            select(\n",
    "                season,\n",
    "                disam_name,\n",
    "                player_name\n",
    "            ) %>% unique(),\n",
    "        by = c(\"season\" = \"season\", \"player_name\" = \"disam_name\")\n",
    "    ) %>%\n",
    "    mutate(\n",
    "        player_name = player_name.y\n",
    "    ) %>%\n",
    "    select(-player_name.y) %>%\n",
    "    left_join(\n",
    "        gls %>%\n",
    "            select(\n",
    "                season,\n",
    "                game_no,\n",
    "                player_name,\n",
    "                goals_scored\n",
    "            ),\n",
    "        by = c(\"season\", \"game_no\", \"player_name\")\n",
    "    ) %>%\n",
    "    select(\n",
    "        season,\n",
    "        game_no,\n",
    "        player_name,,\n",
    "        goals_scored\n",
    "    ) %>%\n",
    "    left_join(\n",
    "        res %>%\n",
    "            select(\n",
    "                season,\n",
    "                ssn_game_no,\n",
    "                generic_comp,\n",
    "                competition\n",
    "            ),\n",
    "        by = c(\"season\" = \"season\", \"game_no\" = \"ssn_game_no\")\n",
    "    ) %>%\n",
    "    mutate(\n",
    "        goals_scored = ifelse(is.na(goals_scored), 0, goals_scored),\n",
    "        generic_comp = ifelse(str_detect(competition, \"lay\"), \"League Play-Off\", generic_comp)\n",
    "    ) %>%\n",
    "    group_by(\n",
    "        season,\n",
    "        player_name,\n",
    "        generic_comp\n",
    "    ) %>%\n",
    "    summarise(\n",
    "        count = sum(goals_scored),\n",
    "        .groups = \"drop\"\n",
    "    ) %>%\n",
    "    mutate(\n",
    "        role = \"goals\"\n",
    "    )\n",
    "\n",
    "# Print example for one season and player\n",
    "gls_long %>%\n",
    "    filter(\n",
    "        season == \"1992/93\",\n",
    "        player_name == \"John Aldridge\"\n",
    "    )"
   ]
  },
  {
   "cell_type": "code",
   "execution_count": 81,
   "metadata": {
    "vscode": {
     "languageId": "r"
    }
   },
   "outputs": [],
   "source": [
    "# Change options so all columns show for season\n",
    "options(repr.matrix.max.cols=50, repr.matrix.max.rows=100)"
   ]
  },
  {
   "cell_type": "code",
   "execution_count": 82,
   "metadata": {
    "vscode": {
     "languageId": "r"
    }
   },
   "outputs": [
    {
     "data": {
      "text/html": [
       "<table class=\"dataframe\">\n",
       "<caption>A tibble: 15 x 26</caption>\n",
       "<thead>\n",
       "\t<tr><th scope=col>season</th><th scope=col>generic_comp</th><th scope=col>role</th><th scope=col>Aldridge</th><th scope=col>Branch</th><th scope=col>Brannan</th><th scope=col>Cooper</th><th scope=col>Coyne D</th><th scope=col>Coyne T</th><th scope=col>Garnett</th><th scope=col>Higgins</th><th scope=col>Hughes</th><th scope=col>Irons</th><th scope=col>Malkin</th><th scope=col>Martindale</th><th scope=col>McGreal</th><th scope=col>McNab</th><th scope=col>Morrissey</th><th scope=col>Muir</th><th scope=col>Mungall</th><th scope=col>Nevin</th><th scope=col>Nixon</th><th scope=col>Nolan</th><th scope=col>Proctor</th><th scope=col>Thomas</th><th scope=col>Vickers</th></tr>\n",
       "\t<tr><th scope=col>&lt;chr&gt;</th><th scope=col>&lt;fct&gt;</th><th scope=col>&lt;fct&gt;</th><th scope=col>&lt;dbl&gt;</th><th scope=col>&lt;dbl&gt;</th><th scope=col>&lt;dbl&gt;</th><th scope=col>&lt;dbl&gt;</th><th scope=col>&lt;dbl&gt;</th><th scope=col>&lt;dbl&gt;</th><th scope=col>&lt;dbl&gt;</th><th scope=col>&lt;dbl&gt;</th><th scope=col>&lt;dbl&gt;</th><th scope=col>&lt;dbl&gt;</th><th scope=col>&lt;dbl&gt;</th><th scope=col>&lt;dbl&gt;</th><th scope=col>&lt;dbl&gt;</th><th scope=col>&lt;dbl&gt;</th><th scope=col>&lt;dbl&gt;</th><th scope=col>&lt;dbl&gt;</th><th scope=col>&lt;dbl&gt;</th><th scope=col>&lt;dbl&gt;</th><th scope=col>&lt;dbl&gt;</th><th scope=col>&lt;dbl&gt;</th><th scope=col>&lt;dbl&gt;</th><th scope=col>&lt;dbl&gt;</th><th scope=col>&lt;dbl&gt;</th></tr>\n",
       "</thead>\n",
       "<tbody>\n",
       "\t<tr><td>1992/93</td><td>League           </td><td>starter</td><td>29</td><td>0</td><td>38</td><td>3</td><td>1</td><td>9</td><td>5</td><td>40</td><td>7</td><td>40</td><td>35</td><td>18</td><td>0</td><td>30</td><td>42</td><td>7</td><td>29</td><td>43</td><td>45</td><td>14</td><td>13</td><td>16</td><td>42</td></tr>\n",
       "\t<tr><td>1992/93</td><td>League           </td><td>sub    </td><td> 1</td><td>3</td><td> 0</td><td>3</td><td>0</td><td>3</td><td>0</td><td> 0</td><td>4</td><td> 2</td><td> 1</td><td> 8</td><td>0</td><td> 1</td><td> 1</td><td>4</td><td> 6</td><td> 0</td><td> 0</td><td> 0</td><td> 0</td><td> 0</td><td> 0</td></tr>\n",
       "\t<tr><td>1992/93</td><td>League           </td><td>goals  </td><td>21</td><td>0</td><td> 1</td><td>0</td><td>0</td><td>1</td><td>1</td><td> 4</td><td>0</td><td> 7</td><td> 7</td><td> 2</td><td>0</td><td> 2</td><td> 5</td><td>2</td><td> 3</td><td>13</td><td> 0</td><td> 0</td><td> 1</td><td> 0</td><td> 0</td></tr>\n",
       "\t<tr><td>1992/93</td><td>FA Cup           </td><td>starter</td><td> 2</td><td>0</td><td> 1</td><td>0</td><td>0</td><td>0</td><td>0</td><td> 2</td><td>1</td><td> 3</td><td> 3</td><td> 0</td><td>0</td><td> 3</td><td> 3</td><td>1</td><td> 3</td><td> 3</td><td> 3</td><td> 2</td><td> 0</td><td> 0</td><td> 3</td></tr>\n",
       "\t<tr><td>1992/93</td><td>FA Cup           </td><td>sub    </td><td> 0</td><td>0</td><td> 0</td><td>0</td><td>0</td><td>0</td><td>0</td><td> 0</td><td>1</td><td> 0</td><td> 0</td><td> 2</td><td>0</td><td> 0</td><td> 0</td><td>0</td><td> 0</td><td> 0</td><td> 0</td><td> 0</td><td> 0</td><td> 0</td><td> 0</td></tr>\n",
       "\t<tr><td>1992/93</td><td>FA Cup           </td><td>goals  </td><td> 1</td><td>0</td><td> 0</td><td>0</td><td>0</td><td>0</td><td>0</td><td> 0</td><td>0</td><td> 0</td><td> 0</td><td> 0</td><td>0</td><td> 0</td><td> 2</td><td>0</td><td> 0</td><td> 2</td><td> 0</td><td> 0</td><td> 0</td><td> 0</td><td> 1</td></tr>\n",
       "\t<tr><td>1992/93</td><td>League Cup       </td><td>starter</td><td> 2</td><td>0</td><td> 2</td><td>0</td><td>0</td><td>0</td><td>2</td><td> 0</td><td>2</td><td> 2</td><td> 2</td><td> 1</td><td>0</td><td> 1</td><td> 1</td><td>0</td><td> 0</td><td> 1</td><td> 2</td><td> 2</td><td> 0</td><td> 2</td><td> 0</td></tr>\n",
       "\t<tr><td>1992/93</td><td>League Cup       </td><td>sub    </td><td> 0</td><td>1</td><td> 0</td><td>0</td><td>0</td><td>0</td><td>0</td><td> 0</td><td>0</td><td> 0</td><td> 0</td><td> 0</td><td>0</td><td> 0</td><td> 1</td><td>2</td><td> 0</td><td> 0</td><td> 0</td><td> 0</td><td> 0</td><td> 0</td><td> 0</td></tr>\n",
       "\t<tr><td>1992/93</td><td>League Cup       </td><td>goals  </td><td> 2</td><td>0</td><td> 0</td><td>0</td><td>0</td><td>0</td><td>1</td><td> 0</td><td>0</td><td> 0</td><td> 0</td><td> 0</td><td>0</td><td> 0</td><td> 0</td><td>0</td><td> 0</td><td> 0</td><td> 0</td><td> 0</td><td> 0</td><td> 0</td><td> 0</td></tr>\n",
       "\t<tr><td>1992/93</td><td>Anglo-Italian Cup</td><td>starter</td><td> 5</td><td>0</td><td> 6</td><td>1</td><td>0</td><td>0</td><td>1</td><td> 4</td><td>2</td><td> 6</td><td> 4</td><td> 2</td><td>0</td><td> 5</td><td> 6</td><td>2</td><td> 5</td><td> 5</td><td> 6</td><td> 1</td><td> 0</td><td> 1</td><td> 4</td></tr>\n",
       "\t<tr><td>1992/93</td><td>Anglo-Italian Cup</td><td>sub    </td><td> 0</td><td>0</td><td> 0</td><td>1</td><td>0</td><td>0</td><td>0</td><td> 0</td><td>1</td><td> 0</td><td> 1</td><td> 0</td><td>1</td><td> 0</td><td> 0</td><td>2</td><td> 1</td><td> 0</td><td> 0</td><td> 0</td><td> 0</td><td> 0</td><td> 0</td></tr>\n",
       "\t<tr><td>1992/93</td><td>Anglo-Italian Cup</td><td>goals  </td><td> 2</td><td>0</td><td> 0</td><td>0</td><td>0</td><td>0</td><td>0</td><td> 0</td><td>0</td><td> 2</td><td> 1</td><td> 0</td><td>0</td><td> 0</td><td> 1</td><td>0</td><td> 0</td><td> 0</td><td> 0</td><td> 0</td><td> 0</td><td> 0</td><td> 0</td></tr>\n",
       "\t<tr><td>1992/93</td><td>League Play-Off  </td><td>starter</td><td> 2</td><td>0</td><td> 2</td><td>0</td><td>0</td><td>0</td><td>0</td><td> 2</td><td>0</td><td> 2</td><td> 2</td><td> 0</td><td>0</td><td> 0</td><td> 2</td><td>0</td><td> 0</td><td> 2</td><td> 2</td><td> 2</td><td> 2</td><td> 0</td><td> 2</td></tr>\n",
       "\t<tr><td>1992/93</td><td>League Play-Off  </td><td>sub    </td><td> 0</td><td>0</td><td> 0</td><td>0</td><td>0</td><td>2</td><td>0</td><td> 0</td><td>0</td><td> 0</td><td> 0</td><td> 0</td><td>0</td><td> 0</td><td> 0</td><td>0</td><td> 0</td><td> 0</td><td> 0</td><td> 0</td><td> 0</td><td> 0</td><td> 0</td></tr>\n",
       "\t<tr><td>1992/93</td><td>League Play-Off  </td><td>goals  </td><td> 0</td><td>0</td><td> 0</td><td>0</td><td>0</td><td>0</td><td>0</td><td> 0</td><td>0</td><td> 1</td><td> 0</td><td> 0</td><td>0</td><td> 0</td><td> 1</td><td>0</td><td> 0</td><td> 1</td><td> 0</td><td> 0</td><td> 1</td><td> 0</td><td> 0</td></tr>\n",
       "</tbody>\n",
       "</table>\n"
      ],
      "text/latex": [
       "A tibble: 15 x 26\n",
       "\\begin{tabular}{llllllllllllllllllllllllll}\n",
       " season & generic\\_comp & role & Aldridge & Branch & Brannan & Cooper & Coyne D & Coyne T & Garnett & Higgins & Hughes & Irons & Malkin & Martindale & McGreal & McNab & Morrissey & Muir & Mungall & Nevin & Nixon & Nolan & Proctor & Thomas & Vickers\\\\\n",
       " <chr> & <fct> & <fct> & <dbl> & <dbl> & <dbl> & <dbl> & <dbl> & <dbl> & <dbl> & <dbl> & <dbl> & <dbl> & <dbl> & <dbl> & <dbl> & <dbl> & <dbl> & <dbl> & <dbl> & <dbl> & <dbl> & <dbl> & <dbl> & <dbl> & <dbl>\\\\\n",
       "\\hline\n",
       "\t 1992/93 & League            & starter & 29 & 0 & 38 & 3 & 1 & 9 & 5 & 40 & 7 & 40 & 35 & 18 & 0 & 30 & 42 & 7 & 29 & 43 & 45 & 14 & 13 & 16 & 42\\\\\n",
       "\t 1992/93 & League            & sub     &  1 & 3 &  0 & 3 & 0 & 3 & 0 &  0 & 4 &  2 &  1 &  8 & 0 &  1 &  1 & 4 &  6 &  0 &  0 &  0 &  0 &  0 &  0\\\\\n",
       "\t 1992/93 & League            & goals   & 21 & 0 &  1 & 0 & 0 & 1 & 1 &  4 & 0 &  7 &  7 &  2 & 0 &  2 &  5 & 2 &  3 & 13 &  0 &  0 &  1 &  0 &  0\\\\\n",
       "\t 1992/93 & FA Cup            & starter &  2 & 0 &  1 & 0 & 0 & 0 & 0 &  2 & 1 &  3 &  3 &  0 & 0 &  3 &  3 & 1 &  3 &  3 &  3 &  2 &  0 &  0 &  3\\\\\n",
       "\t 1992/93 & FA Cup            & sub     &  0 & 0 &  0 & 0 & 0 & 0 & 0 &  0 & 1 &  0 &  0 &  2 & 0 &  0 &  0 & 0 &  0 &  0 &  0 &  0 &  0 &  0 &  0\\\\\n",
       "\t 1992/93 & FA Cup            & goals   &  1 & 0 &  0 & 0 & 0 & 0 & 0 &  0 & 0 &  0 &  0 &  0 & 0 &  0 &  2 & 0 &  0 &  2 &  0 &  0 &  0 &  0 &  1\\\\\n",
       "\t 1992/93 & League Cup        & starter &  2 & 0 &  2 & 0 & 0 & 0 & 2 &  0 & 2 &  2 &  2 &  1 & 0 &  1 &  1 & 0 &  0 &  1 &  2 &  2 &  0 &  2 &  0\\\\\n",
       "\t 1992/93 & League Cup        & sub     &  0 & 1 &  0 & 0 & 0 & 0 & 0 &  0 & 0 &  0 &  0 &  0 & 0 &  0 &  1 & 2 &  0 &  0 &  0 &  0 &  0 &  0 &  0\\\\\n",
       "\t 1992/93 & League Cup        & goals   &  2 & 0 &  0 & 0 & 0 & 0 & 1 &  0 & 0 &  0 &  0 &  0 & 0 &  0 &  0 & 0 &  0 &  0 &  0 &  0 &  0 &  0 &  0\\\\\n",
       "\t 1992/93 & Anglo-Italian Cup & starter &  5 & 0 &  6 & 1 & 0 & 0 & 1 &  4 & 2 &  6 &  4 &  2 & 0 &  5 &  6 & 2 &  5 &  5 &  6 &  1 &  0 &  1 &  4\\\\\n",
       "\t 1992/93 & Anglo-Italian Cup & sub     &  0 & 0 &  0 & 1 & 0 & 0 & 0 &  0 & 1 &  0 &  1 &  0 & 1 &  0 &  0 & 2 &  1 &  0 &  0 &  0 &  0 &  0 &  0\\\\\n",
       "\t 1992/93 & Anglo-Italian Cup & goals   &  2 & 0 &  0 & 0 & 0 & 0 & 0 &  0 & 0 &  2 &  1 &  0 & 0 &  0 &  1 & 0 &  0 &  0 &  0 &  0 &  0 &  0 &  0\\\\\n",
       "\t 1992/93 & League Play-Off   & starter &  2 & 0 &  2 & 0 & 0 & 0 & 0 &  2 & 0 &  2 &  2 &  0 & 0 &  0 &  2 & 0 &  0 &  2 &  2 &  2 &  2 &  0 &  2\\\\\n",
       "\t 1992/93 & League Play-Off   & sub     &  0 & 0 &  0 & 0 & 0 & 2 & 0 &  0 & 0 &  0 &  0 &  0 & 0 &  0 &  0 & 0 &  0 &  0 &  0 &  0 &  0 &  0 &  0\\\\\n",
       "\t 1992/93 & League Play-Off   & goals   &  0 & 0 &  0 & 0 & 0 & 0 & 0 &  0 & 0 &  1 &  0 &  0 & 0 &  0 &  1 & 0 &  0 &  1 &  0 &  0 &  1 &  0 &  0\\\\\n",
       "\\end{tabular}\n"
      ],
      "text/markdown": [
       "\n",
       "A tibble: 15 x 26\n",
       "\n",
       "| season &lt;chr&gt; | generic_comp &lt;fct&gt; | role &lt;fct&gt; | Aldridge &lt;dbl&gt; | Branch &lt;dbl&gt; | Brannan &lt;dbl&gt; | Cooper &lt;dbl&gt; | Coyne D &lt;dbl&gt; | Coyne T &lt;dbl&gt; | Garnett &lt;dbl&gt; | Higgins &lt;dbl&gt; | Hughes &lt;dbl&gt; | Irons &lt;dbl&gt; | Malkin &lt;dbl&gt; | Martindale &lt;dbl&gt; | McGreal &lt;dbl&gt; | McNab &lt;dbl&gt; | Morrissey &lt;dbl&gt; | Muir &lt;dbl&gt; | Mungall &lt;dbl&gt; | Nevin &lt;dbl&gt; | Nixon &lt;dbl&gt; | Nolan &lt;dbl&gt; | Proctor &lt;dbl&gt; | Thomas &lt;dbl&gt; | Vickers &lt;dbl&gt; |\n",
       "|---|---|---|---|---|---|---|---|---|---|---|---|---|---|---|---|---|---|---|---|---|---|---|---|---|---|\n",
       "| 1992/93 | League            | starter | 29 | 0 | 38 | 3 | 1 | 9 | 5 | 40 | 7 | 40 | 35 | 18 | 0 | 30 | 42 | 7 | 29 | 43 | 45 | 14 | 13 | 16 | 42 |\n",
       "| 1992/93 | League            | sub     |  1 | 3 |  0 | 3 | 0 | 3 | 0 |  0 | 4 |  2 |  1 |  8 | 0 |  1 |  1 | 4 |  6 |  0 |  0 |  0 |  0 |  0 |  0 |\n",
       "| 1992/93 | League            | goals   | 21 | 0 |  1 | 0 | 0 | 1 | 1 |  4 | 0 |  7 |  7 |  2 | 0 |  2 |  5 | 2 |  3 | 13 |  0 |  0 |  1 |  0 |  0 |\n",
       "| 1992/93 | FA Cup            | starter |  2 | 0 |  1 | 0 | 0 | 0 | 0 |  2 | 1 |  3 |  3 |  0 | 0 |  3 |  3 | 1 |  3 |  3 |  3 |  2 |  0 |  0 |  3 |\n",
       "| 1992/93 | FA Cup            | sub     |  0 | 0 |  0 | 0 | 0 | 0 | 0 |  0 | 1 |  0 |  0 |  2 | 0 |  0 |  0 | 0 |  0 |  0 |  0 |  0 |  0 |  0 |  0 |\n",
       "| 1992/93 | FA Cup            | goals   |  1 | 0 |  0 | 0 | 0 | 0 | 0 |  0 | 0 |  0 |  0 |  0 | 0 |  0 |  2 | 0 |  0 |  2 |  0 |  0 |  0 |  0 |  1 |\n",
       "| 1992/93 | League Cup        | starter |  2 | 0 |  2 | 0 | 0 | 0 | 2 |  0 | 2 |  2 |  2 |  1 | 0 |  1 |  1 | 0 |  0 |  1 |  2 |  2 |  0 |  2 |  0 |\n",
       "| 1992/93 | League Cup        | sub     |  0 | 1 |  0 | 0 | 0 | 0 | 0 |  0 | 0 |  0 |  0 |  0 | 0 |  0 |  1 | 2 |  0 |  0 |  0 |  0 |  0 |  0 |  0 |\n",
       "| 1992/93 | League Cup        | goals   |  2 | 0 |  0 | 0 | 0 | 0 | 1 |  0 | 0 |  0 |  0 |  0 | 0 |  0 |  0 | 0 |  0 |  0 |  0 |  0 |  0 |  0 |  0 |\n",
       "| 1992/93 | Anglo-Italian Cup | starter |  5 | 0 |  6 | 1 | 0 | 0 | 1 |  4 | 2 |  6 |  4 |  2 | 0 |  5 |  6 | 2 |  5 |  5 |  6 |  1 |  0 |  1 |  4 |\n",
       "| 1992/93 | Anglo-Italian Cup | sub     |  0 | 0 |  0 | 1 | 0 | 0 | 0 |  0 | 1 |  0 |  1 |  0 | 1 |  0 |  0 | 2 |  1 |  0 |  0 |  0 |  0 |  0 |  0 |\n",
       "| 1992/93 | Anglo-Italian Cup | goals   |  2 | 0 |  0 | 0 | 0 | 0 | 0 |  0 | 0 |  2 |  1 |  0 | 0 |  0 |  1 | 0 |  0 |  0 |  0 |  0 |  0 |  0 |  0 |\n",
       "| 1992/93 | League Play-Off   | starter |  2 | 0 |  2 | 0 | 0 | 0 | 0 |  2 | 0 |  2 |  2 |  0 | 0 |  0 |  2 | 0 |  0 |  2 |  2 |  2 |  2 |  0 |  2 |\n",
       "| 1992/93 | League Play-Off   | sub     |  0 | 0 |  0 | 0 | 0 | 2 | 0 |  0 | 0 |  0 |  0 |  0 | 0 |  0 |  0 | 0 |  0 |  0 |  0 |  0 |  0 |  0 |  0 |\n",
       "| 1992/93 | League Play-Off   | goals   |  0 | 0 |  0 | 0 | 0 | 0 | 0 |  0 | 0 |  1 |  0 |  0 | 0 |  0 |  1 | 0 |  0 |  1 |  0 |  0 |  1 |  0 |  0 |\n",
       "\n"
      ],
      "text/plain": [
       "   season  generic_comp      role    Aldridge Branch Brannan Cooper Coyne D\n",
       "1  1992/93 League            starter 29       0      38      3      1      \n",
       "2  1992/93 League            sub      1       3       0      3      0      \n",
       "3  1992/93 League            goals   21       0       1      0      0      \n",
       "4  1992/93 FA Cup            starter  2       0       1      0      0      \n",
       "5  1992/93 FA Cup            sub      0       0       0      0      0      \n",
       "6  1992/93 FA Cup            goals    1       0       0      0      0      \n",
       "7  1992/93 League Cup        starter  2       0       2      0      0      \n",
       "8  1992/93 League Cup        sub      0       1       0      0      0      \n",
       "9  1992/93 League Cup        goals    2       0       0      0      0      \n",
       "10 1992/93 Anglo-Italian Cup starter  5       0       6      1      0      \n",
       "11 1992/93 Anglo-Italian Cup sub      0       0       0      1      0      \n",
       "12 1992/93 Anglo-Italian Cup goals    2       0       0      0      0      \n",
       "13 1992/93 League Play-Off   starter  2       0       2      0      0      \n",
       "14 1992/93 League Play-Off   sub      0       0       0      0      0      \n",
       "15 1992/93 League Play-Off   goals    0       0       0      0      0      \n",
       "   Coyne T Garnett Higgins Hughes Irons Malkin Martindale McGreal McNab\n",
       "1  9       5       40      7      40    35     18         0       30   \n",
       "2  3       0        0      4       2     1      8         0        1   \n",
       "3  1       1        4      0       7     7      2         0        2   \n",
       "4  0       0        2      1       3     3      0         0        3   \n",
       "5  0       0        0      1       0     0      2         0        0   \n",
       "6  0       0        0      0       0     0      0         0        0   \n",
       "7  0       2        0      2       2     2      1         0        1   \n",
       "8  0       0        0      0       0     0      0         0        0   \n",
       "9  0       1        0      0       0     0      0         0        0   \n",
       "10 0       1        4      2       6     4      2         0        5   \n",
       "11 0       0        0      1       0     1      0         1        0   \n",
       "12 0       0        0      0       2     1      0         0        0   \n",
       "13 0       0        2      0       2     2      0         0        0   \n",
       "14 2       0        0      0       0     0      0         0        0   \n",
       "15 0       0        0      0       1     0      0         0        0   \n",
       "   Morrissey Muir Mungall Nevin Nixon Nolan Proctor Thomas Vickers\n",
       "1  42        7    29      43    45    14    13      16     42     \n",
       "2   1        4     6       0     0     0     0       0      0     \n",
       "3   5        2     3      13     0     0     1       0      0     \n",
       "4   3        1     3       3     3     2     0       0      3     \n",
       "5   0        0     0       0     0     0     0       0      0     \n",
       "6   2        0     0       2     0     0     0       0      1     \n",
       "7   1        0     0       1     2     2     0       2      0     \n",
       "8   1        2     0       0     0     0     0       0      0     \n",
       "9   0        0     0       0     0     0     0       0      0     \n",
       "10  6        2     5       5     6     1     0       1      4     \n",
       "11  0        2     1       0     0     0     0       0      0     \n",
       "12  1        0     0       0     0     0     0       0      0     \n",
       "13  2        0     0       2     2     2     2       0      2     \n",
       "14  0        0     0       0     0     0     0       0      0     \n",
       "15  1        0     0       1     0     0     1       0      0     "
      ]
     },
     "metadata": {},
     "output_type": "display_data"
    }
   ],
   "source": [
    "rbind(apps_long, gls_long) %>%\n",
    "    mutate(\n",
    "        generic_comp = ifelse(generic_comp %in% c(\"Football League\", \"Non-League\"), \"League\", generic_comp)\n",
    "    ) %>%\n",
    "    filter(\n",
    "        season == \"1992/93\"\n",
    "    ) %>%\n",
    "    mutate(\n",
    "        generic_comp = factor(\n",
    "            generic_comp,\n",
    "            levels = c(\"League\", \"FA Cup\", \"League Cup\", \"Associate Members' Cup\", \"Anglo-Italian Cup\", \"Full Members' Cup\", \"FA Trophy\", \"League Play-Off\")\n",
    "        ),\n",
    "        role = factor(\n",
    "            role,\n",
    "            levels = c(\"starter\", \"sub\", \"goals\")\n",
    "        )\n",
    "    ) %>%\n",
    "    left_join(\n",
    "        pl_ssns %>% select(season, player_name, disam_name) %>% unique(),\n",
    "        by = c(\"season\" = \"season\", \"player_name\" = \"player_name\")\n",
    "    ) %>%\n",
    "    arrange(\n",
    "        season,\n",
    "        disam_name\n",
    "    ) %>%\n",
    "    pivot_wider(\n",
    "        id_cols = c(season, generic_comp, role),\n",
    "        names_from = disam_name,\n",
    "        values_from = count,\n",
    "        values_fill = 0\n",
    "    ) %>%\n",
    "    arrange(\n",
    "        season,\n",
    "        generic_comp,\n",
    "        role\n",
    "    )"
   ]
  },
  {
   "cell_type": "code",
   "execution_count": null,
   "metadata": {
    "vscode": {
     "languageId": "r"
    }
   },
   "outputs": [],
   "source": []
  }
 ],
 "metadata": {
  "kernelspec": {
   "display_name": "R",
   "language": "R",
   "name": "ir"
  },
  "language_info": {
   "codemirror_mode": "r",
   "file_extension": ".r",
   "mimetype": "text/x-r-source",
   "name": "R",
   "pygments_lexer": "r",
   "version": "4.3.0"
  },
  "orig_nbformat": 4
 },
 "nbformat": 4,
 "nbformat_minor": 2
}
