{
 "cells": [
  {
   "cell_type": "code",
   "execution_count": 1,
   "metadata": {
    "vscode": {
     "languageId": "r"
    }
   },
   "outputs": [
    {
     "name": "stderr",
     "output_type": "stream",
     "text": [
      "── \u001b[1mAttaching core tidyverse packages\u001b[22m ──────────────────────── tidyverse 2.0.0 ──\n",
      "\u001b[32m✔\u001b[39m \u001b[34mdplyr    \u001b[39m 1.1.2     \u001b[32m✔\u001b[39m \u001b[34mreadr    \u001b[39m 2.1.4\n",
      "\u001b[32m✔\u001b[39m \u001b[34mforcats  \u001b[39m 1.0.0     \u001b[32m✔\u001b[39m \u001b[34mstringr  \u001b[39m 1.5.0\n",
      "\u001b[32m✔\u001b[39m \u001b[34mggplot2  \u001b[39m 3.4.2     \u001b[32m✔\u001b[39m \u001b[34mtibble   \u001b[39m 3.2.1\n",
      "\u001b[32m✔\u001b[39m \u001b[34mlubridate\u001b[39m 1.9.2     \u001b[32m✔\u001b[39m \u001b[34mtidyr    \u001b[39m 1.3.0\n",
      "\u001b[32m✔\u001b[39m \u001b[34mpurrr    \u001b[39m 1.0.1     \n",
      "── \u001b[1mConflicts\u001b[22m ────────────────────────────────────────── tidyverse_conflicts() ──\n",
      "\u001b[31m✖\u001b[39m \u001b[34mdplyr\u001b[39m::\u001b[32mfilter()\u001b[39m masks \u001b[34mstats\u001b[39m::filter()\n",
      "\u001b[31m✖\u001b[39m \u001b[34mdplyr\u001b[39m::\u001b[32mlag()\u001b[39m    masks \u001b[34mstats\u001b[39m::lag()\n",
      "\u001b[36mℹ\u001b[39m Use the conflicted package (\u001b[3m\u001b[34m<http://conflicted.r-lib.org/>\u001b[39m\u001b[23m) to force all conflicts to become errors\n"
     ]
    }
   ],
   "source": [
    "library(tidyverse)\n",
    "\n",
    "# Basic results_df without extra info\n",
    "results <- read_csv(\"https://raw.githubusercontent.com/petebrown/update-results/main/data/results_df.csv\", show_col_types = FALSE)\n",
    "\n",
    "# game_date and venue for join and wrangling\n",
    "game_dates <- read_csv(\"https://raw.githubusercontent.com/petebrown/update-results/main/data/results_df.csv\", show_col_types = FALSE) %>%\n",
    "    select(game_date, venue)\n",
    "\n",
    "# Extra infor for 2022/23 season\n",
    "s2223 <- read_csv(\"./input/2022-23.csv\", show_col_types = FALSE)\n",
    "# Extra info for seasons prior to 2022/23\n",
    "pre_2223 <- read_csv(\"https://raw.githubusercontent.com/petebrown/scrape-results-playwright/main/data/records.csv\", show_col_types = FALSE) %>%\n",
    "    filter(!game_date %in% s2223$game_date) %>%\n",
    "    mutate(\n",
    "        game_date = case_when(\n",
    "            .default = game_date,\n",
    "            game_date == \"03 Jan 1998\" ~ \"13 Jan 1998\",\n",
    "            game_date == \"05 Dec 1923\" ~ \"06 Dec 1923\",\n",
    "        )\n",
    "    )\n",
    "\n",
    "# Manually added extra info for games missing from 11v11\n",
    "missing_records <- read_csv(\"./input/2015-18-cup-games.csv\", show_col_types = FALSE)\n",
    "\n",
    "# create df containing extra details for all 11v11 games by binding pre_2223 and s2223\n",
    "df <- pre_2223 %>%\n",
    "    filter(!game_date %in% missing_records$game_date) %>%\n",
    "    rbind(s2223) %>%\n",
    "    mutate(game_date = as.Date(dmy(game_date)))"
   ]
  },
  {
   "cell_type": "code",
   "execution_count": 2,
   "metadata": {
    "vscode": {
     "languageId": "r"
    }
   },
   "outputs": [],
   "source": [
    "df_left <- results"
   ]
  },
  {
   "cell_type": "code",
   "execution_count": 3,
   "metadata": {
    "vscode": {
     "languageId": "r"
    }
   },
   "outputs": [],
   "source": [
    "df_right <- df %>%\n",
    "    inner_join(game_dates, by = \"game_date\") %>%\n",
    "    mutate(\n",
    "        ko_time = str_match(match_notes, \"(?:[Kk]ick[\\\\s|-][Oo]ff:\\\\s)(\\\\d+.\\\\d+[a|p]m)\")[,2],\n",
    "    ) %>%\n",
    "    mutate(\n",
    "        competition_2 = str_replace(competition_2, \"Associate Members' Cup\", \"Associate Members Cup\"),\n",
    "        competition_2 = str_replace(competition_2, \"Sherpa Van Trophy\", \"Sherpa Vans Trophy\"),\n",
    "        cup_stage = str_match(competition_2, str_glue(\"{competition}\\\\s(.*)\"))[,2],\n",
    "        cup_round_no = str_match(competition_2, \"(\\\\d+).*\\\\sround\")[,2],\n",
    "        cup_round = case_when(\n",
    "            str_detect(cup_stage, regex(\"quarter-final\", ignore_case = TRUE)) ~ \"QF\",\n",
    "            str_detect(cup_stage, regex(\"semi-final\", ignore_case = TRUE)) ~ \"SF\",\n",
    "            str_detect(cup_stage, regex(\"^final\", ignore_case = TRUE)) ~ \"F\",\n",
    "            str_detect(cup_stage, regex(\"preliminary\", ignore_case = TRUE)) ~ \"P\",\n",
    "            str_detect(cup_stage, regex(\"group\", ignore_case = TRUE)) ~ \"G\",\n",
    "            .default = cup_round_no\n",
    "        ),\n",
    "        cup_replay = case_when(\n",
    "            grepl(\"\\\\sreplay\", competition_2, ignore.case = TRUE) ~ 1,\n",
    "            TRUE ~ 0\n",
    "        ),\n",
    "        cup_section = case_when(\n",
    "            str_detect(cup_stage, regex(\"\\\\s([a-zA-Z]+)\\\\s[Ss]ection\")) ~ str_match(str_to_title(cup_stage), \"\\\\s([a-zA-Z]+)\\\\s[Ss]ection\")[,2],\n",
    "            str_detect(cup_stage, regex(\"Group\\\\s[a-zA-Z]\\\\s–\\\\s[a-zA-Z]+\")) ~ str_match(str_to_title(cup_stage), \"(Group\\\\s[a-zA-Z]\\\\s–\\\\s[a-zA-Z]+)\")[,2],\n",
    "            .default = NA\n",
    "        ),\n",
    "        cup_leg = str_match(competition_2, \"(\\\\d+)[a-zA-Z]+\\\\sleg\")[,2]\n",
    "    ) %>%\n",
    "    mutate(\n",
    "        extra_time = case_when(\n",
    "            grepl(\"after extra time\", match_notes, ignore.case = TRUE) ~ 1,\n",
    "            grepl(\"golden goal rule\", match_notes, ignore.case = TRUE) ~ 1,\n",
    "            TRUE ~ 0)\n",
    "    ) %>%\n",
    "    mutate(\n",
    "        penalties = case_when(\n",
    "            grepl(\"penalt\", score_2, ignore.case = TRUE) ~ str_match(score_2, \"(?:[Pp]enalties\\\\s)(\\\\d+-\\\\d+ to\\\\s.+)\"),\n",
    "            grepl(\"penalt\", match_notes, ignore.case = FALSE) ~ str_match(match_notes, \"(?:penalty\\\\sshoot[-|\\\\s]out\\\\s)\\\\((\\\\d+-\\\\d+)\\\\)\"),\n",
    "            grepl(\"PENALT\", match_notes, ignore.case = FALSE) ~ str_match(match_notes, \"(?:[^|\\\\|].+\\\\sWON\\\\s)(\\\\d+-\\\\d+)(?:\\\\sON\\\\sPENALTIES)\"),\n",
    "            .default = NA)[,2],\n",
    "        pen_winners = case_when(\n",
    "            grepl(\"\\\\d+-\\\\d+ to\", penalties, ignore.case = TRUE) ~ str_match(penalties, \"\\\\d+-\\\\d+\\\\sto\\\\s(.*)\")[,2],\n",
    "            grepl(\"were awarded a bonus point\", match_notes, ignore.case = TRUE) ~ str_match(match_notes, \",\\\\s(.*)\\\\swere\\\\sawarded\\\\sa\\\\sbonus\\\\spoint\")[,2],\n",
    "            grepl(\"won \\\\d+-\\\\d+ on penalties\", match_notes, ignore.case = TRUE) ~ str_match(str_to_title(match_notes), \"(([a-zA-Z]+\\\\s)?[a-zA-Z]+)\\\\sWon\\\\s\\\\d+-\\\\d+\\\\sOn\\\\sPenalties\")[,2],\n",
    "            TRUE ~ NA\n",
    "        ),\n",
    "        pen_score = case_when(\n",
    "            is.na(pen_winners) ~ NA,\n",
    "            !grepl(\"Tranmere\", pen_winners, ignore.case = TRUE) ~ paste0(str_match(penalties, \"-(\\\\d+)\")[,2], \"-\", str_match(penalties, \"(\\\\d+)-\")[,2]),\n",
    "            TRUE ~ str_match(penalties, \"(\\\\d+-\\\\d+)\")[,2]),\n",
    "        pen_outcome = case_when(\n",
    "            is.na(pen_winners) ~ NA,\n",
    "            grepl(\"Tranmere\", pen_winners, ignore.case = TRUE) ~ \"W\",\n",
    "            !grepl(\"Tranmere\", pen_winners, ignore.case = TRUE) ~ \"L\"\n",
    "        ),\n",
    "        pen_gf = case_when(\n",
    "            !is.na(pen_score) & venue == \"H\" ~ str_match(pen_score, \"(\\\\d+)-\")[,2],\n",
    "            !is.na(pen_score) & venue == \"A\" ~ str_match(pen_score, \"-(\\\\d+)\")[,2],\n",
    "            .default = NA\n",
    "        ),\n",
    "        pen_ga = case_when(\n",
    "            !is.na(pen_score) & venue == \"H\" ~ str_match(pen_score, \"-(\\\\d+)\")[,2],\n",
    "            !is.na(pen_score) & venue == \"A\" ~ str_match(pen_score, \"(\\\\d+)-\")[,2],\n",
    "            .default = NA\n",
    "        ),\n",
    "        pen_gf = as.numeric(pen_gf),\n",
    "        pen_ga = as.numeric(pen_ga),\n",
    "    ) %>%\n",
    "    mutate(\n",
    "        agg_score = case_when(\n",
    "            grepl(\"on aggregate\", match_notes, ignore.case = TRUE) ~ str_match(match_notes, \"(\\\\d+-\\\\d+)\\\\son\\\\saggregate\")[,2],\n",
    "            grepl(\"agg:\", score, ignore.case = TRUE) ~ str_match(score, \"[Aa]gg:\\\\s?(\\\\d+-\\\\d+)\")[,2],\n",
    "            .default = NA\n",
    "          ),\n",
    "        agg_winners = str_match(match_notes, \"(([a-zA-Z]+\\\\s)?[a-zA-Z]+)\\\\swon\\\\s\\\\d+-\\\\d+\\\\son\\\\saggregate\")[,2],\n",
    "        agg_outcome = case_when(\n",
    "            cup_leg == \"2\" & is.na(agg_winners) & !is.na(agg_score) ~ \"D\",\n",
    "            cup_leg == \"2\" & !is.na(agg_winners) & str_detect(agg_winners, regex(\"Tranmere\", ignore_case = TRUE)) ~ \"W\",\n",
    "            cup_leg == \"2\" & !is.na(agg_winners) & str_detect(agg_winners, regex(\"Tranmere\", ignore_case = TRUE), negate = TRUE) ~ \"L\",\n",
    "            .default = NA),\n",
    "        agg_score = case_when(\n",
    "            agg_outcome == \"D\" ~ agg_score,\n",
    "            agg_outcome == \"W\" ~ agg_score,\n",
    "            agg_outcome == \"L\" ~ paste0(str_sub(agg_score, 3, 3), \"-\", str_sub(agg_score, 1, 1)),\n",
    "            .default = NA\n",
    "        )\n",
    "    ) %>%\n",
    "    mutate(\n",
    "        away_goals_winner = str_match(match_notes, \"(([a-zA-Z]+\\\\s)?[a-zA-Z]+)\\\\swon\\\\son\\\\sthe\\\\saway\\\\sgoals\\\\srule\")[,2],\n",
    "        away_goal_outcome = case_when(\n",
    "            is.na(away_goals_winner) ~ NA,\n",
    "            grepl(\"Tranmere\", away_goals_winner, ignore.case = TRUE) ~ \"W\",\n",
    "            !grepl(\"Tranmere\", away_goals_winner, ignore.case = TRUE) ~ \"L\"\n",
    "        )\n",
    "    ) %>%\n",
    "    mutate(\n",
    "        gg_winner = str_match(match_notes, \"(([a-zA-Z]+\\\\s)?[a-zA-Z]+)\\\\sWON\\\\sON\\\\sTHE\\\\sGOLDEN\\\\sGOAL\\\\sRULE\")[,2],\n",
    "        gg_outcome = case_when(\n",
    "            is.na(gg_winner) ~ NA,\n",
    "            grepl(\"Tranmere\", gg_winner, ignore.case = TRUE) ~ \"W\",\n",
    "            !grepl(\"Tranmere\", gg_winner, ignore.case = TRUE) ~ \"L\"\n",
    "        )\n",
    "    ) %>%\n",
    "    mutate(\n",
    "        cup_leg = case_when(\n",
    "            !is.na(agg_outcome) & is.na(cup_leg) ~ \"2\",\n",
    "            .default = cup_leg\n",
    "        )\n",
    "    ) %>%\n",
    "    mutate(\n",
    "        agg_gf = case_when(\n",
    "            cup_leg == \"2\" & is.na(agg_winners) & !is.na(agg_score) & venue == \"H\" ~ str_match(agg_score, \"(\\\\d+)-\")[,2],\n",
    "            cup_leg == \"2\" & is.na(agg_winners) & !is.na(agg_score) & venue == \"A\" ~ str_match(agg_score, \"-(\\\\d+)\")[,2],\n",
    "            .default = NA\n",
    "        ),\n",
    "        agg_ga = case_when(\n",
    "            cup_leg == \"2\" & is.na(agg_winners) & !is.na(agg_score) & venue == \"H\" ~ str_match(agg_score, \"-(\\\\d+)\")[,2],\n",
    "            cup_leg == \"2\" & is.na(agg_winners) & !is.na(agg_score) & venue == \"A\" ~ str_match(agg_score, \"(\\\\d+)-\")[,2],\n",
    "            .default = NA\n",
    "        ),\n",
    "        agg_gf = as.numeric(agg_gf),\n",
    "        agg_ga = as.numeric(agg_ga),\n",
    "        agg_outcome = case_when(\n",
    "            agg_gf > agg_ga ~ \"W\",\n",
    "            agg_gf < agg_ga ~ \"L\",\n",
    "            agg_gf == agg_ga ~ \"D\",\n",
    "            .default = agg_outcome\n",
    "        ),\n",
    "        agg_score = case_when(\n",
    "            agg_outcome == \"W\" & venue == \"A\" ~ paste0(str_sub(agg_score, 3, 3), \"-\", str_sub(agg_score, 1, 1)),\n",
    "            .default = agg_score\n",
    "        ),\n",
    "    ) %>%\n",
    "    mutate(cup_leg = as.numeric(cup_leg)) %>%\n",
    "    select(\n",
    "        game_date,\n",
    "        ko_time,\n",
    "        cup_round, cup_leg, cup_stage, cup_replay, cup_section, \n",
    "        extra_time,\n",
    "        pen_outcome, pen_score, pen_gf, pen_ga,\n",
    "        agg_outcome, agg_score, agg_gf, agg_ga,\n",
    "        away_goal_outcome,\n",
    "        gg_outcome\n",
    "    )"
   ]
  },
  {
   "cell_type": "code",
   "execution_count": 4,
   "metadata": {
    "vscode": {
     "languageId": "r"
    }
   },
   "outputs": [],
   "source": [
    "df_right <- df_right %>%\n",
    "    bind_rows(missing_records)"
   ]
  },
  {
   "cell_type": "code",
   "execution_count": 5,
   "metadata": {
    "vscode": {
     "languageId": "r"
    }
   },
   "outputs": [],
   "source": [
    "df <- df_left %>%\n",
    "    left_join(df_right, by = \"game_date\") %>%\n",
    "    select(-secondary_score) %>%\n",
    "    arrange(desc(game_date))\n",
    "\n",
    "write_csv(df, \"results_df_extra.csv\", na = \"\")"
   ]
  },
  {
   "cell_type": "code",
   "execution_count": 6,
   "metadata": {
    "vscode": {
     "languageId": "r"
    }
   },
   "outputs": [],
   "source": [
    "extra_details <- df %>% select(names(df_right))\n",
    "\n",
    "write_csv(extra_details, \"extra_details.csv\", na = \"\")"
   ]
  },
  {
   "cell_type": "code",
   "execution_count": 7,
   "metadata": {
    "vscode": {
     "languageId": "r"
    }
   },
   "outputs": [
    {
     "data": {
      "text/html": [
       "<table class=\"dataframe\">\n",
       "<caption>A tibble: 6 × 5</caption>\n",
       "<thead>\n",
       "\t<tr><th scope=col>game_date</th><th scope=col>ko_time</th><th scope=col>ko_hr</th><th scope=col>ko_min</th><th scope=col>datetime</th></tr>\n",
       "\t<tr><th scope=col>&lt;date&gt;</th><th scope=col>&lt;chr&gt;</th><th scope=col>&lt;dbl&gt;</th><th scope=col>&lt;dbl&gt;</th><th scope=col>&lt;dttm&gt;</th></tr>\n",
       "</thead>\n",
       "<tbody>\n",
       "\t<tr><td>2023-05-08</td><td>12.30pm</td><td>12</td><td>30</td><td>2023-05-08 12:30:00</td></tr>\n",
       "\t<tr><td>2023-04-29</td><td>3.00pm </td><td>15</td><td> 0</td><td>2023-04-29 15:00:00</td></tr>\n",
       "\t<tr><td>2023-04-22</td><td>3.00pm </td><td>15</td><td> 0</td><td>2023-04-22 15:00:00</td></tr>\n",
       "\t<tr><td>2023-04-18</td><td>7.45pm </td><td>19</td><td>45</td><td>2023-04-18 19:45:00</td></tr>\n",
       "\t<tr><td>2023-04-15</td><td>3.00pm </td><td>15</td><td> 0</td><td>2023-04-15 15:00:00</td></tr>\n",
       "\t<tr><td>2023-04-10</td><td>3.00pm </td><td>15</td><td> 0</td><td>2023-04-10 15:00:00</td></tr>\n",
       "</tbody>\n",
       "</table>\n"
      ],
      "text/latex": [
       "A tibble: 6 × 5\n",
       "\\begin{tabular}{lllll}\n",
       " game\\_date & ko\\_time & ko\\_hr & ko\\_min & datetime\\\\\n",
       " <date> & <chr> & <dbl> & <dbl> & <dttm>\\\\\n",
       "\\hline\n",
       "\t 2023-05-08 & 12.30pm & 12 & 30 & 2023-05-08 12:30:00\\\\\n",
       "\t 2023-04-29 & 3.00pm  & 15 &  0 & 2023-04-29 15:00:00\\\\\n",
       "\t 2023-04-22 & 3.00pm  & 15 &  0 & 2023-04-22 15:00:00\\\\\n",
       "\t 2023-04-18 & 7.45pm  & 19 & 45 & 2023-04-18 19:45:00\\\\\n",
       "\t 2023-04-15 & 3.00pm  & 15 &  0 & 2023-04-15 15:00:00\\\\\n",
       "\t 2023-04-10 & 3.00pm  & 15 &  0 & 2023-04-10 15:00:00\\\\\n",
       "\\end{tabular}\n"
      ],
      "text/markdown": [
       "\n",
       "A tibble: 6 × 5\n",
       "\n",
       "| game_date &lt;date&gt; | ko_time &lt;chr&gt; | ko_hr &lt;dbl&gt; | ko_min &lt;dbl&gt; | datetime &lt;dttm&gt; |\n",
       "|---|---|---|---|---|\n",
       "| 2023-05-08 | 12.30pm | 12 | 30 | 2023-05-08 12:30:00 |\n",
       "| 2023-04-29 | 3.00pm  | 15 |  0 | 2023-04-29 15:00:00 |\n",
       "| 2023-04-22 | 3.00pm  | 15 |  0 | 2023-04-22 15:00:00 |\n",
       "| 2023-04-18 | 7.45pm  | 19 | 45 | 2023-04-18 19:45:00 |\n",
       "| 2023-04-15 | 3.00pm  | 15 |  0 | 2023-04-15 15:00:00 |\n",
       "| 2023-04-10 | 3.00pm  | 15 |  0 | 2023-04-10 15:00:00 |\n",
       "\n"
      ],
      "text/plain": [
       "  game_date  ko_time ko_hr ko_min datetime           \n",
       "1 2023-05-08 12.30pm 12    30     2023-05-08 12:30:00\n",
       "2 2023-04-29 3.00pm  15     0     2023-04-29 15:00:00\n",
       "3 2023-04-22 3.00pm  15     0     2023-04-22 15:00:00\n",
       "4 2023-04-18 7.45pm  19    45     2023-04-18 19:45:00\n",
       "5 2023-04-15 3.00pm  15     0     2023-04-15 15:00:00\n",
       "6 2023-04-10 3.00pm  15     0     2023-04-10 15:00:00"
      ]
     },
     "metadata": {},
     "output_type": "display_data"
    }
   ],
   "source": [
    "# create a new column in extra_details that converts the time in ko_time to 24 hours from hh.mm am/pm\n",
    "game_datetime <- extra_details %>%\n",
    "    mutate(\n",
    "        ko_hr = case_when(\n",
    "            grepl(\"am\", ko_time, ignore.case = TRUE) ~ str_match(ko_time, \"(\\\\d+)\\\\.\")[,2],\n",
    "            grepl(\"pm\", ko_time, ignore.case = TRUE) & str_match(ko_time, \"(\\\\d+)\\\\.\")[,2] == \"12\" ~ \"12\",\n",
    "            grepl(\"pm\", ko_time, ignore.case = TRUE) ~ as.character(as.numeric(str_match(ko_time, \"(\\\\d+)\\\\.\")[,2]) + 12)\n",
    "        ),\n",
    "        ko_min = str_match(ko_time, \"\\\\.(\\\\d+)\")[,2],\n",
    "        ko_hr = as.numeric(ko_hr),\n",
    "        ko_min = as.numeric(ko_min),\n",
    "        datetime = as.POSIXct(paste0(game_date, \" \", ko_hr, \":\", ko_min, \":00\"), format = \"%Y-%m-%d %H:%M:%S\")\n",
    "    ) %>%\n",
    "    select(game_date, ko_time, ko_hr, ko_min, datetime) %>%\n",
    "    filter(!is.na(datetime))\n",
    "    \n",
    "game_datetime %>%\n",
    "    head()"
   ]
  },
  {
   "cell_type": "code",
   "execution_count": 8,
   "metadata": {
    "vscode": {
     "languageId": "r"
    }
   },
   "outputs": [
    {
     "name": "stderr",
     "output_type": "stream",
     "text": [
      "Warning message:\n",
      "“\u001b[1m\u001b[22mUsing an external vector in selections was deprecated in tidyselect 1.1.0.\n",
      "\u001b[36mℹ\u001b[39m Please use `all_of()` or `any_of()` instead.\n",
      "  # Was:\n",
      "  data %>% select(cup_cols)\n",
      "\n",
      "  # Now:\n",
      "  data %>% select(all_of(cup_cols))\n",
      "\n",
      "See <https://tidyselect.r-lib.org/reference/faq-external-vector.html>.”\n"
     ]
    }
   ],
   "source": [
    "cup_cols <- names(extra_details %>% select(\"cup_round\": \"gg_outcome\") %>% select(-c(\"cup_replay\", \"extra_time\")))\n",
    "\n",
    "cup_details <- extra_details %>%\n",
    "    filter(if_any(cup_cols, ~!is.na(.)))\n",
    "\n",
    "write_csv(cup_details, \"cup_details.csv\", na = \"\")"
   ]
  },
  {
   "cell_type": "code",
   "execution_count": null,
   "metadata": {
    "vscode": {
     "languageId": "r"
    }
   },
   "outputs": [],
   "source": []
  }
 ],
 "metadata": {
  "kernelspec": {
   "display_name": "R",
   "language": "R",
   "name": "ir"
  },
  "language_info": {
   "codemirror_mode": "r",
   "file_extension": ".r",
   "mimetype": "text/x-r-source",
   "name": "R",
   "pygments_lexer": "r",
   "version": "4.3.0"
  },
  "orig_nbformat": 4
 },
 "nbformat": 4,
 "nbformat_minor": 2
}
